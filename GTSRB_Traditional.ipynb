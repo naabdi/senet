{
 "cells": [
  {
   "cell_type": "code",
   "execution_count": 1,
   "id": "6f30e1cc-7f3e-4bfa-b13f-d61ae0ae019d",
   "metadata": {
    "tags": []
   },
   "outputs": [
    {
     "name": "stderr",
     "output_type": "stream",
     "text": [
      "2023-02-10 17:39:30.436238: I tensorflow/core/platform/cpu_feature_guard.cc:193] This TensorFlow binary is optimized with oneAPI Deep Neural Network Library (oneDNN) to use the following CPU instructions in performance-critical operations:  AVX2 FMA\n",
      "To enable them in other operations, rebuild TensorFlow with the appropriate compiler flags.\n",
      "2023-02-10 17:39:30.564495: E tensorflow/stream_executor/cuda/cuda_blas.cc:2981] Unable to register cuBLAS factory: Attempting to register factory for plugin cuBLAS when one has already been registered\n",
      "2023-02-10 17:39:31.053369: W tensorflow/stream_executor/platform/default/dso_loader.cc:64] Could not load dynamic library 'libnvinfer.so.7'; dlerror: libnvinfer.so.7: cannot open shared object file: No such file or directory; LD_LIBRARY_PATH: :/home/nariman/anaconda3/envs/tf/lib/\n",
      "2023-02-10 17:39:31.053438: W tensorflow/stream_executor/platform/default/dso_loader.cc:64] Could not load dynamic library 'libnvinfer_plugin.so.7'; dlerror: libnvinfer_plugin.so.7: cannot open shared object file: No such file or directory; LD_LIBRARY_PATH: :/home/nariman/anaconda3/envs/tf/lib/\n",
      "2023-02-10 17:39:31.053445: W tensorflow/compiler/tf2tensorrt/utils/py_utils.cc:38] TF-TRT Warning: Cannot dlopen some TensorRT libraries. If you would like to use Nvidia GPU with TensorRT, please make sure the missing libraries mentioned above are installed properly.\n"
     ]
    }
   ],
   "source": [
    "from tensorflow import keras\n",
    "from models.densenet import create_densenet\n",
    "import tensorflow as tf\n",
    "import numpy as np\n",
    "from tensorflow.keras.metrics import CategoricalAccuracy\n",
    "import os\n",
    "from tensorflow.keras.preprocessing.image import ImageDataGenerator\n",
    "from utils import load_config\n",
    "from tensorflow.keras.preprocessing.image import load_img,img_to_array, ImageDataGenerator\n",
    "from tensorflow.keras.utils import to_categorical\n",
    "import pandas as pd\n",
    "from sklearn.metrics import accuracy_score\n",
    "from data_loader import get_loader\n",
    "from tensorflow.keras.models import load_model\n",
    "from models.stn import BilinearInterpolation,Localization\n",
    "from models.distances import Weighted_Euclidean_Distance\n",
    "from tensorflow import image"
   ]
  },
  {
   "cell_type": "code",
   "execution_count": 2,
   "id": "2c69a8a3-8e38-4258-a1fd-8166dcca1b4e",
   "metadata": {
    "tags": []
   },
   "outputs": [],
   "source": [
    "input_shape = (64,64,3)"
   ]
  },
  {
   "cell_type": "code",
   "execution_count": 3,
   "id": "557c7e45-2baf-4320-b62f-5df1a41f2a7c",
   "metadata": {
    "tags": []
   },
   "outputs": [
    {
     "name": "stderr",
     "output_type": "stream",
     "text": [
      "2023-02-10 17:39:32.817940: I tensorflow/core/platform/cpu_feature_guard.cc:193] This TensorFlow binary is optimized with oneAPI Deep Neural Network Library (oneDNN) to use the following CPU instructions in performance-critical operations:  AVX2 FMA\n",
      "To enable them in other operations, rebuild TensorFlow with the appropriate compiler flags.\n",
      "2023-02-10 17:39:33.275018: I tensorflow/core/common_runtime/gpu/gpu_device.cc:1616] Created device /job:localhost/replica:0/task:0/device:GPU:0 with 9941 MB memory:  -> device: 0, name: NVIDIA GeForce RTX 3060, pci bus id: 0000:01:00.0, compute capability: 8.6\n"
     ]
    }
   ],
   "source": [
    "encoder = create_densenet(input_shape=input_shape)"
   ]
  },
  {
   "cell_type": "code",
   "execution_count": 4,
   "id": "4d9b8331-15a6-4592-be6b-3cee3b5fd88d",
   "metadata": {
    "tags": []
   },
   "outputs": [],
   "source": [
    "def standardize(img):\n",
    "    mean = np.mean(img)\n",
    "    std = np.std(img)\n",
    "    return (img-mean)/std#return img /255.0"
   ]
  },
  {
   "cell_type": "code",
   "execution_count": 5,
   "id": "6d42edde-61e2-4ee3-8ef9-a5123563160d",
   "metadata": {
    "tags": []
   },
   "outputs": [
    {
     "name": "stdout",
     "output_type": "stream",
     "text": [
      "Found 39209 images belonging to 43 classes.\n"
     ]
    }
   ],
   "source": [
    "datapath = 'datasets/GTSRB/all'\n",
    "tr_datagen = ImageDataGenerator(preprocessing_function=standardize)\n",
    "train_gen = tr_datagen.flow_from_directory(datapath,batch_size=512,class_mode='categorical',target_size=(64,64))"
   ]
  },
  {
   "cell_type": "code",
   "execution_count": 6,
   "id": "79a56ada-91c9-4981-93f5-e586317be1e7",
   "metadata": {
    "tags": []
   },
   "outputs": [],
   "source": [
    "inp = keras.layers.Input((64,64,3))\n",
    "x = encoder(inp)\n",
    "#x = x = keras.layers.Dense(100,activation = 'relu',kernel_initializer='he_normal')(x)\n",
    "x = keras.layers.Dense(43,kernel_initializer='he_normal')(x)\n",
    "x = keras.layers.BatchNormalization()(x)\n",
    "x = keras.layers.Activation('softmax')(x)\n",
    "clf_encoder = keras.Model(inputs=inp,outputs = x)"
   ]
  },
  {
   "cell_type": "code",
   "execution_count": 7,
   "id": "19a2d6da-ab70-4188-acb3-5f036b39acac",
   "metadata": {
    "tags": []
   },
   "outputs": [
    {
     "name": "stdout",
     "output_type": "stream",
     "text": [
      "Model: \"model_1\"\n",
      "_________________________________________________________________\n",
      " Layer (type)                Output Shape              Param #   \n",
      "=================================================================\n",
      " input_3 (InputLayer)        [(None, 64, 64, 3)]       0         \n",
      "                                                                 \n",
      " encoder (Functional)        (None, 300)               2036680   \n",
      "                                                                 \n",
      " dense_1 (Dense)             (None, 43)                12943     \n",
      "                                                                 \n",
      " batch_normalization_7 (Batc  (None, 43)               172       \n",
      " hNormalization)                                                 \n",
      "                                                                 \n",
      " activation_7 (Activation)   (None, 43)                0         \n",
      "                                                                 \n",
      "=================================================================\n",
      "Total params: 2,049,795\n",
      "Trainable params: 2,042,861\n",
      "Non-trainable params: 6,934\n",
      "_________________________________________________________________\n"
     ]
    }
   ],
   "source": [
    "clf_encoder.summary()"
   ]
  },
  {
   "cell_type": "code",
   "execution_count": 8,
   "id": "419ffb29-ddf9-4000-863b-882ed010c19f",
   "metadata": {
    "tags": []
   },
   "outputs": [],
   "source": [
    "metric = CategoricalAccuracy()\n",
    "train_loss_tracker = keras.metrics.Mean(name='loss')\n",
    "#optimizer = keras.optimizers.SGD(learning_rate=0.1,momentum=0.9)\n",
    "optimizer = keras.optimizers.Adam(learning_rate=0.001,epsilon=1e-8)\n",
    "loss_fun = keras.losses.CategoricalCrossentropy()\n",
    "clf_encoder.compile(optimizer=optimizer,loss=loss_fun,metrics=metric)"
   ]
  },
  {
   "cell_type": "code",
   "execution_count": 9,
   "id": "0bf1bf3d-d0d9-4640-8729-688cf0780723",
   "metadata": {
    "tags": []
   },
   "outputs": [
    {
     "name": "stdout",
     "output_type": "stream",
     "text": [
      "loading GTSRB Test data ...\n"
     ]
    }
   ],
   "source": [
    "test_path = 'datasets/GTSRB/GTSRB_Test'\n",
    "X = []\n",
    "print(f'loading GTSRB Test data ...')\n",
    "files = os.listdir(test_path)\n",
    "files.sort()\n",
    "for f in files:\n",
    "    file_path = os.path.join(test_path,f)\n",
    "    X += [standardize(\n",
    "        img_to_array(\n",
    "            load_img(\n",
    "                file_path,target_size=(64,64),\n",
    "                interpolation='bilinear')))]\n",
    "X = tf.constant(np.array(X))\n",
    "df = pd.read_csv('datasets/GTSRB/GT-final_test.csv',sep=';')\n",
    "y_true = tf.constant(to_categorical(np.array(df['ClassId']),num_classes=43))"
   ]
  },
  {
   "cell_type": "code",
   "execution_count": 11,
   "id": "e2636639-1577-403a-86c0-23139d4dca72",
   "metadata": {
    "tags": []
   },
   "outputs": [
    {
     "name": "stdout",
     "output_type": "stream",
     "text": [
      "77/77 [==============================] - 23s 297ms/step - loss: 0.1897 - categorical_accuracy: 0.9992\n",
      "0.9853\n",
      "77/77 [==============================] - 23s 295ms/step - loss: 0.1341 - categorical_accuracy: 0.9999\n",
      "0.9925\n",
      "77/77 [==============================] - 23s 296ms/step - loss: 0.1037 - categorical_accuracy: 1.0000\n",
      "0.9938\n",
      "77/77 [==============================] - 23s 297ms/step - loss: 0.0838 - categorical_accuracy: 1.0000\n",
      "0.9943\n",
      "77/77 [==============================] - 23s 295ms/step - loss: 0.0682 - categorical_accuracy: 1.0000\n",
      "0.9930\n",
      "77/77 [==============================] - 23s 294ms/step - loss: 0.0583 - categorical_accuracy: 1.0000\n",
      "0.9945\n",
      "77/77 [==============================] - 23s 294ms/step - loss: 0.0497 - categorical_accuracy: 1.0000\n",
      "0.9933\n",
      "77/77 [==============================] - 23s 294ms/step - loss: 0.0423 - categorical_accuracy: 1.0000\n",
      "0.9957\n",
      "77/77 [==============================] - 23s 294ms/step - loss: 0.0488 - categorical_accuracy: 0.9993\n",
      "0.9781\n",
      "77/77 [==============================] - 23s 294ms/step - loss: 0.0397 - categorical_accuracy: 0.9996\n",
      "0.9924\n",
      "77/77 [==============================] - 23s 294ms/step - loss: 0.0331 - categorical_accuracy: 0.9997\n",
      "0.9922\n",
      "77/77 [==============================] - 23s 295ms/step - loss: 0.0279 - categorical_accuracy: 0.9999\n",
      "0.9952\n",
      "77/77 [==============================] - 23s 294ms/step - loss: 0.0241 - categorical_accuracy: 1.0000\n",
      "0.9942\n",
      "77/77 [==============================] - 23s 294ms/step - loss: 0.0249 - categorical_accuracy: 0.9995\n",
      "0.9857\n",
      "77/77 [==============================] - 23s 296ms/step - loss: 0.0231 - categorical_accuracy: 0.9998\n",
      "0.9861\n",
      "77/77 [==============================] - 23s 298ms/step - loss: 0.0185 - categorical_accuracy: 1.0000\n",
      "0.9931\n",
      "77/77 [==============================] - 23s 295ms/step - loss: 0.0161 - categorical_accuracy: 1.0000\n",
      "0.9943\n",
      "77/77 [==============================] - 23s 298ms/step - loss: 0.0147 - categorical_accuracy: 1.0000\n",
      "0.9945\n",
      "77/77 [==============================] - 23s 296ms/step - loss: 0.0136 - categorical_accuracy: 1.0000\n",
      "0.9944\n",
      "77/77 [==============================] - 23s 297ms/step - loss: 0.0123 - categorical_accuracy: 1.0000\n",
      "0.9947\n"
     ]
    }
   ],
   "source": [
    "best_test_acc = 0\n",
    "for e in range(20):\n",
    "    clf_encoder.fit(train_gen,epochs=1)\n",
    "    #test_acc = test_new(clf_encoder)\n",
    "    _,test_acc = clf_encoder.evaluate(X,y_true,batch_size=128,verbose=0)\n",
    "    print(f'{test_acc:.4f}')\n",
    "    if test_acc > best_test_acc:\n",
    "        clf_encoder.save('senet_gtsrb_bench.h5')\n",
    "        best_test_acc = test_acc"
   ]
  },
  {
   "cell_type": "code",
   "execution_count": 14,
   "id": "bf1dbee0-49fe-448e-9eff-61049ac6477e",
   "metadata": {
    "tags": []
   },
   "outputs": [],
   "source": [
    "final_h5 = 'senet_gtsrb_bench.h5'\n",
    "final_model = load_model(\n",
    "    final_h5,\n",
    "    custom_objects={\n",
    "        'BilinearInterpolation':BilinearInterpolation,\n",
    "        'Localization':Localization},compile=True)"
   ]
  },
  {
   "cell_type": "code",
   "execution_count": 15,
   "id": "01d06a17-befc-435b-ad4b-c9bf2bcb3f52",
   "metadata": {
    "tags": []
   },
   "outputs": [
    {
     "name": "stdout",
     "output_type": "stream",
     "text": [
      "99/99 [==============================] - 4s 30ms/step - loss: 0.0378 - categorical_accuracy: 0.9947\n"
     ]
    },
    {
     "data": {
      "text/plain": [
       "[0.037842851132154465, 0.9946951866149902]"
      ]
     },
     "execution_count": 15,
     "metadata": {},
     "output_type": "execute_result"
    }
   ],
   "source": [
    "final_model.evaluate(X,y_true,batch_size=128,verbose=1)"
   ]
  },
  {
   "cell_type": "code",
   "execution_count": 18,
   "id": "a2860444-520c-40f6-95d2-c461fee3f772",
   "metadata": {
    "tags": []
   },
   "outputs": [],
   "source": [
    "from data_loader import get_loader"
   ]
  },
  {
   "cell_type": "code",
   "execution_count": 19,
   "id": "17256018-4531-450f-9488-c217f83a021a",
   "metadata": {
    "tags": []
   },
   "outputs": [],
   "source": [
    "loader = get_loader('gtsrb2tt100k')"
   ]
  },
  {
   "cell_type": "code",
   "execution_count": 20,
   "id": "9be14e75-2315-4eb6-b461-9f432b8fe5c5",
   "metadata": {
    "tags": []
   },
   "outputs": [
    {
     "name": "stdout",
     "output_type": "stream",
     "text": [
      "Loading 43 all data from datasets/GTSRB\n",
      "Loading 36 all data from datasets/TT100K\n"
     ]
    }
   ],
   "source": [
    "train_datagen, test_datagen = loader.get_generator(batch=128,dim=64)"
   ]
  },
  {
   "cell_type": "code",
   "execution_count": 21,
   "id": "685dcee1-f53d-4ebd-94a3-744e0957739c",
   "metadata": {
    "tags": []
   },
   "outputs": [],
   "source": [
    "from tensorflow.keras.metrics import Mean, CategoricalAccuracy\n",
    "from models.metrics import loss_mse,accuracy"
   ]
  },
  {
   "cell_type": "code",
   "execution_count": 22,
   "id": "b79cc9a8-8d04-48fb-bd1d-c41d1b61869f",
   "metadata": {
    "tags": []
   },
   "outputs": [],
   "source": [
    "optimizer_fn = keras.optimizers.Adam(learning_rate=0.0001)\n",
    "#train_loss_tracker = keras.metrics.Mean(name='train_loss')\n",
    "\n",
    "senet.compile(optimizer=optimizer_fn,loss=loss_mse,metrics=CategoricalAccuracy())"
   ]
  },
  {
   "cell_type": "code",
   "execution_count": 23,
   "id": "c333c7b8-eac0-4aa9-8537-f659dcbc8ad1",
   "metadata": {
    "tags": []
   },
   "outputs": [
    {
     "name": "stdout",
     "output_type": "stream",
     "text": [
      "306/306 [==============================] - 39s 109ms/step - loss: 0.0125 - categorical_accuracy: 0.7192\n",
      "93/93 [==============================] - 9s 78ms/step - loss: 0.0161 - categorical_accuracy: 0.7030\n",
      "306/306 [==============================] - 34s 110ms/step - loss: 0.0034 - categorical_accuracy: 0.9228\n",
      "93/93 [==============================] - 7s 78ms/step - loss: 0.0132 - categorical_accuracy: 0.7518\n",
      "306/306 [==============================] - 34s 109ms/step - loss: 0.0019 - categorical_accuracy: 0.9575\n",
      "93/93 [==============================] - 7s 78ms/step - loss: 0.0114 - categorical_accuracy: 0.7874\n",
      "306/306 [==============================] - 34s 112ms/step - loss: 0.0013 - categorical_accuracy: 0.9714\n",
      "93/93 [==============================] - 7s 79ms/step - loss: 0.0110 - categorical_accuracy: 0.7947\n",
      "306/306 [==============================] - 34s 111ms/step - loss: 0.0013 - categorical_accuracy: 0.9707\n",
      "93/93 [==============================] - 7s 79ms/step - loss: 0.0092 - categorical_accuracy: 0.8262\n",
      "  4/306 [..............................] - ETA: 33s - loss: 0.0014 - categorical_accuracy: 0.9688"
     ]
    },
    {
     "ename": "KeyboardInterrupt",
     "evalue": "",
     "output_type": "error",
     "traceback": [
      "\u001b[0;31m---------------------------------------------------------------------------\u001b[0m",
      "\u001b[0;31mKeyboardInterrupt\u001b[0m                         Traceback (most recent call last)",
      "Cell \u001b[0;32mIn[23], line 2\u001b[0m\n\u001b[1;32m      1\u001b[0m \u001b[38;5;28;01mfor\u001b[39;00m _ \u001b[38;5;129;01min\u001b[39;00m \u001b[38;5;28mrange\u001b[39m(\u001b[38;5;241m20\u001b[39m):\n\u001b[0;32m----> 2\u001b[0m     \u001b[43msenet\u001b[49m\u001b[38;5;241;43m.\u001b[39;49m\u001b[43mfit\u001b[49m\u001b[43m(\u001b[49m\u001b[43mtrain_datagen\u001b[49m\u001b[43m,\u001b[49m\u001b[43mepochs\u001b[49m\u001b[38;5;241;43m=\u001b[39;49m\u001b[38;5;241;43m1\u001b[39;49m\u001b[43m)\u001b[49m\n\u001b[1;32m      3\u001b[0m     senet\u001b[38;5;241m.\u001b[39mevaluate(test_datagen,verbose\u001b[38;5;241m=\u001b[39m\u001b[38;5;241m1\u001b[39m)\n",
      "File \u001b[0;32m~/anaconda3/envs/tf/lib/python3.9/site-packages/keras/utils/traceback_utils.py:65\u001b[0m, in \u001b[0;36mfilter_traceback.<locals>.error_handler\u001b[0;34m(*args, **kwargs)\u001b[0m\n\u001b[1;32m     63\u001b[0m filtered_tb \u001b[38;5;241m=\u001b[39m \u001b[38;5;28;01mNone\u001b[39;00m\n\u001b[1;32m     64\u001b[0m \u001b[38;5;28;01mtry\u001b[39;00m:\n\u001b[0;32m---> 65\u001b[0m     \u001b[38;5;28;01mreturn\u001b[39;00m \u001b[43mfn\u001b[49m\u001b[43m(\u001b[49m\u001b[38;5;241;43m*\u001b[39;49m\u001b[43margs\u001b[49m\u001b[43m,\u001b[49m\u001b[43m \u001b[49m\u001b[38;5;241;43m*\u001b[39;49m\u001b[38;5;241;43m*\u001b[39;49m\u001b[43mkwargs\u001b[49m\u001b[43m)\u001b[49m\n\u001b[1;32m     66\u001b[0m \u001b[38;5;28;01mexcept\u001b[39;00m \u001b[38;5;167;01mException\u001b[39;00m \u001b[38;5;28;01mas\u001b[39;00m e:\n\u001b[1;32m     67\u001b[0m     filtered_tb \u001b[38;5;241m=\u001b[39m _process_traceback_frames(e\u001b[38;5;241m.\u001b[39m__traceback__)\n",
      "File \u001b[0;32m~/anaconda3/envs/tf/lib/python3.9/site-packages/keras/engine/training.py:1564\u001b[0m, in \u001b[0;36mModel.fit\u001b[0;34m(self, x, y, batch_size, epochs, verbose, callbacks, validation_split, validation_data, shuffle, class_weight, sample_weight, initial_epoch, steps_per_epoch, validation_steps, validation_batch_size, validation_freq, max_queue_size, workers, use_multiprocessing)\u001b[0m\n\u001b[1;32m   1556\u001b[0m \u001b[38;5;28;01mwith\u001b[39;00m tf\u001b[38;5;241m.\u001b[39mprofiler\u001b[38;5;241m.\u001b[39mexperimental\u001b[38;5;241m.\u001b[39mTrace(\n\u001b[1;32m   1557\u001b[0m     \u001b[38;5;124m\"\u001b[39m\u001b[38;5;124mtrain\u001b[39m\u001b[38;5;124m\"\u001b[39m,\n\u001b[1;32m   1558\u001b[0m     epoch_num\u001b[38;5;241m=\u001b[39mepoch,\n\u001b[0;32m   (...)\u001b[0m\n\u001b[1;32m   1561\u001b[0m     _r\u001b[38;5;241m=\u001b[39m\u001b[38;5;241m1\u001b[39m,\n\u001b[1;32m   1562\u001b[0m ):\n\u001b[1;32m   1563\u001b[0m     callbacks\u001b[38;5;241m.\u001b[39mon_train_batch_begin(step)\n\u001b[0;32m-> 1564\u001b[0m     tmp_logs \u001b[38;5;241m=\u001b[39m \u001b[38;5;28;43mself\u001b[39;49m\u001b[38;5;241;43m.\u001b[39;49m\u001b[43mtrain_function\u001b[49m\u001b[43m(\u001b[49m\u001b[43miterator\u001b[49m\u001b[43m)\u001b[49m\n\u001b[1;32m   1565\u001b[0m     \u001b[38;5;28;01mif\u001b[39;00m data_handler\u001b[38;5;241m.\u001b[39mshould_sync:\n\u001b[1;32m   1566\u001b[0m         context\u001b[38;5;241m.\u001b[39masync_wait()\n",
      "File \u001b[0;32m~/anaconda3/envs/tf/lib/python3.9/site-packages/tensorflow/python/util/traceback_utils.py:150\u001b[0m, in \u001b[0;36mfilter_traceback.<locals>.error_handler\u001b[0;34m(*args, **kwargs)\u001b[0m\n\u001b[1;32m    148\u001b[0m filtered_tb \u001b[38;5;241m=\u001b[39m \u001b[38;5;28;01mNone\u001b[39;00m\n\u001b[1;32m    149\u001b[0m \u001b[38;5;28;01mtry\u001b[39;00m:\n\u001b[0;32m--> 150\u001b[0m   \u001b[38;5;28;01mreturn\u001b[39;00m \u001b[43mfn\u001b[49m\u001b[43m(\u001b[49m\u001b[38;5;241;43m*\u001b[39;49m\u001b[43margs\u001b[49m\u001b[43m,\u001b[49m\u001b[43m \u001b[49m\u001b[38;5;241;43m*\u001b[39;49m\u001b[38;5;241;43m*\u001b[39;49m\u001b[43mkwargs\u001b[49m\u001b[43m)\u001b[49m\n\u001b[1;32m    151\u001b[0m \u001b[38;5;28;01mexcept\u001b[39;00m \u001b[38;5;167;01mException\u001b[39;00m \u001b[38;5;28;01mas\u001b[39;00m e:\n\u001b[1;32m    152\u001b[0m   filtered_tb \u001b[38;5;241m=\u001b[39m _process_traceback_frames(e\u001b[38;5;241m.\u001b[39m__traceback__)\n",
      "File \u001b[0;32m~/anaconda3/envs/tf/lib/python3.9/site-packages/tensorflow/python/eager/def_function.py:915\u001b[0m, in \u001b[0;36mFunction.__call__\u001b[0;34m(self, *args, **kwds)\u001b[0m\n\u001b[1;32m    912\u001b[0m compiler \u001b[38;5;241m=\u001b[39m \u001b[38;5;124m\"\u001b[39m\u001b[38;5;124mxla\u001b[39m\u001b[38;5;124m\"\u001b[39m \u001b[38;5;28;01mif\u001b[39;00m \u001b[38;5;28mself\u001b[39m\u001b[38;5;241m.\u001b[39m_jit_compile \u001b[38;5;28;01melse\u001b[39;00m \u001b[38;5;124m\"\u001b[39m\u001b[38;5;124mnonXla\u001b[39m\u001b[38;5;124m\"\u001b[39m\n\u001b[1;32m    914\u001b[0m \u001b[38;5;28;01mwith\u001b[39;00m OptionalXlaContext(\u001b[38;5;28mself\u001b[39m\u001b[38;5;241m.\u001b[39m_jit_compile):\n\u001b[0;32m--> 915\u001b[0m   result \u001b[38;5;241m=\u001b[39m \u001b[38;5;28;43mself\u001b[39;49m\u001b[38;5;241;43m.\u001b[39;49m\u001b[43m_call\u001b[49m\u001b[43m(\u001b[49m\u001b[38;5;241;43m*\u001b[39;49m\u001b[43margs\u001b[49m\u001b[43m,\u001b[49m\u001b[43m \u001b[49m\u001b[38;5;241;43m*\u001b[39;49m\u001b[38;5;241;43m*\u001b[39;49m\u001b[43mkwds\u001b[49m\u001b[43m)\u001b[49m\n\u001b[1;32m    917\u001b[0m new_tracing_count \u001b[38;5;241m=\u001b[39m \u001b[38;5;28mself\u001b[39m\u001b[38;5;241m.\u001b[39mexperimental_get_tracing_count()\n\u001b[1;32m    918\u001b[0m without_tracing \u001b[38;5;241m=\u001b[39m (tracing_count \u001b[38;5;241m==\u001b[39m new_tracing_count)\n",
      "File \u001b[0;32m~/anaconda3/envs/tf/lib/python3.9/site-packages/tensorflow/python/eager/def_function.py:947\u001b[0m, in \u001b[0;36mFunction._call\u001b[0;34m(self, *args, **kwds)\u001b[0m\n\u001b[1;32m    944\u001b[0m   \u001b[38;5;28mself\u001b[39m\u001b[38;5;241m.\u001b[39m_lock\u001b[38;5;241m.\u001b[39mrelease()\n\u001b[1;32m    945\u001b[0m   \u001b[38;5;66;03m# In this case we have created variables on the first call, so we run the\u001b[39;00m\n\u001b[1;32m    946\u001b[0m   \u001b[38;5;66;03m# defunned version which is guaranteed to never create variables.\u001b[39;00m\n\u001b[0;32m--> 947\u001b[0m   \u001b[38;5;28;01mreturn\u001b[39;00m \u001b[38;5;28;43mself\u001b[39;49m\u001b[38;5;241;43m.\u001b[39;49m\u001b[43m_stateless_fn\u001b[49m\u001b[43m(\u001b[49m\u001b[38;5;241;43m*\u001b[39;49m\u001b[43margs\u001b[49m\u001b[43m,\u001b[49m\u001b[43m \u001b[49m\u001b[38;5;241;43m*\u001b[39;49m\u001b[38;5;241;43m*\u001b[39;49m\u001b[43mkwds\u001b[49m\u001b[43m)\u001b[49m  \u001b[38;5;66;03m# pylint: disable=not-callable\u001b[39;00m\n\u001b[1;32m    948\u001b[0m \u001b[38;5;28;01melif\u001b[39;00m \u001b[38;5;28mself\u001b[39m\u001b[38;5;241m.\u001b[39m_stateful_fn \u001b[38;5;129;01mis\u001b[39;00m \u001b[38;5;129;01mnot\u001b[39;00m \u001b[38;5;28;01mNone\u001b[39;00m:\n\u001b[1;32m    949\u001b[0m   \u001b[38;5;66;03m# Release the lock early so that multiple threads can perform the call\u001b[39;00m\n\u001b[1;32m    950\u001b[0m   \u001b[38;5;66;03m# in parallel.\u001b[39;00m\n\u001b[1;32m    951\u001b[0m   \u001b[38;5;28mself\u001b[39m\u001b[38;5;241m.\u001b[39m_lock\u001b[38;5;241m.\u001b[39mrelease()\n",
      "File \u001b[0;32m~/anaconda3/envs/tf/lib/python3.9/site-packages/tensorflow/python/eager/function.py:2496\u001b[0m, in \u001b[0;36mFunction.__call__\u001b[0;34m(self, *args, **kwargs)\u001b[0m\n\u001b[1;32m   2493\u001b[0m \u001b[38;5;28;01mwith\u001b[39;00m \u001b[38;5;28mself\u001b[39m\u001b[38;5;241m.\u001b[39m_lock:\n\u001b[1;32m   2494\u001b[0m   (graph_function,\n\u001b[1;32m   2495\u001b[0m    filtered_flat_args) \u001b[38;5;241m=\u001b[39m \u001b[38;5;28mself\u001b[39m\u001b[38;5;241m.\u001b[39m_maybe_define_function(args, kwargs)\n\u001b[0;32m-> 2496\u001b[0m \u001b[38;5;28;01mreturn\u001b[39;00m \u001b[43mgraph_function\u001b[49m\u001b[38;5;241;43m.\u001b[39;49m\u001b[43m_call_flat\u001b[49m\u001b[43m(\u001b[49m\n\u001b[1;32m   2497\u001b[0m \u001b[43m    \u001b[49m\u001b[43mfiltered_flat_args\u001b[49m\u001b[43m,\u001b[49m\u001b[43m \u001b[49m\u001b[43mcaptured_inputs\u001b[49m\u001b[38;5;241;43m=\u001b[39;49m\u001b[43mgraph_function\u001b[49m\u001b[38;5;241;43m.\u001b[39;49m\u001b[43mcaptured_inputs\u001b[49m\u001b[43m)\u001b[49m\n",
      "File \u001b[0;32m~/anaconda3/envs/tf/lib/python3.9/site-packages/tensorflow/python/eager/function.py:1862\u001b[0m, in \u001b[0;36mConcreteFunction._call_flat\u001b[0;34m(self, args, captured_inputs, cancellation_manager)\u001b[0m\n\u001b[1;32m   1858\u001b[0m possible_gradient_type \u001b[38;5;241m=\u001b[39m gradients_util\u001b[38;5;241m.\u001b[39mPossibleTapeGradientTypes(args)\n\u001b[1;32m   1859\u001b[0m \u001b[38;5;28;01mif\u001b[39;00m (possible_gradient_type \u001b[38;5;241m==\u001b[39m gradients_util\u001b[38;5;241m.\u001b[39mPOSSIBLE_GRADIENT_TYPES_NONE\n\u001b[1;32m   1860\u001b[0m     \u001b[38;5;129;01mand\u001b[39;00m executing_eagerly):\n\u001b[1;32m   1861\u001b[0m   \u001b[38;5;66;03m# No tape is watching; skip to running the function.\u001b[39;00m\n\u001b[0;32m-> 1862\u001b[0m   \u001b[38;5;28;01mreturn\u001b[39;00m \u001b[38;5;28mself\u001b[39m\u001b[38;5;241m.\u001b[39m_build_call_outputs(\u001b[38;5;28;43mself\u001b[39;49m\u001b[38;5;241;43m.\u001b[39;49m\u001b[43m_inference_function\u001b[49m\u001b[38;5;241;43m.\u001b[39;49m\u001b[43mcall\u001b[49m\u001b[43m(\u001b[49m\n\u001b[1;32m   1863\u001b[0m \u001b[43m      \u001b[49m\u001b[43mctx\u001b[49m\u001b[43m,\u001b[49m\u001b[43m \u001b[49m\u001b[43margs\u001b[49m\u001b[43m,\u001b[49m\u001b[43m \u001b[49m\u001b[43mcancellation_manager\u001b[49m\u001b[38;5;241;43m=\u001b[39;49m\u001b[43mcancellation_manager\u001b[49m\u001b[43m)\u001b[49m)\n\u001b[1;32m   1864\u001b[0m forward_backward \u001b[38;5;241m=\u001b[39m \u001b[38;5;28mself\u001b[39m\u001b[38;5;241m.\u001b[39m_select_forward_and_backward_functions(\n\u001b[1;32m   1865\u001b[0m     args,\n\u001b[1;32m   1866\u001b[0m     possible_gradient_type,\n\u001b[1;32m   1867\u001b[0m     executing_eagerly)\n\u001b[1;32m   1868\u001b[0m forward_function, args_with_tangents \u001b[38;5;241m=\u001b[39m forward_backward\u001b[38;5;241m.\u001b[39mforward()\n",
      "File \u001b[0;32m~/anaconda3/envs/tf/lib/python3.9/site-packages/tensorflow/python/eager/function.py:499\u001b[0m, in \u001b[0;36m_EagerDefinedFunction.call\u001b[0;34m(self, ctx, args, cancellation_manager)\u001b[0m\n\u001b[1;32m    497\u001b[0m \u001b[38;5;28;01mwith\u001b[39;00m _InterpolateFunctionError(\u001b[38;5;28mself\u001b[39m):\n\u001b[1;32m    498\u001b[0m   \u001b[38;5;28;01mif\u001b[39;00m cancellation_manager \u001b[38;5;129;01mis\u001b[39;00m \u001b[38;5;28;01mNone\u001b[39;00m:\n\u001b[0;32m--> 499\u001b[0m     outputs \u001b[38;5;241m=\u001b[39m \u001b[43mexecute\u001b[49m\u001b[38;5;241;43m.\u001b[39;49m\u001b[43mexecute\u001b[49m\u001b[43m(\u001b[49m\n\u001b[1;32m    500\u001b[0m \u001b[43m        \u001b[49m\u001b[38;5;28;43mstr\u001b[39;49m\u001b[43m(\u001b[49m\u001b[38;5;28;43mself\u001b[39;49m\u001b[38;5;241;43m.\u001b[39;49m\u001b[43msignature\u001b[49m\u001b[38;5;241;43m.\u001b[39;49m\u001b[43mname\u001b[49m\u001b[43m)\u001b[49m\u001b[43m,\u001b[49m\n\u001b[1;32m    501\u001b[0m \u001b[43m        \u001b[49m\u001b[43mnum_outputs\u001b[49m\u001b[38;5;241;43m=\u001b[39;49m\u001b[38;5;28;43mself\u001b[39;49m\u001b[38;5;241;43m.\u001b[39;49m\u001b[43m_num_outputs\u001b[49m\u001b[43m,\u001b[49m\n\u001b[1;32m    502\u001b[0m \u001b[43m        \u001b[49m\u001b[43minputs\u001b[49m\u001b[38;5;241;43m=\u001b[39;49m\u001b[43margs\u001b[49m\u001b[43m,\u001b[49m\n\u001b[1;32m    503\u001b[0m \u001b[43m        \u001b[49m\u001b[43mattrs\u001b[49m\u001b[38;5;241;43m=\u001b[39;49m\u001b[43mattrs\u001b[49m\u001b[43m,\u001b[49m\n\u001b[1;32m    504\u001b[0m \u001b[43m        \u001b[49m\u001b[43mctx\u001b[49m\u001b[38;5;241;43m=\u001b[39;49m\u001b[43mctx\u001b[49m\u001b[43m)\u001b[49m\n\u001b[1;32m    505\u001b[0m   \u001b[38;5;28;01melse\u001b[39;00m:\n\u001b[1;32m    506\u001b[0m     outputs \u001b[38;5;241m=\u001b[39m execute\u001b[38;5;241m.\u001b[39mexecute_with_cancellation(\n\u001b[1;32m    507\u001b[0m         \u001b[38;5;28mstr\u001b[39m(\u001b[38;5;28mself\u001b[39m\u001b[38;5;241m.\u001b[39msignature\u001b[38;5;241m.\u001b[39mname),\n\u001b[1;32m    508\u001b[0m         num_outputs\u001b[38;5;241m=\u001b[39m\u001b[38;5;28mself\u001b[39m\u001b[38;5;241m.\u001b[39m_num_outputs,\n\u001b[0;32m   (...)\u001b[0m\n\u001b[1;32m    511\u001b[0m         ctx\u001b[38;5;241m=\u001b[39mctx,\n\u001b[1;32m    512\u001b[0m         cancellation_manager\u001b[38;5;241m=\u001b[39mcancellation_manager)\n",
      "File \u001b[0;32m~/anaconda3/envs/tf/lib/python3.9/site-packages/tensorflow/python/eager/execute.py:54\u001b[0m, in \u001b[0;36mquick_execute\u001b[0;34m(op_name, num_outputs, inputs, attrs, ctx, name)\u001b[0m\n\u001b[1;32m     52\u001b[0m \u001b[38;5;28;01mtry\u001b[39;00m:\n\u001b[1;32m     53\u001b[0m   ctx\u001b[38;5;241m.\u001b[39mensure_initialized()\n\u001b[0;32m---> 54\u001b[0m   tensors \u001b[38;5;241m=\u001b[39m \u001b[43mpywrap_tfe\u001b[49m\u001b[38;5;241;43m.\u001b[39;49m\u001b[43mTFE_Py_Execute\u001b[49m\u001b[43m(\u001b[49m\u001b[43mctx\u001b[49m\u001b[38;5;241;43m.\u001b[39;49m\u001b[43m_handle\u001b[49m\u001b[43m,\u001b[49m\u001b[43m \u001b[49m\u001b[43mdevice_name\u001b[49m\u001b[43m,\u001b[49m\u001b[43m \u001b[49m\u001b[43mop_name\u001b[49m\u001b[43m,\u001b[49m\n\u001b[1;32m     55\u001b[0m \u001b[43m                                      \u001b[49m\u001b[43minputs\u001b[49m\u001b[43m,\u001b[49m\u001b[43m \u001b[49m\u001b[43mattrs\u001b[49m\u001b[43m,\u001b[49m\u001b[43m \u001b[49m\u001b[43mnum_outputs\u001b[49m\u001b[43m)\u001b[49m\n\u001b[1;32m     56\u001b[0m \u001b[38;5;28;01mexcept\u001b[39;00m core\u001b[38;5;241m.\u001b[39m_NotOkStatusException \u001b[38;5;28;01mas\u001b[39;00m e:\n\u001b[1;32m     57\u001b[0m   \u001b[38;5;28;01mif\u001b[39;00m name \u001b[38;5;129;01mis\u001b[39;00m \u001b[38;5;129;01mnot\u001b[39;00m \u001b[38;5;28;01mNone\u001b[39;00m:\n",
      "\u001b[0;31mKeyboardInterrupt\u001b[0m: "
     ]
    }
   ],
   "source": [
    "for _ in range(20):\n",
    "    senet.fit(train_datagen,epochs=1)\n",
    "    senet.evaluate(test_datagen,verbose=1)"
   ]
  },
  {
   "cell_type": "code",
   "execution_count": null,
   "id": "54b938c4-6cfe-4d22-a0f2-fa05df77d5f0",
   "metadata": {},
   "outputs": [],
   "source": []
  }
 ],
 "metadata": {
  "kernelspec": {
   "display_name": "Python [conda env:tf] *",
   "language": "python",
   "name": "conda-env-tf-py"
  },
  "language_info": {
   "codemirror_mode": {
    "name": "ipython",
    "version": 3
   },
   "file_extension": ".py",
   "mimetype": "text/x-python",
   "name": "python",
   "nbconvert_exporter": "python",
   "pygments_lexer": "ipython3",
   "version": "3.9.16"
  }
 },
 "nbformat": 4,
 "nbformat_minor": 5
}
