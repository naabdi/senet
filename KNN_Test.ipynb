{
 "cells": [
  {
   "cell_type": "code",
   "execution_count": 1,
   "id": "9896df0a-fbf7-43fd-b195-37c8db785d7b",
   "metadata": {
    "tags": []
   },
   "outputs": [
    {
     "name": "stderr",
     "output_type": "stream",
     "text": [
      "2023-02-08 20:12:17.719744: I tensorflow/core/platform/cpu_feature_guard.cc:193] This TensorFlow binary is optimized with oneAPI Deep Neural Network Library (oneDNN) to use the following CPU instructions in performance-critical operations:  AVX2 FMA\n",
      "To enable them in other operations, rebuild TensorFlow with the appropriate compiler flags.\n",
      "2023-02-08 20:12:17.845318: E tensorflow/stream_executor/cuda/cuda_blas.cc:2981] Unable to register cuBLAS factory: Attempting to register factory for plugin cuBLAS when one has already been registered\n",
      "2023-02-08 20:12:18.337942: W tensorflow/stream_executor/platform/default/dso_loader.cc:64] Could not load dynamic library 'libnvinfer.so.7'; dlerror: libnvinfer.so.7: cannot open shared object file: No such file or directory; LD_LIBRARY_PATH: :/home/nariman/anaconda3/envs/tf/lib/\n",
      "2023-02-08 20:12:18.338042: W tensorflow/stream_executor/platform/default/dso_loader.cc:64] Could not load dynamic library 'libnvinfer_plugin.so.7'; dlerror: libnvinfer_plugin.so.7: cannot open shared object file: No such file or directory; LD_LIBRARY_PATH: :/home/nariman/anaconda3/envs/tf/lib/\n",
      "2023-02-08 20:12:18.338048: W tensorflow/compiler/tf2tensorrt/utils/py_utils.cc:38] TF-TRT Warning: Cannot dlopen some TensorRT libraries. If you would like to use Nvidia GPU with TensorRT, please make sure the missing libraries mentioned above are installed properly.\n"
     ]
    }
   ],
   "source": [
    "from tensorflow.keras.metrics import CategoricalAccuracy\n",
    "import tensorflow as tf\n",
    "from data_loader import get_loader\n",
    "from tensorflow import keras\n",
    "import matplotlib.pyplot as plt\n",
    "from tensorflow.keras.utils import to_categorical\n",
    "import numpy as np\n",
    "from models.distances import Euclidean_Distance\n",
    "from models.stn import BilinearInterpolation,Localization\n",
    "from sklearn.neighbors import KNeighborsClassifier\n",
    "from time import time\n",
    "import os"
   ]
  },
  {
   "cell_type": "code",
   "execution_count": 2,
   "id": "b622ffe5-bcdb-4126-9681-d0338899d2ba",
   "metadata": {
    "tags": []
   },
   "outputs": [],
   "source": [
    "def standardize(img):\n",
    "    mean = np.mean(img)\n",
    "    std = np.std(img)\n",
    "    return (img - mean) / std"
   ]
  },
  {
   "cell_type": "code",
   "execution_count": 4,
   "id": "8dfb9e32-cbe1-491b-92d3-344cc4a673ef",
   "metadata": {
    "tags": []
   },
   "outputs": [
    {
     "name": "stderr",
     "output_type": "stream",
     "text": [
      "2023-02-08 20:12:34.366914: I tensorflow/core/platform/cpu_feature_guard.cc:193] This TensorFlow binary is optimized with oneAPI Deep Neural Network Library (oneDNN) to use the following CPU instructions in performance-critical operations:  AVX2 FMA\n",
      "To enable them in other operations, rebuild TensorFlow with the appropriate compiler flags.\n",
      "2023-02-08 20:12:34.822929: I tensorflow/core/common_runtime/gpu/gpu_device.cc:1616] Created device /job:localhost/replica:0/task:0/device:GPU:0 with 9865 MB memory:  -> device: 0, name: NVIDIA GeForce RTX 3060, pci bus id: 0000:01:00.0, compute capability: 8.6\n"
     ]
    }
   ],
   "source": [
    "encoder = keras.models.load_model(\n",
    "    'model_files/best_encoders/w_densenet_gtsrb2tt100k_encoder.h5',\n",
    "    custom_objects={'BilinearInterpolation':BilinearInterpolation,'Localization':Localization},compile=False)"
   ]
  },
  {
   "cell_type": "code",
   "execution_count": 3,
   "id": "fffe6ddb-b66c-47e8-9007-728e143bceec",
   "metadata": {
    "tags": []
   },
   "outputs": [
    {
     "name": "stdout",
     "output_type": "stream",
     "text": [
      "Loading 43 all data from datasets/GTSRB\n"
     ]
    }
   ],
   "source": [
    "loader = get_loader('gtsrb') \n",
    "test_generator = loader.get_test_generator(batch=8,dim=64)"
   ]
  },
  {
   "cell_type": "code",
   "execution_count": 10,
   "id": "ba03c6e8-8719-482a-8ceb-60ec2ded6d0a",
   "metadata": {},
   "outputs": [],
   "source": [
    "t = iter(test_generator)\n",
    "[Xs,Xq],y = next(t)\n",
    "Zs = encoder(Xs)"
   ]
  },
  {
   "cell_type": "code",
   "execution_count": 13,
   "id": "8e1f8e33-5b7f-4705-bed7-a4b89498944e",
   "metadata": {},
   "outputs": [],
   "source": [
    "knn = KNeighborsClassifier(n_neighbors=1,n_jobs=-1,metric='l2')\n",
    "y_train = to_categorical(np.arange(43),num_classes=43)\n",
    "knn.fit(Zs,y_train);"
   ]
  },
  {
   "cell_type": "code",
   "execution_count": 6,
   "id": "167b4287-7f8c-4564-9bba-92b8f8a4473a",
   "metadata": {},
   "outputs": [
    {
     "name": "stdout",
     "output_type": "stream",
     "text": [
      "4901/4901 [==============================] - 537s 110ms/step - test acc: 0.8886\n"
     ]
    }
   ],
   "source": [
    "acc = 0\n",
    "start = time()\n",
    "y_train = to_categorical(np.arange(43),num_classes=43)\n",
    "knn.fit(Zs,y_train);\n",
    "pb = tf.keras.utils.Progbar(len(test_generator),verbose=1)\n",
    "for i,z in enumerate(test_generator):\n",
    "    [Xs,Xq],y_test = z\n",
    "    Zq = encoder(Xq)\n",
    "    acc += knn.score(Zq,y_test)\n",
    "    values=[('test acc',(acc / (i+1)))]\n",
    "    pb.add(1,values=values)\n",
    "end = time() - start"
   ]
  },
  {
   "cell_type": "code",
   "execution_count": 7,
   "id": "3b3570e4-be38-4104-9ac5-30d4f3e91f91",
   "metadata": {},
   "outputs": [
    {
     "name": "stdout",
     "output_type": "stream",
     "text": [
      "One image KNN inference time is 0.0137s\n",
      "FPS is 72\n",
      "KNN accuracy is 88.88\n"
     ]
    }
   ],
   "source": [
    "time_per_image = end / (len(test_generator) * 8)\n",
    "fps = int(1/time_per_image)\n",
    "mean_accuracy = np.round((acc / len(test_generator))*100,2)\n",
    "print(f'One image KNN inference time is {time_per_image:.4f}s')\n",
    "print(f'FPS is {fps}')\n",
    "print(f'KNN accuracy is {mean_accuracy}')"
   ]
  },
  {
   "cell_type": "code",
   "execution_count": 8,
   "id": "4ff335cf-7b70-415d-8e49-e790f32de1d5",
   "metadata": {
    "tags": []
   },
   "outputs": [],
   "source": [
    "from tensorflow.keras.preprocessing.image import load_img,img_to_array, ImageDataGenerator\n",
    "import numpy as np\n",
    "from tensorflow.keras.utils import to_categorical"
   ]
  },
  {
   "cell_type": "code",
   "execution_count": 9,
   "id": "d010623c-1a23-406d-8db6-e50c151a9821",
   "metadata": {
    "tags": []
   },
   "outputs": [],
   "source": [
    "import pandas as pd"
   ]
  },
  {
   "cell_type": "code",
   "execution_count": 10,
   "id": "be126d78-875d-44ce-9247-987960336ade",
   "metadata": {
    "tags": []
   },
   "outputs": [],
   "source": [
    "test_path = 'datasets/GTSRB/GTSRB_Test'\n",
    "X = []\n",
    "for f in os.listdir(test_path):\n",
    "    file_path = os.path.join(test_path,f)\n",
    "    X += [standardize(img_to_array(load_img(file_path,target_size=(64,64))))]\n",
    "X = np.array(X)"
   ]
  },
  {
   "cell_type": "code",
   "execution_count": 11,
   "id": "8da0ad9c-bac9-4081-a090-f0645d9dd097",
   "metadata": {
    "tags": []
   },
   "outputs": [],
   "source": [
    "df = pd.read_csv('datasets/GTSRB/GT-final_test.csv',sep=';')\n",
    "y_true = to_categorical(np.array(df['ClassId']),num_classes=43)"
   ]
  },
  {
   "cell_type": "code",
   "execution_count": 12,
   "id": "3c0112a2-2786-433c-8c40-abe5fdc771b0",
   "metadata": {
    "tags": []
   },
   "outputs": [
    {
     "name": "stderr",
     "output_type": "stream",
     "text": [
      "2023-02-08 18:40:20.618103: E tensorflow/stream_executor/cuda/cuda_dnn.cc:389] Could not create cudnn handle: CUDNN_STATUS_INTERNAL_ERROR\n",
      "2023-02-08 18:40:20.618157: W tensorflow/core/framework/op_kernel.cc:1780] OP_REQUIRES failed at pooling_ops_common.cc:403 : UNIMPLEMENTED: DNN library is not found.\n"
     ]
    },
    {
     "ename": "UnimplementedError",
     "evalue": "Exception encountered when calling layer \"localization_2_mp_1\" \"                 f\"(type MaxPooling2D).\n\n{{function_node __wrapped__MaxPool_device_/job:localhost/replica:0/task:0/device:GPU:0}} DNN library is not found. [Op:MaxPool]\n\nCall arguments received by layer \"localization_2_mp_1\" \"                 f\"(type MaxPooling2D):\n  • inputs=tf.Tensor(shape=(1, 64, 64, 3), dtype=float32)",
     "output_type": "error",
     "traceback": [
      "\u001b[0;31m---------------------------------------------------------------------------\u001b[0m",
      "\u001b[0;31mUnimplementedError\u001b[0m                        Traceback (most recent call last)",
      "Cell \u001b[0;32mIn[12], line 5\u001b[0m\n\u001b[1;32m      3\u001b[0m pb \u001b[38;5;241m=\u001b[39m tf\u001b[38;5;241m.\u001b[39mkeras\u001b[38;5;241m.\u001b[39mutils\u001b[38;5;241m.\u001b[39mProgbar(total_samples,verbose\u001b[38;5;241m=\u001b[39m\u001b[38;5;241m1\u001b[39m)\n\u001b[1;32m      4\u001b[0m \u001b[38;5;28;01mfor\u001b[39;00m i,test_image \u001b[38;5;129;01min\u001b[39;00m \u001b[38;5;28menumerate\u001b[39m(X):\n\u001b[0;32m----> 5\u001b[0m     z_test \u001b[38;5;241m=\u001b[39m \u001b[43mencoder\u001b[49m\u001b[43m(\u001b[49m\u001b[43mtf\u001b[49m\u001b[38;5;241;43m.\u001b[39;49m\u001b[43mexpand_dims\u001b[49m\u001b[43m(\u001b[49m\u001b[43mtest_image\u001b[49m\u001b[43m,\u001b[49m\u001b[43maxis\u001b[49m\u001b[38;5;241;43m=\u001b[39;49m\u001b[38;5;241;43m0\u001b[39;49m\u001b[43m)\u001b[49m\u001b[43m)\u001b[49m\n\u001b[1;32m      6\u001b[0m     y_pred \u001b[38;5;241m=\u001b[39m knn\u001b[38;5;241m.\u001b[39mpredict(z_test)\n\u001b[1;32m      7\u001b[0m     \u001b[38;5;28;01mif\u001b[39;00m np\u001b[38;5;241m.\u001b[39margmax(y_pred) \u001b[38;5;241m==\u001b[39m np\u001b[38;5;241m.\u001b[39margmax(y_true[i]):\n",
      "File \u001b[0;32m~/anaconda3/envs/tf/lib/python3.9/site-packages/keras/utils/traceback_utils.py:70\u001b[0m, in \u001b[0;36mfilter_traceback.<locals>.error_handler\u001b[0;34m(*args, **kwargs)\u001b[0m\n\u001b[1;32m     67\u001b[0m     filtered_tb \u001b[38;5;241m=\u001b[39m _process_traceback_frames(e\u001b[38;5;241m.\u001b[39m__traceback__)\n\u001b[1;32m     68\u001b[0m     \u001b[38;5;66;03m# To get the full stack trace, call:\u001b[39;00m\n\u001b[1;32m     69\u001b[0m     \u001b[38;5;66;03m# `tf.debugging.disable_traceback_filtering()`\u001b[39;00m\n\u001b[0;32m---> 70\u001b[0m     \u001b[38;5;28;01mraise\u001b[39;00m e\u001b[38;5;241m.\u001b[39mwith_traceback(filtered_tb) \u001b[38;5;28;01mfrom\u001b[39;00m \u001b[38;5;28mNone\u001b[39m\n\u001b[1;32m     71\u001b[0m \u001b[38;5;28;01mfinally\u001b[39;00m:\n\u001b[1;32m     72\u001b[0m     \u001b[38;5;28;01mdel\u001b[39;00m filtered_tb\n",
      "File \u001b[0;32m~/senet/models/stn.py:58\u001b[0m, in \u001b[0;36mLocalization.call\u001b[0;34m(self, inputs)\u001b[0m\n\u001b[1;32m     57\u001b[0m \u001b[38;5;28;01mdef\u001b[39;00m \u001b[38;5;21mcall\u001b[39m(\u001b[38;5;28mself\u001b[39m, inputs):\n\u001b[0;32m---> 58\u001b[0m     theta \u001b[38;5;241m=\u001b[39m \u001b[38;5;28;43mself\u001b[39;49m\u001b[38;5;241;43m.\u001b[39;49m\u001b[43mnetwork\u001b[49m\u001b[43m(\u001b[49m\u001b[43minputs\u001b[49m\u001b[43m)\u001b[49m\n\u001b[1;32m     59\u001b[0m     theta \u001b[38;5;241m=\u001b[39m Reshape((\u001b[38;5;241m2\u001b[39m, \u001b[38;5;241m3\u001b[39m))(theta)\n\u001b[1;32m     60\u001b[0m     \u001b[38;5;28;01mreturn\u001b[39;00m theta\n",
      "\u001b[0;31mUnimplementedError\u001b[0m: Exception encountered when calling layer \"localization_2_mp_1\" \"                 f\"(type MaxPooling2D).\n\n{{function_node __wrapped__MaxPool_device_/job:localhost/replica:0/task:0/device:GPU:0}} DNN library is not found. [Op:MaxPool]\n\nCall arguments received by layer \"localization_2_mp_1\" \"                 f\"(type MaxPooling2D):\n  • inputs=tf.Tensor(shape=(1, 64, 64, 3), dtype=float32)"
     ]
    }
   ],
   "source": [
    "tp = 0\n",
    "total_samples = len(X)\n",
    "pb = tf.keras.utils.Progbar(total_samples,verbose=1)\n",
    "for i,test_image in enumerate(X):\n",
    "    z_test = encoder(tf.expand_dims(test_image,axis=0))\n",
    "    y_pred = knn.predict(z_test)\n",
    "    if np.argmax(y_pred) == np.argmax(y_true[i]):\n",
    "        tp += 1\n",
    "    acc = tp / total_samples\n",
    "    pb.add(1)"
   ]
  },
  {
   "cell_type": "code",
   "execution_count": 19,
   "id": "02f5b6a1-753e-4514-b920-0e5f0d63e754",
   "metadata": {},
   "outputs": [
    {
     "data": {
      "text/plain": [
       "0.9160728424386382"
      ]
     },
     "execution_count": 19,
     "metadata": {},
     "output_type": "execute_result"
    }
   ],
   "source": [
    "acc"
   ]
  },
  {
   "cell_type": "code",
   "execution_count": null,
   "id": "f4ad8ef2-78c6-454f-ab29-b906418208eb",
   "metadata": {},
   "outputs": [],
   "source": []
  }
 ],
 "metadata": {
  "kernelspec": {
   "display_name": "Python [conda env:tf] *",
   "language": "python",
   "name": "conda-env-tf-py"
  },
  "language_info": {
   "codemirror_mode": {
    "name": "ipython",
    "version": 3
   },
   "file_extension": ".py",
   "mimetype": "text/x-python",
   "name": "python",
   "nbconvert_exporter": "python",
   "pygments_lexer": "ipython3",
   "version": "3.9.16"
  }
 },
 "nbformat": 4,
 "nbformat_minor": 5
}
