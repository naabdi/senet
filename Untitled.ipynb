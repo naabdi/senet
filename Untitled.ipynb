{
 "cells": [
  {
   "cell_type": "code",
   "execution_count": 2,
   "id": "3e8f0b7b-1332-44b5-9258-121ebb230a7a",
   "metadata": {
    "tags": []
   },
   "outputs": [],
   "source": [
    "from tensorflow import keras\n",
    "import tensorflow as tf\n",
    "from tensorflow.keras.metrics import Mean, CategoricalAccuracy\n",
    "from tensorflow.keras.models import load_model\n",
    "from models.metrics import loss_mse,accuracy\n",
    "from models.makemodels import make_proto_model\n",
    "import argparse\n",
    "from gpu.gpu import set_gpu_memory_growth\n",
    "from time import time\n",
    "from utils import load_config\n",
    "from data_loader import get_loader\n",
    "from models.distances import Weighted_Euclidean_Distance\n",
    "from models.stn import BilinearInterpolation,Localization\n",
    "from tensorflow.keras.preprocessing.image import load_img,img_to_array, ImageDataGenerator\n",
    "import numpy as np\n",
    "from tensorflow.image import random_contrast, random_brightness, ssim\n",
    "from tensorflow.keras.preprocessing.image import random_rotation, random_shear\n",
    "import os\n",
    "from tensorflow.keras.utils import to_categorical\n",
    "from skimage.transform import rotate\n",
    "from skimage.filters import difference_of_gaussians\n",
    "import matplotlib.pyplot as plt\n",
    "from tensorflow.keras.layers import ZeroPadding2D,Conv2D,BatchNormalization,Activation,Input,Dense,Concatenate,Add, Reshape,Conv2DTranspose,UpSampling2D\n",
    "from skimage.transform import AffineTransform\n",
    "from tensorflow import keras\n",
    "from tensorflow.keras.layers import Input,Flatten,Dense,MaxPooling2D,Conv2D\n",
    "from tensorflow.keras.layers import BatchNormalization, Activation\n",
    "from models.blocks import conv_block,dcp\n",
    "from models.distances import Weighted_Euclidean_Distance\n",
    "from models.stn import stn\n",
    "from tensorflow.keras.applications import DenseNet121"
   ]
  },
  {
   "cell_type": "code",
   "execution_count": 2,
   "id": "272d6852-a26b-4a50-968d-7bc34079a7af",
   "metadata": {
    "tags": []
   },
   "outputs": [],
   "source": [
    "def create_densenet(input_shape = (64,64,3)):\n",
    "    inp = Input(input_shape)\n",
    "    \n",
    "    densnet = DenseNet121(\n",
    "        input_shape=input_shape,weights='imagenet',include_top=False)\n",
    "    dens_encoder = keras.Model(\n",
    "        inputs=densnet.inputs,\n",
    "        outputs=densnet.get_layer('conv3_block2_concat').output)\n",
    "    x = stn(inp,[64,64,100],kernel_size=(5,5),stage=1)\n",
    "    x = dens_encoder(x)\n",
    "    x = Conv2D(\n",
    "        kernel_size=(1,1),filters=100,padding='same',\n",
    "        kernel_initializer='he_normal')(x)\n",
    "    x = stn(x,[100,100,100],stage=2)\n",
    "    x = conv_block(x,kernel_size=(3,3),n_filters=100,strides=(1,1))\n",
    "    x = dcp(x,n_filters=100,kernel_size=(3,3))\n",
    "    x = MaxPooling2D(pool_size=(2,2),strides=(2,2))(x)\n",
    "    x = Flatten()(x)\n",
    "    x = Dense(units = 300,kernel_initializer=\"he_normal\")(x)\n",
    "    x = BatchNormalization(axis=-1)(x)\n",
    "    x = Activation('linear')(x)\n",
    "    return keras.Model(inp,x,name='encoder')\n",
    "\n",
    "def create_model(input_shape = (64,64,3)):\n",
    "    support = Input(input_shape)\n",
    "    query = Input(input_shape)\n",
    "    encoder = create_densenet(input_shape=input_shape)\n",
    "    support_features = encoder(support)\n",
    "    query_features = encoder(query)\n",
    "    dist = Weighted_Euclidean_Distance()([support_features,query_features])\n",
    "    out = Activation(\"softmax\")(dist)\n",
    "    return keras.Model(inputs = [support,query],outputs=out)"
   ]
  },
  {
   "cell_type": "code",
   "execution_count": 4,
   "id": "803033ea-bec4-495a-8f1f-af1e341a89a9",
   "metadata": {
    "tags": []
   },
   "outputs": [],
   "source": [
    "model_h5_ft = 'model_files/densenet_ft_test.h5'\n",
    "encoder_h5_ft = 'model_files/densenet_ft_test_encoder.h5'\n",
    "\n",
    "best_test_acc = 0.0\n",
    "\n",
    "loaded_model_h5 = 'model_files/best_models/densenet_gtsrb2tt100k_whole.h5'\n",
    "#load_model_h5 = 'model_files/best_models/densenet_gtsrb2tt100k_whole_2.h5'\n",
    "se = load_model(\n",
    "    loaded_model_h5,\n",
    "    custom_objects={\n",
    "        'Weighted_Euclidean_Distance':Weighted_Euclidean_Distance,\n",
    "        'BilinearInterpolation':BilinearInterpolation,\n",
    "        'Localization':Localization},compile=False)\n",
    "\n",
    "encoder = se.get_layer('encoder')\n",
    "\n",
    "#optimizer_fn = keras.optimizers.Adam(learning_rate=1e-6,epsilon=1.0e-8)\n",
    "\n",
    "#se.compile(optimizer=optimizer_fn,loss=loss_mse,metrics=CategoricalAccuracy())"
   ]
  },
  {
   "cell_type": "code",
   "execution_count": 5,
   "id": "e9739b94-f6fa-47dd-9a39-5fc340df0c61",
   "metadata": {
    "tags": []
   },
   "outputs": [
    {
     "name": "stdout",
     "output_type": "stream",
     "text": [
      "Model: \"decoder\"\n",
      "_________________________________________________________________\n",
      " Layer (type)                Output Shape              Param #   \n",
      "=================================================================\n",
      " input_1 (InputLayer)        [(None, 300)]             0         \n",
      "                                                                 \n",
      " dense (Dense)               (None, 6400)              1926400   \n",
      "                                                                 \n",
      " reshape (Reshape)           (None, 8, 8, 100)         0         \n",
      "                                                                 \n",
      " up_sampling2d (UpSampling2D  (None, 16, 16, 100)      0         \n",
      " )                                                               \n",
      "                                                                 \n",
      " conv2d_transpose (Conv2DTra  (None, 16, 16, 100)      90100     \n",
      " nspose)                                                         \n",
      "                                                                 \n",
      " up_sampling2d_1 (UpSampling  (None, 32, 32, 100)      0         \n",
      " 2D)                                                             \n",
      "                                                                 \n",
      " conv2d_transpose_1 (Conv2DT  (None, 32, 32, 100)      90100     \n",
      " ranspose)                                                       \n",
      "                                                                 \n",
      " up_sampling2d_2 (UpSampling  (None, 64, 64, 100)      0         \n",
      " 2D)                                                             \n",
      "                                                                 \n",
      " conv2d_transpose_2 (Conv2DT  (None, 64, 64, 3)        2703      \n",
      " ranspose)                                                       \n",
      "                                                                 \n",
      "=================================================================\n",
      "Total params: 2,109,303\n",
      "Trainable params: 2,109,303\n",
      "Non-trainable params: 0\n",
      "_________________________________________________________________\n"
     ]
    }
   ],
   "source": [
    "latent_inputs = Input(shape=(300,))\n",
    "x = Dense(8 * 8 * 100, activation=\"relu\")(latent_inputs)\n",
    "x = Reshape((8, 8, 100))(x)\n",
    "x = UpSampling2D()(x)\n",
    "x = Conv2DTranspose(100, 3, activation=\"relu\", strides=1, padding=\"same\")(x)\n",
    "x = UpSampling2D()(x)\n",
    "x = Conv2DTranspose(100, 3, activation=\"relu\", strides=1, padding=\"same\")(x)\n",
    "x = UpSampling2D()(x)\n",
    "decoder_outputs = Conv2DTranspose(3, 3, activation=\"sigmoid\", padding=\"same\")(x)\n",
    "decoder = keras.Model(latent_inputs, decoder_outputs, name=\"decoder\")\n",
    "decoder.summary()"
   ]
  },
  {
   "cell_type": "code",
   "execution_count": 5,
   "id": "e05c01d9-9fe9-4b7e-b617-e60802260f75",
   "metadata": {
    "tags": []
   },
   "outputs": [],
   "source": [
    "encoder = create_densenet(input_shape=(64,64,3))"
   ]
  },
  {
   "cell_type": "code",
   "execution_count": 6,
   "id": "7d923b20-7e78-49ae-9f3c-18c289db807a",
   "metadata": {
    "tags": []
   },
   "outputs": [],
   "source": [
    "support = Input((64,64,3))\n",
    "query = Input((64,64,3))\n",
    "zs = encoder(support)\n",
    "zq = encoder(query)\n",
    "dist = Weighted_Euclidean_Distance()([zs,zq])\n",
    "cls_out = Activation(\"softmax\")(dist)\n",
    "xs_hat = decoder(zq)\n",
    "xq_hat = decoder(zs)\n",
    "segan = keras.Model(inputs=[support,query],outputs=[cls_out,xs_hat,xq_hat])"
   ]
  },
  {
   "cell_type": "code",
   "execution_count": 6,
   "id": "ea31fcf5-a8b5-4f7b-be56-f1e3e6eeec65",
   "metadata": {
    "tags": []
   },
   "outputs": [
    {
     "name": "stdout",
     "output_type": "stream",
     "text": [
      "Model: \"model\"\n",
      "__________________________________________________________________________________________________\n",
      " Layer (type)                   Output Shape         Param #     Connected to                     \n",
      "==================================================================================================\n",
      " input_3 (InputLayer)           [(None, 64, 64, 3)]  0           []                               \n",
      "                                                                                                  \n",
      " encoder (Functional)           (None, 300)          2036680     ['input_3[0][0]']                \n",
      "                                                                                                  \n",
      " input_2 (InputLayer)           [(None, 64, 64, 3)]  0           []                               \n",
      "                                                                                                  \n",
      " decoder (Functional)           (None, 64, 64, 3)    2109303     ['encoder[2][0]']                \n",
      "                                                                                                  \n",
      "==================================================================================================\n",
      "Total params: 4,145,983\n",
      "Trainable params: 4,139,135\n",
      "Non-trainable params: 6,848\n",
      "__________________________________________________________________________________________________\n"
     ]
    }
   ],
   "source": [
    "support = Input((64,64,3))\n",
    "query = Input((64,64,3))\n",
    "zq = encoder(query)\n",
    "xs_hat = decoder(zq)\n",
    "segan = keras.Model(inputs=[support,query],outputs=[xs_hat])\n",
    "segan.summary()"
   ]
  },
  {
   "cell_type": "code",
   "execution_count": null,
   "id": "662cd7e8-43ab-4f1f-9e20-717d1b46a116",
   "metadata": {},
   "outputs": [],
   "source": []
  },
  {
   "cell_type": "code",
   "execution_count": null,
   "id": "0aeb5d5d-700c-4887-8d3d-9a80f5cca588",
   "metadata": {},
   "outputs": [],
   "source": []
  },
  {
   "cell_type": "code",
   "execution_count": 57,
   "id": "4e010583-8da6-4f69-b171-5a7aad04f19c",
   "metadata": {
    "tags": []
   },
   "outputs": [],
   "source": [
    "encoder.trainable = True"
   ]
  },
  {
   "cell_type": "code",
   "execution_count": null,
   "id": "1dc1c607-2813-4851-9123-848d22965c02",
   "metadata": {},
   "outputs": [],
   "source": []
  },
  {
   "cell_type": "code",
   "execution_count": 69,
   "id": "39426ba6-e597-460d-bd8b-5105dfbfa23d",
   "metadata": {
    "tags": []
   },
   "outputs": [
    {
     "name": "stdout",
     "output_type": "stream",
     "text": [
      "Model: \"decoder\"\n",
      "_________________________________________________________________\n",
      " Layer (type)                Output Shape              Param #   \n",
      "=================================================================\n",
      " input_9 (InputLayer)        [(None, 300)]             0         \n",
      "                                                                 \n",
      " dense_1 (Dense)             (None, 6400)              1926400   \n",
      "                                                                 \n",
      " reshape_4142 (Reshape)      (None, 8, 8, 100)         0         \n",
      "                                                                 \n",
      " up_sampling2d_3 (UpSampling  (None, 16, 16, 100)      0         \n",
      " 2D)                                                             \n",
      "                                                                 \n",
      " conv2d_transpose_3 (Conv2DT  (None, 16, 16, 100)      90100     \n",
      " ranspose)                                                       \n",
      "                                                                 \n",
      " up_sampling2d_4 (UpSampling  (None, 32, 32, 100)      0         \n",
      " 2D)                                                             \n",
      "                                                                 \n",
      " conv2d_transpose_4 (Conv2DT  (None, 32, 32, 100)      90100     \n",
      " ranspose)                                                       \n",
      "                                                                 \n",
      " up_sampling2d_5 (UpSampling  (None, 64, 64, 100)      0         \n",
      " 2D)                                                             \n",
      "                                                                 \n",
      " conv2d_transpose_5 (Conv2DT  (None, 64, 64, 3)        2703      \n",
      " ranspose)                                                       \n",
      "                                                                 \n",
      "=================================================================\n",
      "Total params: 2,109,303\n",
      "Trainable params: 2,109,303\n",
      "Non-trainable params: 0\n",
      "_________________________________________________________________\n"
     ]
    }
   ],
   "source": [
    "latent_inputs = Input(shape=(300,))\n",
    "x = Dense(8 * 8 * 100, activation=\"relu\")(latent_inputs)\n",
    "x = Reshape((8, 8, 100))(x)\n",
    "x = UpSampling2D()(x)\n",
    "x = Conv2DTranspose(100, 3, activation=\"relu\", strides=1, padding=\"same\")(x)\n",
    "x = UpSampling2D()(x)\n",
    "x = Conv2DTranspose(100, 3, activation=\"relu\", strides=1, padding=\"same\")(x)\n",
    "x = UpSampling2D()(x)\n",
    "decoder_outputs = Conv2DTranspose(3, 3, activation=\"sigmoid\", padding=\"same\")(x)\n",
    "decoder = keras.Model(latent_inputs, decoder_outputs, name=\"decoder\")\n",
    "decoder.summary()"
   ]
  },
  {
   "cell_type": "code",
   "execution_count": 70,
   "id": "3516e699-8270-4f99-a9fe-ebc300d6f30d",
   "metadata": {
    "tags": []
   },
   "outputs": [],
   "source": [
    "input_gan = Input((64,64,3))\n",
    "e = encoder(input_gan)\n",
    "out = decoder(e)\n",
    "gan = keras.Model(inputs=input_gan,outputs=out)"
   ]
  },
  {
   "cell_type": "code",
   "execution_count": 7,
   "id": "eed61fcd-af77-4736-80a1-c39f60f6200c",
   "metadata": {
    "tags": []
   },
   "outputs": [
    {
     "name": "stdout",
     "output_type": "stream",
     "text": [
      "Model: \"model\"\n",
      "_________________________________________________________________\n",
      " Layer (type)                Output Shape              Param #   \n",
      "=================================================================\n",
      " input_3 (InputLayer)        [(None, 64, 64, 3)]       0         \n",
      "                                                                 \n",
      " encoder (Functional)        (None, 300)               2036680   \n",
      "                                                                 \n",
      " decoder (Functional)        (None, 64, 64, 3)         3616803   \n",
      "                                                                 \n",
      "=================================================================\n",
      "Total params: 5,653,483\n",
      "Trainable params: 3,616,803\n",
      "Non-trainable params: 2,036,680\n",
      "_________________________________________________________________\n"
     ]
    }
   ],
   "source": [
    "gan.summary()"
   ]
  },
  {
   "cell_type": "code",
   "execution_count": 5,
   "id": "3079bad0-f804-4455-97ae-3283a1e51b7e",
   "metadata": {
    "tags": []
   },
   "outputs": [],
   "source": [
    "def loss_fn(pred,true):\n",
    "    pred = normalize(pred)\n",
    "    true = normalize(true)\n",
    "    return tf.reduce_mean(1.0 - ssim(pred,true,max_val=1.0))"
   ]
  },
  {
   "cell_type": "code",
   "execution_count": 7,
   "id": "25bbb4a1-8b47-44f6-8f92-98382329edc8",
   "metadata": {
    "tags": []
   },
   "outputs": [],
   "source": [
    "def standardize(img):\n",
    "    mean = np.mean(img)\n",
    "    std = np.std(img)\n",
    "    return (img - mean) / std"
   ]
  },
  {
   "cell_type": "code",
   "execution_count": 10,
   "id": "955c86f5-39d5-4481-9b46-7264931e3b4c",
   "metadata": {
    "tags": []
   },
   "outputs": [],
   "source": [
    "class GTSRB_Generator(tf.keras.utils.Sequence):\n",
    "    \"\"\"\n",
    "    Generating Batch of Data\n",
    "    n_way: number of ways (classes)\n",
    "    k_shot: number of shots\n",
    "    batch: batch of data (query samples)\n",
    "    \"\"\"\n",
    "    def __init__(\n",
    "        self,data_path='datasets/GTSRB/',\n",
    "        batch=43,target_size=(64,64),shuffle=True):\n",
    "        #Initialization\n",
    "        self.data_path = data_path\n",
    "        self.batch = batch\n",
    "        self.target_size = target_size\n",
    "        self.standardize = standardize\n",
    "        self.shuffle = shuffle\n",
    "\n",
    "        \n",
    "        home = os.getcwd()\n",
    "        original_path = os.path.join(home,self.data_path)\n",
    "\n",
    "        self.target_path = os.path.join(original_path,\"all\")\n",
    "        self.source_path = os.path.join(original_path,\"template/all\")\n",
    "        self.classes = np.asarray(os.listdir(self.target_path))\n",
    "        self.classes.sort()\n",
    "   \n",
    "        self.IDs = []\n",
    "        self.labels_IDs = []\n",
    "        self.Xsource = np.empty((43,*self.target_size,3))\n",
    "        for i,C in enumerate(self.classes):\n",
    "            c_path = os.path.join(self.target_path,C)\n",
    "            for f in os.listdir(c_path):\n",
    "                self.IDs += [C+'/'+f]\n",
    "                self.labels_IDs += [i]\n",
    "                \n",
    "            c_path = os.path.join(self.source_path,C)\n",
    "            for f in os.listdir(c_path):\n",
    "                file_path = os.path.join(c_path,f)\n",
    "                #X[i] = img_to_array(load_img(file_path,target_size=self.target_size))\n",
    "     \n",
    "                self.Xsource[i] = self.standardize(img_to_array(load_img(\n",
    "                    file_path,target_size=self.target_size,\n",
    "                    interpolation='bilinear')))\n",
    "        self.labels_IDs = np.asarray(self.labels_IDs)\n",
    "        self.IDs = np.array(self.IDs)\n",
    "        \n",
    "        self.on_epoch_end()\n",
    "        \n",
    "    \n",
    "    def __len__(self):\n",
    "        'Denotes the number of batches per epoch'\n",
    "        return (len(self.labels_IDs) // self.batch)\n",
    "\n",
    "\n",
    "    def __getitem__(self,index):\n",
    "        'Generate one batch of data'\n",
    "        # Generate data\n",
    "        indexes = self.indexes[index*self.batch:(index+1)*self.batch]\n",
    "        X_sample, X_query = self.__data_generation(indexes)\n",
    "        return [X_sample, X_query]\n",
    "\n",
    "    def on_epoch_end(self):\n",
    "        'Updates indexes after each epoch'\n",
    "        self.indexes = np.arange(len(self.labels_IDs))\n",
    "        if self.shuffle:\n",
    "            np.random.shuffle(self.indexes)\n",
    "\n",
    "    def __data_generation(self,indexes):\n",
    "        'Generates data containing batch_size samples' # X : (n_samples, *dim, n_channels)\n",
    "        # Initialization\n",
    "        \n",
    "        X = np.empty((2*self.batch,*self.target_size,3))\n",
    "        y = np.empty((2*self.batch,1))\n",
    "\n",
    "        #tt100k_path = 'datasets/TT100K/template/all/'\n",
    "        #tt_classes = os.listdir(tt100k_path)\n",
    "        #tt_classes.sort()\n",
    "        for i,idx in enumerate(indexes):\n",
    "            file_path = os.path.join(self.target_path,self.IDs[idx])\n",
    "            X[i] = self.standardize(img_to_array(load_img(\n",
    "                    file_path,target_size=self.target_size,\n",
    "                    interpolation='bilinear')))\n",
    "            X[i+self.batch] = self.Xsource[self.labels_IDs[idx]]\n",
    "\n",
    "        return tf.constant(X[:self.batch],dtype='float32'),\\\n",
    "            tf.constant(X[self.batch:],dtype='float32')"
   ]
  },
  {
   "cell_type": "code",
   "execution_count": 10,
   "id": "f8e1ae68-e47b-4c90-81b7-f34db70d5ebb",
   "metadata": {
    "tags": []
   },
   "outputs": [],
   "source": [
    "class TT_Generator(tf.keras.utils.Sequence):\n",
    "    \"\"\"\n",
    "    Generating Batch of Data\n",
    "    n_way: number of ways (classes)\n",
    "    k_shot: number of shots\n",
    "    batch: batch of data (query samples)\n",
    "    \"\"\"\n",
    "    def __init__(\n",
    "        self,data_path='datasets/TT100K/',\n",
    "        batch=43,target_size=(64,64),shuffle=True):\n",
    "        #Initialization\n",
    "        self.data_path = data_path\n",
    "        self.batch = batch\n",
    "        self.target_size = target_size\n",
    "        self.standardize = standardize\n",
    "        self.shuffle = shuffle\n",
    "\n",
    "        \n",
    "        home = os.getcwd()\n",
    "        original_path = os.path.join(home,self.data_path)\n",
    "\n",
    "        self.target_path = os.path.join(original_path,\"all\")\n",
    "        self.source_path = os.path.join(original_path,\"template/all\")\n",
    "        self.classes = np.asarray(os.listdir(self.target_path))\n",
    "        self.classes.sort()\n",
    "   \n",
    "        self.IDs = []\n",
    "        self.labels_IDs = []\n",
    "        self.Xsource = np.empty((43,*self.target_size,3))\n",
    "        for i,C in enumerate(self.classes):\n",
    "            c_path = os.path.join(self.target_path,C)\n",
    "            for f in os.listdir(c_path):\n",
    "                self.IDs += [C+'/'+f]\n",
    "                self.labels_IDs += [i]\n",
    "                \n",
    "            c_path = os.path.join(self.source_path,C)\n",
    "            for f in os.listdir(c_path):\n",
    "                file_path = os.path.join(c_path,f)\n",
    "                #X[i] = img_to_array(load_img(file_path,target_size=self.target_size))\n",
    "     \n",
    "                self.Xsource[i] = self.standardize(img_to_array(load_img(\n",
    "                    file_path,target_size=self.target_size,\n",
    "                    interpolation='bilinear')))\n",
    "        self.labels_IDs = np.asarray(self.labels_IDs)\n",
    "        self.IDs = np.array(self.IDs)\n",
    "        \n",
    "        self.on_epoch_end()\n",
    "        \n",
    "    \n",
    "    def __len__(self):\n",
    "        'Denotes the number of batches per epoch'\n",
    "        return (len(self.labels_IDs) // self.batch)\n",
    "\n",
    "\n",
    "    def __getitem__(self,index):\n",
    "        'Generate one batch of data'\n",
    "        # Generate data\n",
    "        indexes = self.indexes[index*self.batch:(index+1)*self.batch]\n",
    "        X_sample, X_query = self.__data_generation(indexes)\n",
    "        return [X_sample, X_query]\n",
    "\n",
    "    def on_epoch_end(self):\n",
    "        'Updates indexes after each epoch'\n",
    "        self.indexes = np.arange(len(self.labels_IDs))\n",
    "        if self.shuffle:\n",
    "            np.random.shuffle(self.indexes)\n",
    "\n",
    "    def __data_generation(self,indexes):\n",
    "        'Generates data containing batch_size samples' # X : (n_samples, *dim, n_channels)\n",
    "        # Initialization\n",
    "        \n",
    "        X = np.empty((2*self.batch,*self.target_size,3))\n",
    "        y = np.empty((2*self.batch,1))\n",
    "\n",
    "        #tt100k_path = 'datasets/TT100K/template/all/'\n",
    "        #tt_classes = os.listdir(tt100k_path)\n",
    "        #tt_classes.sort()\n",
    "        for i,idx in enumerate(indexes):\n",
    "            file_path = os.path.join(self.target_path,self.IDs[idx])\n",
    "            X[i] = self.standardize(img_to_array(load_img(\n",
    "                    file_path,target_size=self.target_size,\n",
    "                    interpolation='bilinear')))\n",
    "            X[i+self.batch] = self.Xsource[self.labels_IDs[idx]]\n",
    "\n",
    "        return tf.constant(X[:self.batch],dtype='float32'),\\\n",
    "            tf.constant(X[self.batch:],dtype='float32')"
   ]
  },
  {
   "cell_type": "code",
   "execution_count": 11,
   "id": "1f86e6a5-b5c3-4f18-a1c5-f97e90c7a207",
   "metadata": {
    "tags": []
   },
   "outputs": [
    {
     "ename": "NameError",
     "evalue": "name 'GTSRB_Generator' is not defined",
     "output_type": "error",
     "traceback": [
      "\u001b[0;31m---------------------------------------------------------------------------\u001b[0m",
      "\u001b[0;31mNameError\u001b[0m                                 Traceback (most recent call last)",
      "Cell \u001b[0;32mIn[11], line 1\u001b[0m\n\u001b[0;32m----> 1\u001b[0m gt_loader \u001b[38;5;241m=\u001b[39m \u001b[43mGTSRB_Generator\u001b[49m(batch\u001b[38;5;241m=\u001b[39m\u001b[38;5;241m128\u001b[39m)\n",
      "\u001b[0;31mNameError\u001b[0m: name 'GTSRB_Generator' is not defined"
     ]
    }
   ],
   "source": [
    "gt_loader = GTSRB_Generator(batch=128)"
   ]
  },
  {
   "cell_type": "code",
   "execution_count": 12,
   "id": "e228a0e7-97aa-4258-a430-fa2a4c712b7d",
   "metadata": {
    "tags": []
   },
   "outputs": [],
   "source": [
    "tt_loader = TT_Generator(batch=128)"
   ]
  },
  {
   "cell_type": "code",
   "execution_count": 13,
   "id": "7b4ad162-3557-4d26-9460-900f0d30d680",
   "metadata": {
    "tags": []
   },
   "outputs": [],
   "source": [
    "f = iter(tt_loader)"
   ]
  },
  {
   "cell_type": "code",
   "execution_count": 14,
   "id": "9a6bddaf-63e0-4ddf-b5f8-da2b7547d714",
   "metadata": {
    "tags": []
   },
   "outputs": [],
   "source": [
    "[Xs,Xq] = next(f)"
   ]
  },
  {
   "cell_type": "code",
   "execution_count": 17,
   "id": "e9f376b3-ded2-4c84-93ba-48241ea613d9",
   "metadata": {
    "tags": []
   },
   "outputs": [
    {
     "data": {
      "text/plain": [
       "<matplotlib.image.AxesImage at 0x7fd3e02fa5e0>"
      ]
     },
     "execution_count": 17,
     "metadata": {},
     "output_type": "execute_result"
    },
    {
     "data": {
      "image/png": "[encoded data removed]",
      "text/plain": [
       "<Figure size 640x480 with 1 Axes>"
      ]
     },
     "metadata": {},
     "output_type": "display_data"
    }
   ],
   "source": [
    "plt.imshow(normalize(Xs[0]))"
   ]
  },
  {
   "cell_type": "code",
   "execution_count": 18,
   "id": "27675db0-6072-4901-88d5-6ccb452d3aaf",
   "metadata": {
    "tags": []
   },
   "outputs": [
    {
     "data": {
      "text/plain": [
       "<tf.Tensor: shape=(), dtype=float32, numpy=0.84720707>"
      ]
     },
     "execution_count": 18,
     "metadata": {},
     "output_type": "execute_result"
    }
   ],
   "source": [
    "tf.math.minimum"
   ]
  },
  {
   "cell_type": "code",
   "execution_count": 8,
   "id": "777c8feb-d583-41f2-80b2-6bde14710bc4",
   "metadata": {
    "tags": []
   },
   "outputs": [],
   "source": [
    "def normalize(img):\n",
    "    return (img - tf.math.reduce_min(img))/(tf.math.reduce_max(img) - tf.math.reduce_min(img))"
   ]
  },
  {
   "cell_type": "code",
   "execution_count": 12,
   "id": "307a30bf-cb6f-425b-82c2-95d5fa1912b0",
   "metadata": {
    "tags": []
   },
   "outputs": [],
   "source": [
    "#@tf.function\n",
    "def train_step(model,data,optimizer):\n",
    "    [Xs,Xq] = data\n",
    "    with tf.GradientTape() as tape:\n",
    "        #make prediction\n",
    "        y_pred = model(Xq,training = True)\n",
    "        loss =  loss_fn(y_pred,Xs)\n",
    "    gradients = tape.gradient(loss,model.trainable_variables)\n",
    "    optimizer.apply_gradients(zip(gradients,model.trainable_variables))\n",
    "    return loss\n",
    "\n",
    "def train(model,generator,optimizer):\n",
    "    pb = tf.keras.utils.Progbar(\n",
    "        len(generator),verbose=1,stateful_metrics=['train loss'])\n",
    "    for data in generator:\n",
    "        loss = train_step(model,data=data,optimizer=optimizer)\n",
    "        #update mean loss value\n",
    "        train_loss_tracker.update_state(loss)\n",
    "        #update mean acc value\n",
    "        #train_acc_tracker.update_state(acc)\n",
    "        values=[('train loss',train_loss_tracker.result())]\n",
    "        pb.add(1,values=values)\n",
    "    train_loss_tracker.reset_states()"
   ]
  },
  {
   "cell_type": "code",
   "execution_count": 59,
   "id": "9e26d044-0620-4eea-9deb-7f997abb199e",
   "metadata": {
    "tags": []
   },
   "outputs": [],
   "source": [
    "metric = CategoricalAccuracy()\n",
    "train_loss_tracker = keras.metrics.Mean(name='loss')\n",
    "#optimizer = keras.optimizers.SGD(learning_rate=0.1,momentum=0.9)\n",
    "optimizer_fn = keras.optimizers.Adam(learning_rate=1e-5,epsilon=1e-8)\n",
    "gan.compile(optimizer=optimizer_fn,loss=loss_fn,metrics=metric)"
   ]
  },
  {
   "cell_type": "code",
   "execution_count": null,
   "id": "d691517d-d0ca-4699-a118-f0dc28c14501",
   "metadata": {
    "tags": []
   },
   "outputs": [],
   "source": [
    "for _ in range(10):\n",
    "    train(gan,tt_loader,optimizer=optimizer_fn)"
   ]
  },
  {
   "cell_type": "code",
   "execution_count": 28,
   "id": "2b2276c9-e61f-41f5-9d1c-e4a5739edd8a",
   "metadata": {
    "tags": []
   },
   "outputs": [],
   "source": [
    "gan.save('gan.h5')"
   ]
  },
  {
   "cell_type": "code",
   "execution_count": 61,
   "id": "d42811d2-1e0b-49e3-9291-0e8baf5609cb",
   "metadata": {
    "tags": []
   },
   "outputs": [],
   "source": [
    "a = gan(Xq)"
   ]
  },
  {
   "cell_type": "code",
   "execution_count": 62,
   "id": "725a8a15-14eb-4c5c-9def-02097eab7860",
   "metadata": {
    "tags": []
   },
   "outputs": [
    {
     "data": {
      "text/plain": [
       "<matplotlib.image.AxesImage at 0x7fd3ef576250>"
      ]
     },
     "execution_count": 62,
     "metadata": {},
     "output_type": "execute_result"
    },
    {
     "data": {
      "image/png": "[encoded data removed]",
      "text/plain": [
       "<Figure size 640x480 with 1 Axes>"
      ]
     },
     "metadata": {},
     "output_type": "display_data"
    }
   ],
   "source": [
    "plt.imshow(normalize(a[2]))"
   ]
  },
  {
   "cell_type": "code",
   "execution_count": 30,
   "id": "7a95168c-817f-4a41-a3f6-d881872601e9",
   "metadata": {
    "tags": []
   },
   "outputs": [
    {
     "data": {
      "text/plain": [
       "<matplotlib.image.AxesImage at 0x7fd3e024d730>"
      ]
     },
     "execution_count": 30,
     "metadata": {},
     "output_type": "execute_result"
    },
    {
     "data": {
      "image/png": "[encoded data removed]",
      "text/plain": [
       "<Figure size 640x480 with 1 Axes>"
      ]
     },
     "metadata": {},
     "output_type": "display_data"
    }
   ],
   "source": [
    "plt.imshow(normalize(Xq[2]))"
   ]
  },
  {
   "cell_type": "code",
   "execution_count": 28,
   "id": "8ad6b037-58c6-44d1-a208-46ebe61077fc",
   "metadata": {
    "tags": []
   },
   "outputs": [],
   "source": [
    "def make_data_generator(test_mode):\n",
    "    #validation = False\n",
    "    loader = get_loader(test_mode) \n",
    "    if test_mode== 'belga2flick' or \\\n",
    "        test_mode == 'belga2toplogo' or test_mode == 'gtsrb':\n",
    "        train_datagen, val_datagen,test_datagen = loader.get_generator(\n",
    "            batch=128,dim=64)\n",
    "        #return train_datagen, val_datagen,test_datagen\n",
    "        #validation = False\n",
    "    else:\n",
    "        train_datagen, test_datagen = loader.get_generator(\n",
    "            batch=128,dim=64)\n",
    "\n",
    "    return train_datagen ,test_datagen"
   ]
  },
  {
   "cell_type": "code",
   "execution_count": 29,
   "id": "4ae032f8-c407-4be0-adf2-4c5e58e415a6",
   "metadata": {
    "tags": []
   },
   "outputs": [],
   "source": [
    "train_gen2,test_datagen2 = make_data_generator('gtsrb2tt100k')"
   ]
  },
  {
   "cell_type": "code",
   "execution_count": 17,
   "id": "7714b096-cc6a-4da9-a17d-4861773b101f",
   "metadata": {
    "tags": []
   },
   "outputs": [],
   "source": [
    "f= iter(test_datagen2)"
   ]
  },
  {
   "cell_type": "code",
   "execution_count": 18,
   "id": "f4902a19-988e-461e-8825-4d09c1338f16",
   "metadata": {
    "tags": []
   },
   "outputs": [],
   "source": [
    "[Xs,Xq],y = next(f)"
   ]
  },
  {
   "cell_type": "code",
   "execution_count": 50,
   "id": "46986896-725a-45e3-8561-1181f95d1cdd",
   "metadata": {
    "tags": []
   },
   "outputs": [],
   "source": [
    "p = 5\n",
    "Z = np.empty((36*p,64,64,3))\n",
    "for i,x in enumerate(Xs):\n",
    "    s = tf.expand_dims(x,axis=0)\n",
    "    for k in range(p):\n",
    "        Z[p*i+k] = random_brightness(gan(s),0.2,0.5)"
   ]
  },
  {
   "cell_type": "code",
   "execution_count": 56,
   "id": "d5d07aac-7469-4bc3-a07d-b6a353ea799c",
   "metadata": {
    "tags": []
   },
   "outputs": [
    {
     "data": {
      "text/plain": [
       "<matplotlib.image.AxesImage at 0x7fd00e00e070>"
      ]
     },
     "execution_count": 56,
     "metadata": {},
     "output_type": "execute_result"
    },
    {
     "data": {
      "image/png": "[encoded data removed]",
      "text/plain": [
       "<Figure size 640x480 with 1 Axes>"
      ]
     },
     "metadata": {},
     "output_type": "display_data"
    }
   ],
   "source": [
    "plt.imshow(normalize(Z[1]))"
   ]
  },
  {
   "cell_type": "code",
   "execution_count": 71,
   "id": "f0ea9c03-29be-4d3b-9d3d-1a83f4086c89",
   "metadata": {
    "tags": []
   },
   "outputs": [],
   "source": [
    "inp1 = Input((64,64,3))\n",
    "inp2 = Input((64,64,3))\n",
    "xp = gan(inp1)\n",
    "out = se([inp2,xp])\n",
    "fm = keras.Model(inputs=[inp1,inp2],outputs=[out,xp])\n"
   ]
  },
  {
   "cell_type": "code",
   "execution_count": 11,
   "id": "582ff937-eb14-4f07-b55d-d3ca22f23664",
   "metadata": {
    "tags": []
   },
   "outputs": [],
   "source": [
    "def loss_fn(y_pred,y_true,pred,true):\n",
    "    pred = normalize(pred)\n",
    "    true = normalize(true)\n",
    "    loss_ssim = tf.reduce_mean(1.0 - ssim(pred,true,max_val=1.0))\n",
    "    loss_ms = loss_mse(y_true,y_pred)\n",
    "    return loss_ssim+loss_ms"
   ]
  },
  {
   "cell_type": "code",
   "execution_count": 9,
   "id": "ae1b81fe-5ccf-4c26-8724-f1d5b710e70c",
   "metadata": {
    "tags": []
   },
   "outputs": [],
   "source": [
    "def loss_fn3(pred,true):\n",
    "    pred = normalize(pred)\n",
    "    true = normalize(true)\n",
    "    return tf.reduce_mean(1.0 - ssim(pred,true,max_val=1.0))"
   ]
  },
  {
   "cell_type": "code",
   "execution_count": 11,
   "id": "69a677b3-31ed-48c9-a99f-a451f20bb4e4",
   "metadata": {
    "tags": []
   },
   "outputs": [],
   "source": [
    "def loss_fn2(y_pred,y_true,xs_hat,xs,xq_hat,xq):\n",
    "    xs_hat = normalize(xs_hat)\n",
    "    xs = normalize(xs)\n",
    "    xq_hat = normalize(xq_hat)\n",
    "    xq = normalize(xq)\n",
    "    loss_ssim_s = tf.reduce_mean(1.0 - ssim(xs_hat,xs,max_val=1.0))\n",
    "    loss_ssim_q = tf.reduce_mean(1.0 - ssim(xq_hat,xq,max_val=1.0))\n",
    "    loss_ms = loss_mse(y_true,y_pred)\n",
    "    return loss_ssim_s + loss_ssim_q + loss_ms"
   ]
  },
  {
   "cell_type": "code",
   "execution_count": 32,
   "id": "9a7183dd-d3df-4841-9cb0-c0534920702a",
   "metadata": {
    "tags": []
   },
   "outputs": [],
   "source": [
    "#@tf.function\n",
    "def train_step(model,data,optimizer):\n",
    "    [Xs,Xq],y_true = data\n",
    "    with tf.GradientTape() as tape:\n",
    "        #make prediction\n",
    "        y_pred,xp = model([Xs,Xq],training = True)\n",
    "        loss =  loss_fn(y_pred,y_true,xp,Xs)\n",
    "    gradients = tape.gradient(loss,model.trainable_variables)\n",
    "    optimizer.apply_gradients(zip(gradients,model.trainable_variables))\n",
    "    return loss,accuracy(y_true,y_pred)\n",
    "\n",
    "def train(model,generator,optimizer):\n",
    "    train_loss_tracker = keras.metrics.Mean(name='loss')\n",
    "    train_acc_tracker = keras.metrics.Mean(name='loss')\n",
    "    pb = tf.keras.utils.Progbar(\n",
    "        len(generator),verbose=1,stateful_metrics=['train loss'])\n",
    "    for data in generator:\n",
    "        loss,acc = train_step(model,data=data,optimizer=optimizer)\n",
    "        #update mean loss value\n",
    "        train_loss_tracker.update_state(loss)\n",
    "        #update mean acc value\n",
    "        train_acc_tracker.update_state(acc)\n",
    "        values=[('train loss',train_loss_tracker.result()),('train acc',train_acc_tracker.result())]\n",
    "        pb.add(1,values=values)\n",
    "    train_loss_tracker.reset_states()\n",
    "    train_acc_tracker.reset_states()"
   ]
  },
  {
   "cell_type": "code",
   "execution_count": 12,
   "id": "074c9fad-5f45-47bf-b1d5-9ba0dea7f65c",
   "metadata": {
    "tags": []
   },
   "outputs": [],
   "source": [
    "@tf.function\n",
    "def train_step(model,data,optimizer):\n",
    "    [Xs,Xq],Xsource,y_true = data\n",
    "    with tf.GradientTape() as tape:\n",
    "        #make prediction\n",
    "        y_pred,xp = model([Xs,Xq],training = True)\n",
    "        loss =  loss_fn(y_pred,y_true,xp,Xsource)\n",
    "    gradients = tape.gradient(loss,model.trainable_variables)\n",
    "    optimizer.apply_gradients(zip(gradients,model.trainable_variables))\n",
    "    return loss,accuracy(y_true,y_pred)\n",
    "\n",
    "def train(model,generator,optimizer):\n",
    "    train_loss_tracker = keras.metrics.Mean(name='loss')\n",
    "    train_acc_tracker = keras.metrics.Mean(name='loss')\n",
    "    pb = tf.keras.utils.Progbar(\n",
    "        len(generator),verbose=1,stateful_metrics=['train loss'])\n",
    "    for data in generator:\n",
    "        loss,acc = train_step(model,data=data,optimizer=optimizer)\n",
    "        #update mean loss value\n",
    "        train_loss_tracker.update_state(loss)\n",
    "        #update mean acc value\n",
    "        train_acc_tracker.update_state(acc)\n",
    "        values=[('train loss',train_loss_tracker.result()),('train acc',train_acc_tracker.result())]\n",
    "        pb.add(1,values=values)\n",
    "    train_loss_tracker.reset_states()\n",
    "    train_acc_tracker.reset_states()"
   ]
  },
  {
   "cell_type": "code",
   "execution_count": null,
   "id": "42bdec69-399d-4a93-b065-b68cf49fce0e",
   "metadata": {},
   "outputs": [],
   "source": [
    "@tf.function\n",
    "def train_step(model,data,optimizer):\n",
    "    [Xs,Xq],y_true = data\n",
    "    with tf.GradientTape() as tape:\n",
    "        #make prediction\n",
    "        y_pred,xs_hat,xq_hat = model([Xs,Xq],training = True)\n",
    "        loss =  loss_fn(y_pred,y_true,xs_hat,Xs,xs_hat)\n",
    "    gradients = tape.gradient(loss,model.trainable_variables)\n",
    "    optimizer.apply_gradients(zip(gradients,model.trainable_variables))\n",
    "    return loss,accuracy(y_true,y_pred)\n",
    "\n",
    "def train(model,generator,optimizer):\n",
    "    train_loss_tracker = keras.metrics.Mean(name='loss')\n",
    "    train_acc_tracker = keras.metrics.Mean(name='loss')\n",
    "    pb = tf.keras.utils.Progbar(\n",
    "        len(generator),verbose=1,stateful_metrics=['train loss'])\n",
    "    for data in generator:\n",
    "        loss,acc = train_step(model,data=data,optimizer=optimizer)\n",
    "        #update mean loss value\n",
    "        train_loss_tracker.update_state(loss)\n",
    "        #update mean acc value\n",
    "        train_acc_tracker.update_state(acc)\n",
    "        values=[('train loss',train_loss_tracker.result()),('train acc',train_acc_tracker.result())]\n",
    "        pb.add(1,values=values)\n",
    "    train_loss_tracker.reset_states()\n",
    "    train_acc_tracker.reset_states()"
   ]
  },
  {
   "cell_type": "code",
   "execution_count": 18,
   "id": "b6afcb9b-7a23-49e1-82a0-e7610500e571",
   "metadata": {
    "tags": []
   },
   "outputs": [],
   "source": [
    "@tf.function\n",
    "def train_step(model,data,optimizer):\n",
    "    [Xs,Xq],Xsource,y_true = data\n",
    "    with tf.GradientTape() as tape:\n",
    "        #make prediction\n",
    "        xs_hat = model([Xs,Xq],training = True)\n",
    "        loss =  loss_fn3(xs_hat,Xsource)\n",
    "    gradients = tape.gradient(loss,model.trainable_variables)\n",
    "    optimizer.apply_gradients(zip(gradients,model.trainable_variables))\n",
    "    return loss\n",
    "\n",
    "def train(model,generator,optimizer):\n",
    "    train_loss_tracker = keras.metrics.Mean(name='loss')\n",
    "    pb = tf.keras.utils.Progbar(\n",
    "        len(generator),verbose=1,stateful_metrics=['train loss'])\n",
    "    for data in generator:\n",
    "        loss = train_step(model,data=data,optimizer=optimizer)\n",
    "        #update mean loss value\n",
    "        train_loss_tracker.update_state(loss)\n",
    "        #update mean acc value\n",
    "        values=[('train loss',train_loss_tracker.result())]\n",
    "        pb.add(1,values=values)\n",
    "    train_loss_tracker.reset_states()"
   ]
  },
  {
   "cell_type": "code",
   "execution_count": 12,
   "id": "b6b68a83-0362-4d94-addf-3f551a1fe92a",
   "metadata": {
    "tags": []
   },
   "outputs": [],
   "source": [
    "metric = CategoricalAccuracy()\n",
    "train_loss_tracker = keras.metrics.Mean(name='loss')\n",
    "#optimizer = keras.optimizers.SGD(learning_rate=0.1,momentum=0.9)\n",
    "optimizer_fn = keras.optimizers.Adam(learning_rate=1e-4,epsilon=1e-8)\n",
    "segan.compile(optimizer=optimizer_fn,loss=loss_fn3,metrics=metric)"
   ]
  },
  {
   "cell_type": "code",
   "execution_count": 43,
   "id": "44ac42a4-8b87-4f69-8c0c-2fb9e936cc79",
   "metadata": {
    "tags": []
   },
   "outputs": [],
   "source": [
    "class GTSRB_Generator(tf.keras.utils.Sequence):\n",
    "    \"\"\"\n",
    "    Generating Batch of Data\n",
    "    n_way: number of ways (classes)\n",
    "    k_shot: number of shots\n",
    "    batch: batch of data (query samples)\n",
    "    \"\"\"\n",
    "    def __init__(\n",
    "        self,n_way,k_shot,data_path='datasets/GTSRB',\n",
    "        batch=64,data_type = 'all',target_size=(64,64),shuffle=True):\n",
    "        #Initialization\n",
    "        self.n_way = n_way\n",
    "        self.k_shot = k_shot\n",
    "        self.data_path = data_path\n",
    "        self.batch = batch\n",
    "        self.data_type = data_type\n",
    "        self.target_size = target_size\n",
    "        self.standardize = standardize\n",
    "        self.shuffle = shuffle\n",
    "\n",
    "        \n",
    "        home = os.getcwd()\n",
    "        original_path = os.path.join(home,self.data_path)\n",
    "        template_path = os.path.join(original_path,\"template\")\n",
    "\n",
    "        if self.data_type == 'seen':\n",
    "            self.support_path = os.path.join(template_path,\"seen\")\n",
    "            self.query_path = os.path.join(original_path,\"seen\")\n",
    "        elif self.data_type == 'all':\n",
    "            self.support_path = os.path.join(template_path,\"all\")\n",
    "            self.query_path = os.path.join(original_path,\"all\")\n",
    "        else:\n",
    "            self.support_path = os.path.join(template_path,\"unseen\")\n",
    "            self.query_path = os.path.join(original_path,\"unseen\")\n",
    "\n",
    "        self.classes = np.asarray(os.listdir(self.query_path))\n",
    "        self.classes.sort()\n",
    "   \n",
    "        self.IDs = []\n",
    "        self.labels_IDs = []\n",
    "        for i,C in enumerate(self.classes):\n",
    "            c_path = os.path.join(self.query_path,C)\n",
    "            for f in os.listdir(c_path):\n",
    "                self.IDs += [C+'/'+f]\n",
    "                self.labels_IDs += [i]\n",
    "        self.labels_IDs = np.asarray(self.labels_IDs)\n",
    "        \n",
    "        self.on_epoch_end()\n",
    "    \n",
    "    def __len__(self):\n",
    "        'Denotes the number of batches per epoch'\n",
    "        return (len(self.labels_IDs) // self.batch)\n",
    "\n",
    "\n",
    "    def __getitem__(self,index):\n",
    "        'Generate one batch of data'\n",
    "        # Generate data\n",
    "        indexes = self.indexes[index*self.batch:(index+1)*self.batch]\n",
    "        X_sample, X_query,Xsource, label = self.__data_generation(indexes)\n",
    "        return [X_sample, X_query],Xsource, label\n",
    "\n",
    "    def on_epoch_end(self):\n",
    "        'Updates indexes after each epoch'\n",
    "        self.indexes = np.arange(len(self.labels_IDs))\n",
    "        if self.shuffle:\n",
    "            np.random.shuffle(self.indexes)\n",
    "\n",
    "    def __data_generation(self,indexes):\n",
    "        'Generates data containing batch_size samples' # X : (n_samples, *dim, n_channels)\n",
    "        # Initialization\n",
    "        \n",
    "        X = np.empty((self.n_way * self.k_shot + self.batch,*self.target_size,3))\n",
    "        y = np.empty((self.batch,1))\n",
    "        Xsource = np.empty((self.batch,*self.target_size,3))\n",
    "\n",
    "        for i,C in enumerate(self.classes):\n",
    "            c_path = os.path.join(self.support_path,C)\n",
    "            for f in os.listdir(c_path):\n",
    "                file_path = os.path.join(c_path,f)\n",
    "                #X[i] = img_to_array(load_img(file_path,target_size=self.target_size))\n",
    "     \n",
    "                X[i] = self.standardize(img_to_array(load_img(\n",
    "                    file_path,target_size=self.target_size,\n",
    "                    interpolation='bilinear')))\n",
    "        \n",
    "        for i,idx in enumerate(indexes):\n",
    "            file_path = os.path.join(self.query_path,self.IDs[idx])\n",
    "            X[i+self.n_way] = self.standardize(img_to_array(load_img(\n",
    "                    file_path,target_size=self.target_size,\n",
    "                    interpolation='bilinear')))\n",
    "            y[i] = self.labels_IDs[idx]\n",
    "            Xsource[i] = X[self.labels_IDs[idx]]\n",
    "        label_query = to_categorical(y,num_classes=self.n_way)\n",
    "\n",
    "        return tf.constant(X[:self.n_way],dtype='float32'),\\\n",
    "            tf.constant(X[self.n_way:],dtype='float32'),\\\n",
    "            tf.constant(Xsource,dtype='float32'),\\\n",
    "                tf.constant(label_query,dtype='float32')"
   ]
  },
  {
   "cell_type": "code",
   "execution_count": 44,
   "id": "e4a0526d-8f6f-4917-985e-7275ba2db8d9",
   "metadata": {
    "tags": []
   },
   "outputs": [],
   "source": [
    "loader = GTSRB_Generator(n_way=43,k_shot=1,batch=128)"
   ]
  },
  {
   "cell_type": "code",
   "execution_count": 27,
   "id": "4148539b-c2c5-4c02-ad39-ef4b9393248d",
   "metadata": {
    "tags": []
   },
   "outputs": [
    {
     "name": "stdout",
     "output_type": "stream",
     "text": [
      "===epoch0===\n",
      "306/306 [==============================] - 63s 207ms/step - train loss: 0.0819 - train acc: 0.9926\n",
      "93/93 [==============================] - 26s 281ms/step\n",
      "test acc = 0.6872\n",
      "===epoch1===\n",
      "306/306 [==============================] - 63s 205ms/step - train loss: 0.0610 - train acc: 0.9972\n",
      "93/93 [==============================] - 27s 289ms/step\n",
      "test acc = 0.6825\n",
      "===epoch2===\n",
      "306/306 [==============================] - 64s 208ms/step - train loss: 0.0488 - train acc: 0.9987\n",
      "93/93 [==============================] - 27s 291ms/step\n",
      "test acc = 0.6867\n",
      "===epoch3===\n",
      "306/306 [==============================] - 63s 206ms/step - train loss: 0.0398 - train acc: 0.9994\n",
      "93/93 [==============================] - 26s 284ms/step\n",
      "test acc = 0.7026\n",
      "===epoch4===\n",
      "306/306 [==============================] - 62s 203ms/step - train loss: 0.0322 - train acc: 0.9993\n",
      "93/93 [==============================] - 26s 276ms/step\n",
      "test acc = 0.6835\n",
      "===epoch5===\n",
      "306/306 [==============================] - 63s 205ms/step - train loss: 0.0271 - train acc: 0.9995\n",
      "93/93 [==============================] - 25s 269ms/step\n",
      "test acc = 0.6730\n",
      "===epoch6===\n",
      "306/306 [==============================] - 61s 201ms/step - train loss: 0.0232 - train acc: 0.9995\n",
      "93/93 [==============================] - 26s 276ms/step\n",
      "test acc = 0.6809\n",
      "===epoch7===\n",
      "306/306 [==============================] - 62s 204ms/step - train loss: 0.0201 - train acc: 0.9996\n",
      "93/93 [==============================] - 27s 288ms/step\n",
      "test acc = 0.6741\n",
      "===epoch8===\n",
      "306/306 [==============================] - 63s 206ms/step - train loss: 0.0171 - train acc: 0.9994\n",
      "93/93 [==============================] - 25s 272ms/step\n",
      "test acc = 0.6752\n",
      "===epoch9===\n",
      "306/306 [==============================] - 63s 205ms/step - train loss: 0.0150 - train acc: 0.9995\n",
      "93/93 [==============================] - 26s 278ms/step\n",
      "test acc = 0.6615\n",
      "===epoch10===\n",
      "306/306 [==============================] - 63s 204ms/step - train loss: 0.0131 - train acc: 0.9997\n",
      "93/93 [==============================] - 26s 276ms/step\n",
      "test acc = 0.6347\n",
      "===epoch11===\n",
      " 30/306 [=>............................] - ETA: 56s - train loss: 0.0132 - train acc: 0.9996"
     ]
    },
    {
     "ename": "KeyboardInterrupt",
     "evalue": "",
     "output_type": "error",
     "traceback": [
      "\u001b[0;31m---------------------------------------------------------------------------\u001b[0m",
      "\u001b[0;31mKeyboardInterrupt\u001b[0m                         Traceback (most recent call last)",
      "Cell \u001b[0;32mIn[27], line 3\u001b[0m\n\u001b[1;32m      1\u001b[0m \u001b[38;5;28;01mfor\u001b[39;00m e \u001b[38;5;129;01min\u001b[39;00m \u001b[38;5;28mrange\u001b[39m(\u001b[38;5;241m20\u001b[39m):\n\u001b[1;32m      2\u001b[0m     \u001b[38;5;28mprint\u001b[39m(\u001b[38;5;124mf\u001b[39m\u001b[38;5;124m'\u001b[39m\u001b[38;5;124m===epoch\u001b[39m\u001b[38;5;132;01m{\u001b[39;00me\u001b[38;5;132;01m}\u001b[39;00m\u001b[38;5;124m===\u001b[39m\u001b[38;5;124m'\u001b[39m)\n\u001b[0;32m----> 3\u001b[0m     \u001b[43mtrain\u001b[49m\u001b[43m(\u001b[49m\u001b[43msegan\u001b[49m\u001b[43m,\u001b[49m\u001b[43mgenerator\u001b[49m\u001b[38;5;241;43m=\u001b[39;49m\u001b[43mloader\u001b[49m\u001b[43m,\u001b[49m\u001b[43moptimizer\u001b[49m\u001b[38;5;241;43m=\u001b[39;49m\u001b[43moptimizer_fn\u001b[49m\u001b[43m)\u001b[49m\n\u001b[1;32m      4\u001b[0m     acc \u001b[38;5;241m=\u001b[39m test(segan,t_loader)\n\u001b[1;32m      5\u001b[0m     \u001b[38;5;28mprint\u001b[39m(\u001b[38;5;124mf\u001b[39m\u001b[38;5;124m'\u001b[39m\u001b[38;5;124mtest acc = \u001b[39m\u001b[38;5;132;01m{\u001b[39;00macc\u001b[38;5;132;01m:\u001b[39;00m\u001b[38;5;124m.4f\u001b[39m\u001b[38;5;132;01m}\u001b[39;00m\u001b[38;5;124m'\u001b[39m)\n",
      "Cell \u001b[0;32mIn[12], line 17\u001b[0m, in \u001b[0;36mtrain\u001b[0;34m(model, generator, optimizer)\u001b[0m\n\u001b[1;32m     14\u001b[0m train_acc_tracker \u001b[38;5;241m=\u001b[39m keras\u001b[38;5;241m.\u001b[39mmetrics\u001b[38;5;241m.\u001b[39mMean(name\u001b[38;5;241m=\u001b[39m\u001b[38;5;124m'\u001b[39m\u001b[38;5;124mloss\u001b[39m\u001b[38;5;124m'\u001b[39m)\n\u001b[1;32m     15\u001b[0m pb \u001b[38;5;241m=\u001b[39m tf\u001b[38;5;241m.\u001b[39mkeras\u001b[38;5;241m.\u001b[39mutils\u001b[38;5;241m.\u001b[39mProgbar(\n\u001b[1;32m     16\u001b[0m     \u001b[38;5;28mlen\u001b[39m(generator),verbose\u001b[38;5;241m=\u001b[39m\u001b[38;5;241m1\u001b[39m,stateful_metrics\u001b[38;5;241m=\u001b[39m[\u001b[38;5;124m'\u001b[39m\u001b[38;5;124mtrain loss\u001b[39m\u001b[38;5;124m'\u001b[39m])\n\u001b[0;32m---> 17\u001b[0m \u001b[38;5;28;01mfor\u001b[39;00m data \u001b[38;5;129;01min\u001b[39;00m generator:\n\u001b[1;32m     18\u001b[0m     loss,acc \u001b[38;5;241m=\u001b[39m train_step(model,data\u001b[38;5;241m=\u001b[39mdata,optimizer\u001b[38;5;241m=\u001b[39moptimizer)\n\u001b[1;32m     19\u001b[0m     \u001b[38;5;66;03m#update mean loss value\u001b[39;00m\n",
      "File \u001b[0;32m~/anaconda3/envs/tf/lib/python3.9/site-packages/keras/utils/data_utils.py:515\u001b[0m, in \u001b[0;36mSequence.__iter__\u001b[0;34m(self)\u001b[0m\n\u001b[1;32m    513\u001b[0m \u001b[38;5;28;01mdef\u001b[39;00m \u001b[38;5;21m__iter__\u001b[39m(\u001b[38;5;28mself\u001b[39m):\n\u001b[1;32m    514\u001b[0m     \u001b[38;5;124;03m\"\"\"Create a generator that iterate over the Sequence.\"\"\"\u001b[39;00m\n\u001b[0;32m--> 515\u001b[0m     \u001b[38;5;28;01mfor\u001b[39;00m item \u001b[38;5;129;01min\u001b[39;00m (\u001b[38;5;28mself\u001b[39m[i] \u001b[38;5;28;01mfor\u001b[39;00m i \u001b[38;5;129;01min\u001b[39;00m \u001b[38;5;28mrange\u001b[39m(\u001b[38;5;28mlen\u001b[39m(\u001b[38;5;28mself\u001b[39m))):\n\u001b[1;32m    516\u001b[0m         \u001b[38;5;28;01myield\u001b[39;00m item\n",
      "File \u001b[0;32m~/anaconda3/envs/tf/lib/python3.9/site-packages/keras/utils/data_utils.py:515\u001b[0m, in \u001b[0;36m<genexpr>\u001b[0;34m(.0)\u001b[0m\n\u001b[1;32m    513\u001b[0m \u001b[38;5;28;01mdef\u001b[39;00m \u001b[38;5;21m__iter__\u001b[39m(\u001b[38;5;28mself\u001b[39m):\n\u001b[1;32m    514\u001b[0m     \u001b[38;5;124;03m\"\"\"Create a generator that iterate over the Sequence.\"\"\"\u001b[39;00m\n\u001b[0;32m--> 515\u001b[0m     \u001b[38;5;28;01mfor\u001b[39;00m item \u001b[38;5;129;01min\u001b[39;00m (\u001b[38;5;28;43mself\u001b[39;49m\u001b[43m[\u001b[49m\u001b[43mi\u001b[49m\u001b[43m]\u001b[49m \u001b[38;5;28;01mfor\u001b[39;00m i \u001b[38;5;129;01min\u001b[39;00m \u001b[38;5;28mrange\u001b[39m(\u001b[38;5;28mlen\u001b[39m(\u001b[38;5;28mself\u001b[39m))):\n\u001b[1;32m    516\u001b[0m         \u001b[38;5;28;01myield\u001b[39;00m item\n",
      "Cell \u001b[0;32mIn[14], line 59\u001b[0m, in \u001b[0;36mGTSRB_Generator.__getitem__\u001b[0;34m(self, index)\u001b[0m\n\u001b[1;32m     57\u001b[0m \u001b[38;5;66;03m# Generate data\u001b[39;00m\n\u001b[1;32m     58\u001b[0m indexes \u001b[38;5;241m=\u001b[39m \u001b[38;5;28mself\u001b[39m\u001b[38;5;241m.\u001b[39mindexes[index\u001b[38;5;241m*\u001b[39m\u001b[38;5;28mself\u001b[39m\u001b[38;5;241m.\u001b[39mbatch:(index\u001b[38;5;241m+\u001b[39m\u001b[38;5;241m1\u001b[39m)\u001b[38;5;241m*\u001b[39m\u001b[38;5;28mself\u001b[39m\u001b[38;5;241m.\u001b[39mbatch]\n\u001b[0;32m---> 59\u001b[0m X_sample, X_query,Xsource, label \u001b[38;5;241m=\u001b[39m \u001b[38;5;28;43mself\u001b[39;49m\u001b[38;5;241;43m.\u001b[39;49m\u001b[43m__data_generation\u001b[49m\u001b[43m(\u001b[49m\u001b[43mindexes\u001b[49m\u001b[43m)\u001b[49m\n\u001b[1;32m     60\u001b[0m \u001b[38;5;28;01mreturn\u001b[39;00m [X_sample, X_query],Xsource, label\n",
      "Cell \u001b[0;32mIn[14], line 92\u001b[0m, in \u001b[0;36mGTSRB_Generator.__data_generation\u001b[0;34m(self, indexes)\u001b[0m\n\u001b[1;32m     88\u001b[0m     X[i\u001b[38;5;241m+\u001b[39m\u001b[38;5;28mself\u001b[39m\u001b[38;5;241m.\u001b[39mn_way] \u001b[38;5;241m=\u001b[39m \u001b[38;5;28mself\u001b[39m\u001b[38;5;241m.\u001b[39mstandardize(img_to_array(load_img(\n\u001b[1;32m     89\u001b[0m             file_path,target_size\u001b[38;5;241m=\u001b[39m\u001b[38;5;28mself\u001b[39m\u001b[38;5;241m.\u001b[39mtarget_size,\n\u001b[1;32m     90\u001b[0m             interpolation\u001b[38;5;241m=\u001b[39m\u001b[38;5;124m'\u001b[39m\u001b[38;5;124mbilinear\u001b[39m\u001b[38;5;124m'\u001b[39m)))\n\u001b[1;32m     91\u001b[0m     y[i] \u001b[38;5;241m=\u001b[39m \u001b[38;5;28mself\u001b[39m\u001b[38;5;241m.\u001b[39mlabels_IDs[idx]\n\u001b[0;32m---> 92\u001b[0m     Xsource[i] \u001b[38;5;241m=\u001b[39m X[\u001b[38;5;28mself\u001b[39m\u001b[38;5;241m.\u001b[39mlabels_IDs[idx]]\n\u001b[1;32m     93\u001b[0m label_query \u001b[38;5;241m=\u001b[39m to_categorical(y,num_classes\u001b[38;5;241m=\u001b[39m\u001b[38;5;28mself\u001b[39m\u001b[38;5;241m.\u001b[39mn_way)\n\u001b[1;32m     95\u001b[0m \u001b[38;5;28;01mreturn\u001b[39;00m tf\u001b[38;5;241m.\u001b[39mconstant(X[:\u001b[38;5;28mself\u001b[39m\u001b[38;5;241m.\u001b[39mn_way],dtype\u001b[38;5;241m=\u001b[39m\u001b[38;5;124m'\u001b[39m\u001b[38;5;124mfloat32\u001b[39m\u001b[38;5;124m'\u001b[39m),\\\n\u001b[1;32m     96\u001b[0m     tf\u001b[38;5;241m.\u001b[39mconstant(X[\u001b[38;5;28mself\u001b[39m\u001b[38;5;241m.\u001b[39mn_way:],dtype\u001b[38;5;241m=\u001b[39m\u001b[38;5;124m'\u001b[39m\u001b[38;5;124mfloat32\u001b[39m\u001b[38;5;124m'\u001b[39m),\\\n\u001b[1;32m     97\u001b[0m     tf\u001b[38;5;241m.\u001b[39mconstant(Xsource,dtype\u001b[38;5;241m=\u001b[39m\u001b[38;5;124m'\u001b[39m\u001b[38;5;124mfloat32\u001b[39m\u001b[38;5;124m'\u001b[39m),\\\n\u001b[1;32m     98\u001b[0m         tf\u001b[38;5;241m.\u001b[39mconstant(label_query,dtype\u001b[38;5;241m=\u001b[39m\u001b[38;5;124m'\u001b[39m\u001b[38;5;124mfloat32\u001b[39m\u001b[38;5;124m'\u001b[39m)\n",
      "\u001b[0;31mKeyboardInterrupt\u001b[0m: "
     ]
    }
   ],
   "source": [
    "for e in range(20):\n",
    "    print(f'===epoch{e}===')\n",
    "    train(segan,generator=loader,optimizer=optimizer_fn)\n",
    "    acc = test(segan,t_loader)\n",
    "    print(f'test acc = {acc:.4f}')"
   ]
  },
  {
   "cell_type": "code",
   "execution_count": 17,
   "id": "39d4977e-3f8c-4e06-b327-70279bbfcbcd",
   "metadata": {
    "tags": []
   },
   "outputs": [],
   "source": [
    "test_acc_tracker = keras.metrics.Mean(name='loss')\n",
    "def test(model,generator):\n",
    "    acc_mean = tf.constant([0.0],dtype='float32')\n",
    "    #test_acc_tracker = Mean('test_accuracy')\n",
    "    pb = tf.keras.utils.Progbar(\n",
    "        len(generator),verbose=1,stateful_metrics=['train loss'])\n",
    "    for z in generator:\n",
    "        [Xs,Xq],Xsource,y_true = z\n",
    "        y_pred,xp = model([Xs,Xq])\n",
    "        #acc += accuracy(y_true,y_pred)\n",
    "        test_acc_tracker.update_state(accuracy(y_true,y_pred))\n",
    "        pb.add(1)\n",
    "    acc_mean = test_acc_tracker.result()\n",
    "    test_acc_tracker.reset_state()\n",
    "    \n",
    "    return acc_mean\n",
    "    #return test_acc_tracker.result()"
   ]
  },
  {
   "cell_type": "code",
   "execution_count": 25,
   "id": "ebc5909b-c8fc-425a-8118-b56257ce6276",
   "metadata": {
    "tags": []
   },
   "outputs": [
    {
     "name": "stdout",
     "output_type": "stream",
     "text": [
      "93/93 [==============================] - 24s 261ms/step\n"
     ]
    },
    {
     "data": {
      "text/plain": [
       "<tf.Tensor: shape=(), dtype=float32, numpy=0.6202117>"
      ]
     },
     "execution_count": 25,
     "metadata": {},
     "output_type": "execute_result"
    }
   ],
   "source": [
    "test(segan,t_loader)"
   ]
  },
  {
   "cell_type": "code",
   "execution_count": 13,
   "id": "f47f09ce-e1dc-4872-8913-d5a2bbb4a391",
   "metadata": {
    "tags": []
   },
   "outputs": [],
   "source": [
    "class TT_Generator(tf.keras.utils.Sequence):\n",
    "    \"\"\"\n",
    "    Generating Batch of Data\n",
    "    n_way: number of ways (classes)\n",
    "    k_shot: number of shots\n",
    "    batch: batch of data (query samples)\n",
    "    \"\"\"\n",
    "    def __init__(\n",
    "        self,n_way,k_shot,data_path='datasets/TT100K',\n",
    "        batch=64,data_type = 'all',target_size=(64,64),shuffle=True):\n",
    "        #Initialization\n",
    "        self.n_way = n_way\n",
    "        self.k_shot = k_shot\n",
    "        self.data_path = data_path\n",
    "        self.batch = batch\n",
    "        self.data_type = data_type\n",
    "        self.target_size = target_size\n",
    "        self.standardize = standardize\n",
    "        self.shuffle = shuffle\n",
    "\n",
    "        \n",
    "        home = os.getcwd()\n",
    "        original_path = os.path.join(home,self.data_path)\n",
    "        template_path = os.path.join(original_path,\"template\")\n",
    "\n",
    "        if self.data_type == 'seen':\n",
    "            self.support_path = os.path.join(template_path,\"seen\")\n",
    "            self.query_path = os.path.join(original_path,\"seen\")\n",
    "        elif self.data_type == 'all':\n",
    "            self.support_path = os.path.join(template_path,\"all\")\n",
    "            self.query_path = os.path.join(original_path,\"all\")\n",
    "        else:\n",
    "            self.support_path = os.path.join(template_path,\"unseen\")\n",
    "            self.query_path = os.path.join(original_path,\"unseen\")\n",
    "\n",
    "        self.classes = np.asarray(os.listdir(self.query_path))\n",
    "        self.classes.sort()\n",
    "   \n",
    "        self.IDs = []\n",
    "        self.labels_IDs = []\n",
    "        for i,C in enumerate(self.classes):\n",
    "            c_path = os.path.join(self.query_path,C)\n",
    "            for f in os.listdir(c_path):\n",
    "                self.IDs += [C+'/'+f]\n",
    "                self.labels_IDs += [i]\n",
    "        self.labels_IDs = np.asarray(self.labels_IDs)\n",
    "        \n",
    "        self.on_epoch_end()\n",
    "    \n",
    "    def __len__(self):\n",
    "        'Denotes the number of batches per epoch'\n",
    "        return (len(self.labels_IDs) // self.batch)\n",
    "\n",
    "\n",
    "    def __getitem__(self,index):\n",
    "        'Generate one batch of data'\n",
    "        # Generate data\n",
    "        indexes = self.indexes[index*self.batch:(index+1)*self.batch]\n",
    "        X_sample, X_query,Xsource, label = self.__data_generation(indexes)\n",
    "        return [X_sample, X_query],Xsource, label\n",
    "\n",
    "    def on_epoch_end(self):\n",
    "        'Updates indexes after each epoch'\n",
    "        self.indexes = np.arange(len(self.labels_IDs))\n",
    "        if self.shuffle:\n",
    "            np.random.shuffle(self.indexes)\n",
    "\n",
    "    def __data_generation(self,indexes):\n",
    "        'Generates data containing batch_size samples' # X : (n_samples, *dim, n_channels)\n",
    "        # Initialization\n",
    "        \n",
    "        X = np.empty((self.n_way * self.k_shot + self.batch,*self.target_size,3))\n",
    "        y = np.empty((self.batch,1))\n",
    "        Xsource = np.empty((self.batch,*self.target_size,3))\n",
    "\n",
    "        for i,C in enumerate(self.classes):\n",
    "            c_path = os.path.join(self.support_path,C)\n",
    "            for f in os.listdir(c_path):\n",
    "                file_path = os.path.join(c_path,f)\n",
    "                #X[i] = img_to_array(load_img(file_path,target_size=self.target_size))\n",
    "     \n",
    "                X[i] = self.standardize(img_to_array(load_img(\n",
    "                    file_path,target_size=self.target_size,\n",
    "                    interpolation='bilinear')))\n",
    "        \n",
    "        for i,idx in enumerate(indexes):\n",
    "            file_path = os.path.join(self.query_path,self.IDs[idx])\n",
    "            X[i+self.n_way] = self.standardize(img_to_array(load_img(\n",
    "                    file_path,target_size=self.target_size,\n",
    "                    interpolation='bilinear')))\n",
    "            y[i] = self.labels_IDs[idx]\n",
    "            Xsource[i] = X[self.labels_IDs[idx]]\n",
    "        label_query = to_categorical(y,num_classes=self.n_way)\n",
    "\n",
    "        return tf.constant(X[:self.n_way],dtype='float32'),\\\n",
    "            tf.constant(X[self.n_way:],dtype='float32'),\\\n",
    "            tf.constant(Xsource,dtype='float32'),\\\n",
    "                tf.constant(label_query,dtype='float32')"
   ]
  },
  {
   "cell_type": "code",
   "execution_count": 31,
   "id": "d98a2888-df2e-41e0-928f-f748a3939032",
   "metadata": {
    "tags": []
   },
   "outputs": [],
   "source": [
    "t_loader = TT_Generator(n_way=36,k_shot=1,batch=128)"
   ]
  },
  {
   "cell_type": "code",
   "execution_count": 67,
   "id": "49dd7b32-d737-4632-ba87-6577a728ea73",
   "metadata": {
    "tags": []
   },
   "outputs": [
    {
     "name": "stdout",
     "output_type": "stream",
     "text": [
      "==epoch1==\n",
      "93/93 [==============================] - 17s 185ms/step - train loss: 0.2423\n",
      "==epoch2==\n",
      "93/93 [==============================] - 17s 186ms/step - train loss: 0.2399\n",
      "==epoch3==\n",
      "93/93 [==============================] - 17s 185ms/step - train loss: 0.2377\n",
      "==epoch4==\n",
      "93/93 [==============================] - 17s 185ms/step - train loss: 0.2355\n",
      "==epoch5==\n",
      "65/93 [===================>..........] - ETA: 5s - train loss: 0.2335"
     ]
    },
    {
     "ename": "KeyboardInterrupt",
     "evalue": "",
     "output_type": "error",
     "traceback": [
      "\u001b[0;31m---------------------------------------------------------------------------\u001b[0m",
      "\u001b[0;31mKeyboardInterrupt\u001b[0m                         Traceback (most recent call last)",
      "Cell \u001b[0;32mIn[67], line 3\u001b[0m\n\u001b[1;32m      1\u001b[0m \u001b[38;5;28;01mfor\u001b[39;00m e \u001b[38;5;129;01min\u001b[39;00m \u001b[38;5;28mrange\u001b[39m(\u001b[38;5;241m10\u001b[39m):\n\u001b[1;32m      2\u001b[0m     \u001b[38;5;28mprint\u001b[39m(\u001b[38;5;124mf\u001b[39m\u001b[38;5;124m'\u001b[39m\u001b[38;5;124m==epoch\u001b[39m\u001b[38;5;132;01m{\u001b[39;00me\u001b[38;5;241m+\u001b[39m\u001b[38;5;241m1\u001b[39m\u001b[38;5;132;01m}\u001b[39;00m\u001b[38;5;124m==\u001b[39m\u001b[38;5;124m'\u001b[39m)\n\u001b[0;32m----> 3\u001b[0m     \u001b[43mtrain\u001b[49m\u001b[43m(\u001b[49m\u001b[43msegan\u001b[49m\u001b[43m,\u001b[49m\u001b[43mt_loader\u001b[49m\u001b[43m,\u001b[49m\u001b[43moptimizer\u001b[49m\u001b[38;5;241;43m=\u001b[39;49m\u001b[43moptimizer_fn\u001b[49m\u001b[43m)\u001b[49m\n",
      "Cell \u001b[0;32mIn[18], line 17\u001b[0m, in \u001b[0;36mtrain\u001b[0;34m(model, generator, optimizer)\u001b[0m\n\u001b[1;32m     14\u001b[0m pb \u001b[38;5;241m=\u001b[39m tf\u001b[38;5;241m.\u001b[39mkeras\u001b[38;5;241m.\u001b[39mutils\u001b[38;5;241m.\u001b[39mProgbar(\n\u001b[1;32m     15\u001b[0m     \u001b[38;5;28mlen\u001b[39m(generator),verbose\u001b[38;5;241m=\u001b[39m\u001b[38;5;241m1\u001b[39m,stateful_metrics\u001b[38;5;241m=\u001b[39m[\u001b[38;5;124m'\u001b[39m\u001b[38;5;124mtrain loss\u001b[39m\u001b[38;5;124m'\u001b[39m])\n\u001b[1;32m     16\u001b[0m \u001b[38;5;28;01mfor\u001b[39;00m data \u001b[38;5;129;01min\u001b[39;00m generator:\n\u001b[0;32m---> 17\u001b[0m     loss \u001b[38;5;241m=\u001b[39m \u001b[43mtrain_step\u001b[49m\u001b[43m(\u001b[49m\u001b[43mmodel\u001b[49m\u001b[43m,\u001b[49m\u001b[43mdata\u001b[49m\u001b[38;5;241;43m=\u001b[39;49m\u001b[43mdata\u001b[49m\u001b[43m,\u001b[49m\u001b[43moptimizer\u001b[49m\u001b[38;5;241;43m=\u001b[39;49m\u001b[43moptimizer\u001b[49m\u001b[43m)\u001b[49m\n\u001b[1;32m     18\u001b[0m     \u001b[38;5;66;03m#update mean loss value\u001b[39;00m\n\u001b[1;32m     19\u001b[0m     train_loss_tracker\u001b[38;5;241m.\u001b[39mupdate_state(loss)\n",
      "File \u001b[0;32m~/anaconda3/envs/tf/lib/python3.9/site-packages/tensorflow/python/util/traceback_utils.py:150\u001b[0m, in \u001b[0;36mfilter_traceback.<locals>.error_handler\u001b[0;34m(*args, **kwargs)\u001b[0m\n\u001b[1;32m    148\u001b[0m filtered_tb \u001b[38;5;241m=\u001b[39m \u001b[38;5;28;01mNone\u001b[39;00m\n\u001b[1;32m    149\u001b[0m \u001b[38;5;28;01mtry\u001b[39;00m:\n\u001b[0;32m--> 150\u001b[0m   \u001b[38;5;28;01mreturn\u001b[39;00m \u001b[43mfn\u001b[49m\u001b[43m(\u001b[49m\u001b[38;5;241;43m*\u001b[39;49m\u001b[43margs\u001b[49m\u001b[43m,\u001b[49m\u001b[43m \u001b[49m\u001b[38;5;241;43m*\u001b[39;49m\u001b[38;5;241;43m*\u001b[39;49m\u001b[43mkwargs\u001b[49m\u001b[43m)\u001b[49m\n\u001b[1;32m    151\u001b[0m \u001b[38;5;28;01mexcept\u001b[39;00m \u001b[38;5;167;01mException\u001b[39;00m \u001b[38;5;28;01mas\u001b[39;00m e:\n\u001b[1;32m    152\u001b[0m   filtered_tb \u001b[38;5;241m=\u001b[39m _process_traceback_frames(e\u001b[38;5;241m.\u001b[39m__traceback__)\n",
      "File \u001b[0;32m~/anaconda3/envs/tf/lib/python3.9/site-packages/tensorflow/python/eager/def_function.py:915\u001b[0m, in \u001b[0;36mFunction.__call__\u001b[0;34m(self, *args, **kwds)\u001b[0m\n\u001b[1;32m    912\u001b[0m compiler \u001b[38;5;241m=\u001b[39m \u001b[38;5;124m\"\u001b[39m\u001b[38;5;124mxla\u001b[39m\u001b[38;5;124m\"\u001b[39m \u001b[38;5;28;01mif\u001b[39;00m \u001b[38;5;28mself\u001b[39m\u001b[38;5;241m.\u001b[39m_jit_compile \u001b[38;5;28;01melse\u001b[39;00m \u001b[38;5;124m\"\u001b[39m\u001b[38;5;124mnonXla\u001b[39m\u001b[38;5;124m\"\u001b[39m\n\u001b[1;32m    914\u001b[0m \u001b[38;5;28;01mwith\u001b[39;00m OptionalXlaContext(\u001b[38;5;28mself\u001b[39m\u001b[38;5;241m.\u001b[39m_jit_compile):\n\u001b[0;32m--> 915\u001b[0m   result \u001b[38;5;241m=\u001b[39m \u001b[38;5;28;43mself\u001b[39;49m\u001b[38;5;241;43m.\u001b[39;49m\u001b[43m_call\u001b[49m\u001b[43m(\u001b[49m\u001b[38;5;241;43m*\u001b[39;49m\u001b[43margs\u001b[49m\u001b[43m,\u001b[49m\u001b[43m \u001b[49m\u001b[38;5;241;43m*\u001b[39;49m\u001b[38;5;241;43m*\u001b[39;49m\u001b[43mkwds\u001b[49m\u001b[43m)\u001b[49m\n\u001b[1;32m    917\u001b[0m new_tracing_count \u001b[38;5;241m=\u001b[39m \u001b[38;5;28mself\u001b[39m\u001b[38;5;241m.\u001b[39mexperimental_get_tracing_count()\n\u001b[1;32m    918\u001b[0m without_tracing \u001b[38;5;241m=\u001b[39m (tracing_count \u001b[38;5;241m==\u001b[39m new_tracing_count)\n",
      "File \u001b[0;32m~/anaconda3/envs/tf/lib/python3.9/site-packages/tensorflow/python/eager/def_function.py:947\u001b[0m, in \u001b[0;36mFunction._call\u001b[0;34m(self, *args, **kwds)\u001b[0m\n\u001b[1;32m    944\u001b[0m   \u001b[38;5;28mself\u001b[39m\u001b[38;5;241m.\u001b[39m_lock\u001b[38;5;241m.\u001b[39mrelease()\n\u001b[1;32m    945\u001b[0m   \u001b[38;5;66;03m# In this case we have created variables on the first call, so we run the\u001b[39;00m\n\u001b[1;32m    946\u001b[0m   \u001b[38;5;66;03m# defunned version which is guaranteed to never create variables.\u001b[39;00m\n\u001b[0;32m--> 947\u001b[0m   \u001b[38;5;28;01mreturn\u001b[39;00m \u001b[38;5;28;43mself\u001b[39;49m\u001b[38;5;241;43m.\u001b[39;49m\u001b[43m_stateless_fn\u001b[49m\u001b[43m(\u001b[49m\u001b[38;5;241;43m*\u001b[39;49m\u001b[43margs\u001b[49m\u001b[43m,\u001b[49m\u001b[43m \u001b[49m\u001b[38;5;241;43m*\u001b[39;49m\u001b[38;5;241;43m*\u001b[39;49m\u001b[43mkwds\u001b[49m\u001b[43m)\u001b[49m  \u001b[38;5;66;03m# pylint: disable=not-callable\u001b[39;00m\n\u001b[1;32m    948\u001b[0m \u001b[38;5;28;01melif\u001b[39;00m \u001b[38;5;28mself\u001b[39m\u001b[38;5;241m.\u001b[39m_stateful_fn \u001b[38;5;129;01mis\u001b[39;00m \u001b[38;5;129;01mnot\u001b[39;00m \u001b[38;5;28;01mNone\u001b[39;00m:\n\u001b[1;32m    949\u001b[0m   \u001b[38;5;66;03m# Release the lock early so that multiple threads can perform the call\u001b[39;00m\n\u001b[1;32m    950\u001b[0m   \u001b[38;5;66;03m# in parallel.\u001b[39;00m\n\u001b[1;32m    951\u001b[0m   \u001b[38;5;28mself\u001b[39m\u001b[38;5;241m.\u001b[39m_lock\u001b[38;5;241m.\u001b[39mrelease()\n",
      "File \u001b[0;32m~/anaconda3/envs/tf/lib/python3.9/site-packages/tensorflow/python/eager/function.py:2496\u001b[0m, in \u001b[0;36mFunction.__call__\u001b[0;34m(self, *args, **kwargs)\u001b[0m\n\u001b[1;32m   2493\u001b[0m \u001b[38;5;28;01mwith\u001b[39;00m \u001b[38;5;28mself\u001b[39m\u001b[38;5;241m.\u001b[39m_lock:\n\u001b[1;32m   2494\u001b[0m   (graph_function,\n\u001b[1;32m   2495\u001b[0m    filtered_flat_args) \u001b[38;5;241m=\u001b[39m \u001b[38;5;28mself\u001b[39m\u001b[38;5;241m.\u001b[39m_maybe_define_function(args, kwargs)\n\u001b[0;32m-> 2496\u001b[0m \u001b[38;5;28;01mreturn\u001b[39;00m \u001b[43mgraph_function\u001b[49m\u001b[38;5;241;43m.\u001b[39;49m\u001b[43m_call_flat\u001b[49m\u001b[43m(\u001b[49m\n\u001b[1;32m   2497\u001b[0m \u001b[43m    \u001b[49m\u001b[43mfiltered_flat_args\u001b[49m\u001b[43m,\u001b[49m\u001b[43m \u001b[49m\u001b[43mcaptured_inputs\u001b[49m\u001b[38;5;241;43m=\u001b[39;49m\u001b[43mgraph_function\u001b[49m\u001b[38;5;241;43m.\u001b[39;49m\u001b[43mcaptured_inputs\u001b[49m\u001b[43m)\u001b[49m\n",
      "File \u001b[0;32m~/anaconda3/envs/tf/lib/python3.9/site-packages/tensorflow/python/eager/function.py:1862\u001b[0m, in \u001b[0;36mConcreteFunction._call_flat\u001b[0;34m(self, args, captured_inputs, cancellation_manager)\u001b[0m\n\u001b[1;32m   1858\u001b[0m possible_gradient_type \u001b[38;5;241m=\u001b[39m gradients_util\u001b[38;5;241m.\u001b[39mPossibleTapeGradientTypes(args)\n\u001b[1;32m   1859\u001b[0m \u001b[38;5;28;01mif\u001b[39;00m (possible_gradient_type \u001b[38;5;241m==\u001b[39m gradients_util\u001b[38;5;241m.\u001b[39mPOSSIBLE_GRADIENT_TYPES_NONE\n\u001b[1;32m   1860\u001b[0m     \u001b[38;5;129;01mand\u001b[39;00m executing_eagerly):\n\u001b[1;32m   1861\u001b[0m   \u001b[38;5;66;03m# No tape is watching; skip to running the function.\u001b[39;00m\n\u001b[0;32m-> 1862\u001b[0m   \u001b[38;5;28;01mreturn\u001b[39;00m \u001b[38;5;28mself\u001b[39m\u001b[38;5;241m.\u001b[39m_build_call_outputs(\u001b[38;5;28;43mself\u001b[39;49m\u001b[38;5;241;43m.\u001b[39;49m\u001b[43m_inference_function\u001b[49m\u001b[38;5;241;43m.\u001b[39;49m\u001b[43mcall\u001b[49m\u001b[43m(\u001b[49m\n\u001b[1;32m   1863\u001b[0m \u001b[43m      \u001b[49m\u001b[43mctx\u001b[49m\u001b[43m,\u001b[49m\u001b[43m \u001b[49m\u001b[43margs\u001b[49m\u001b[43m,\u001b[49m\u001b[43m \u001b[49m\u001b[43mcancellation_manager\u001b[49m\u001b[38;5;241;43m=\u001b[39;49m\u001b[43mcancellation_manager\u001b[49m\u001b[43m)\u001b[49m)\n\u001b[1;32m   1864\u001b[0m forward_backward \u001b[38;5;241m=\u001b[39m \u001b[38;5;28mself\u001b[39m\u001b[38;5;241m.\u001b[39m_select_forward_and_backward_functions(\n\u001b[1;32m   1865\u001b[0m     args,\n\u001b[1;32m   1866\u001b[0m     possible_gradient_type,\n\u001b[1;32m   1867\u001b[0m     executing_eagerly)\n\u001b[1;32m   1868\u001b[0m forward_function, args_with_tangents \u001b[38;5;241m=\u001b[39m forward_backward\u001b[38;5;241m.\u001b[39mforward()\n",
      "File \u001b[0;32m~/anaconda3/envs/tf/lib/python3.9/site-packages/tensorflow/python/eager/function.py:499\u001b[0m, in \u001b[0;36m_EagerDefinedFunction.call\u001b[0;34m(self, ctx, args, cancellation_manager)\u001b[0m\n\u001b[1;32m    497\u001b[0m \u001b[38;5;28;01mwith\u001b[39;00m _InterpolateFunctionError(\u001b[38;5;28mself\u001b[39m):\n\u001b[1;32m    498\u001b[0m   \u001b[38;5;28;01mif\u001b[39;00m cancellation_manager \u001b[38;5;129;01mis\u001b[39;00m \u001b[38;5;28;01mNone\u001b[39;00m:\n\u001b[0;32m--> 499\u001b[0m     outputs \u001b[38;5;241m=\u001b[39m \u001b[43mexecute\u001b[49m\u001b[38;5;241;43m.\u001b[39;49m\u001b[43mexecute\u001b[49m\u001b[43m(\u001b[49m\n\u001b[1;32m    500\u001b[0m \u001b[43m        \u001b[49m\u001b[38;5;28;43mstr\u001b[39;49m\u001b[43m(\u001b[49m\u001b[38;5;28;43mself\u001b[39;49m\u001b[38;5;241;43m.\u001b[39;49m\u001b[43msignature\u001b[49m\u001b[38;5;241;43m.\u001b[39;49m\u001b[43mname\u001b[49m\u001b[43m)\u001b[49m\u001b[43m,\u001b[49m\n\u001b[1;32m    501\u001b[0m \u001b[43m        \u001b[49m\u001b[43mnum_outputs\u001b[49m\u001b[38;5;241;43m=\u001b[39;49m\u001b[38;5;28;43mself\u001b[39;49m\u001b[38;5;241;43m.\u001b[39;49m\u001b[43m_num_outputs\u001b[49m\u001b[43m,\u001b[49m\n\u001b[1;32m    502\u001b[0m \u001b[43m        \u001b[49m\u001b[43minputs\u001b[49m\u001b[38;5;241;43m=\u001b[39;49m\u001b[43margs\u001b[49m\u001b[43m,\u001b[49m\n\u001b[1;32m    503\u001b[0m \u001b[43m        \u001b[49m\u001b[43mattrs\u001b[49m\u001b[38;5;241;43m=\u001b[39;49m\u001b[43mattrs\u001b[49m\u001b[43m,\u001b[49m\n\u001b[1;32m    504\u001b[0m \u001b[43m        \u001b[49m\u001b[43mctx\u001b[49m\u001b[38;5;241;43m=\u001b[39;49m\u001b[43mctx\u001b[49m\u001b[43m)\u001b[49m\n\u001b[1;32m    505\u001b[0m   \u001b[38;5;28;01melse\u001b[39;00m:\n\u001b[1;32m    506\u001b[0m     outputs \u001b[38;5;241m=\u001b[39m execute\u001b[38;5;241m.\u001b[39mexecute_with_cancellation(\n\u001b[1;32m    507\u001b[0m         \u001b[38;5;28mstr\u001b[39m(\u001b[38;5;28mself\u001b[39m\u001b[38;5;241m.\u001b[39msignature\u001b[38;5;241m.\u001b[39mname),\n\u001b[1;32m    508\u001b[0m         num_outputs\u001b[38;5;241m=\u001b[39m\u001b[38;5;28mself\u001b[39m\u001b[38;5;241m.\u001b[39m_num_outputs,\n\u001b[0;32m   (...)\u001b[0m\n\u001b[1;32m    511\u001b[0m         ctx\u001b[38;5;241m=\u001b[39mctx,\n\u001b[1;32m    512\u001b[0m         cancellation_manager\u001b[38;5;241m=\u001b[39mcancellation_manager)\n",
      "File \u001b[0;32m~/anaconda3/envs/tf/lib/python3.9/site-packages/tensorflow/python/eager/execute.py:54\u001b[0m, in \u001b[0;36mquick_execute\u001b[0;34m(op_name, num_outputs, inputs, attrs, ctx, name)\u001b[0m\n\u001b[1;32m     52\u001b[0m \u001b[38;5;28;01mtry\u001b[39;00m:\n\u001b[1;32m     53\u001b[0m   ctx\u001b[38;5;241m.\u001b[39mensure_initialized()\n\u001b[0;32m---> 54\u001b[0m   tensors \u001b[38;5;241m=\u001b[39m \u001b[43mpywrap_tfe\u001b[49m\u001b[38;5;241;43m.\u001b[39;49m\u001b[43mTFE_Py_Execute\u001b[49m\u001b[43m(\u001b[49m\u001b[43mctx\u001b[49m\u001b[38;5;241;43m.\u001b[39;49m\u001b[43m_handle\u001b[49m\u001b[43m,\u001b[49m\u001b[43m \u001b[49m\u001b[43mdevice_name\u001b[49m\u001b[43m,\u001b[49m\u001b[43m \u001b[49m\u001b[43mop_name\u001b[49m\u001b[43m,\u001b[49m\n\u001b[1;32m     55\u001b[0m \u001b[43m                                      \u001b[49m\u001b[43minputs\u001b[49m\u001b[43m,\u001b[49m\u001b[43m \u001b[49m\u001b[43mattrs\u001b[49m\u001b[43m,\u001b[49m\u001b[43m \u001b[49m\u001b[43mnum_outputs\u001b[49m\u001b[43m)\u001b[49m\n\u001b[1;32m     56\u001b[0m \u001b[38;5;28;01mexcept\u001b[39;00m core\u001b[38;5;241m.\u001b[39m_NotOkStatusException \u001b[38;5;28;01mas\u001b[39;00m e:\n\u001b[1;32m     57\u001b[0m   \u001b[38;5;28;01mif\u001b[39;00m name \u001b[38;5;129;01mis\u001b[39;00m \u001b[38;5;129;01mnot\u001b[39;00m \u001b[38;5;28;01mNone\u001b[39;00m:\n",
      "\u001b[0;31mKeyboardInterrupt\u001b[0m: "
     ]
    }
   ],
   "source": [
    "for e in range(10):\n",
    "    print(f'==epoch{e+1}==')\n",
    "    train(segan,t_loader,optimizer=optimizer_fn)"
   ]
  },
  {
   "cell_type": "code",
   "execution_count": null,
   "id": "65233202-a1bc-49be-8c37-eea0741b91f8",
   "metadata": {},
   "outputs": [],
   "source": []
  },
  {
   "cell_type": "code",
   "execution_count": 20,
   "id": "b8e417aa-d431-4eb4-976d-0c128c5cc942",
   "metadata": {
    "tags": []
   },
   "outputs": [],
   "source": [
    "f = iter(t_loader)"
   ]
  },
  {
   "cell_type": "code",
   "execution_count": 21,
   "id": "4080e454-bb56-435f-8bc6-fc697f4917c8",
   "metadata": {
    "tags": []
   },
   "outputs": [],
   "source": [
    "[Xs,Xq],Xsource,label = next(f)"
   ]
  },
  {
   "cell_type": "code",
   "execution_count": 65,
   "id": "678335e3-6861-4c09-b4ed-4fa06a09bce5",
   "metadata": {
    "tags": []
   },
   "outputs": [],
   "source": [
    "x = segan([Xs,Xq])"
   ]
  },
  {
   "cell_type": "code",
   "execution_count": null,
   "id": "15b0ab60-1021-48c1-a974-dd98036e7367",
   "metadata": {},
   "outputs": [],
   "source": []
  },
  {
   "cell_type": "code",
   "execution_count": 66,
   "id": "6cc71386-44ec-4be7-bf7f-e1dbeb3a948f",
   "metadata": {
    "tags": []
   },
   "outputs": [
    {
     "data": {
      "text/plain": [
       "<matplotlib.image.AxesImage at 0x7f97689b75e0>"
      ]
     },
     "execution_count": 66,
     "metadata": {},
     "output_type": "execute_result"
    },
    {
     "data": {
      "image/png": "[encoded data removed]",
      "text/plain": [
       "<Figure size 640x480 with 1 Axes>"
      ]
     },
     "metadata": {},
     "output_type": "display_data"
    }
   ],
   "source": [
    "plt.imshow(normalize(x[4]))"
   ]
  },
  {
   "cell_type": "code",
   "execution_count": 34,
   "id": "848b4929-4ed6-4577-ad9a-9c08a4f3e980",
   "metadata": {
    "tags": []
   },
   "outputs": [],
   "source": [
    "se.compile(optimizer=optimizer_fn,loss=loss_mse,metrics=CategoricalAccuracy())"
   ]
  },
  {
   "cell_type": "code",
   "execution_count": 57,
   "id": "d5c2a850-cb6e-4c73-844f-f94aaced4658",
   "metadata": {
    "tags": []
   },
   "outputs": [
    {
     "name": "stdout",
     "output_type": "stream",
     "text": [
      "93/93 [==============================] - 7s 79ms/step - loss: 0.0046 - categorical_accuracy: 0.9070\n"
     ]
    },
    {
     "data": {
      "text/plain": [
       "[0.004575089551508427, 0.907006025314331]"
      ]
     },
     "execution_count": 57,
     "metadata": {},
     "output_type": "execute_result"
    }
   ],
   "source": [
    "se.evaluate(test_datagen2)\n"
   ]
  },
  {
   "cell_type": "code",
   "execution_count": 25,
   "id": "ae2b2372-6137-4c3a-ac52-3fd0d659164b",
   "metadata": {
    "tags": []
   },
   "outputs": [],
   "source": [
    "class TT_Generator2(tf.keras.utils.Sequence):\n",
    "    \"\"\"\n",
    "    Generating Batch of Data\n",
    "    n_way: number of ways (classes)\n",
    "    k_shot: number of shots\n",
    "    batch: batch of data (query samples)\n",
    "    \"\"\"\n",
    "    def __init__(\n",
    "        self,data_path='datasets/TT100K/',\n",
    "        batch=43,target_size=(64,64),shuffle=True):\n",
    "        #Initialization\n",
    "        self.data_path = data_path\n",
    "        self.batch = batch\n",
    "        self.target_size = target_size\n",
    "        self.standardize = standardize\n",
    "        self.shuffle = shuffle\n",
    "\n",
    "        \n",
    "        home = os.getcwd()\n",
    "        original_path = os.path.join(home,self.data_path)\n",
    "\n",
    "        self.target_path = os.path.join(original_path,\"all\")\n",
    "        self.source_path = os.path.join(original_path,\"template/all\")\n",
    "        self.classes = np.asarray(os.listdir(self.target_path))\n",
    "        self.classes.sort()\n",
    "   \n",
    "        self.IDs = []\n",
    "        self.labels_IDs = []\n",
    "        self.Xsource = np.empty((43,*self.target_size,3))\n",
    "        for i,C in enumerate(self.classes):\n",
    "            c_path = os.path.join(self.target_path,C)\n",
    "            for f in os.listdir(c_path):\n",
    "                self.IDs += [C+'/'+f]\n",
    "                self.labels_IDs += [i]\n",
    "                \n",
    "            c_path = os.path.join(self.source_path,C)\n",
    "            for f in os.listdir(c_path):\n",
    "                file_path = os.path.join(c_path,f)\n",
    "                #X[i] = img_to_array(load_img(file_path,target_size=self.target_size))\n",
    "     \n",
    "                self.Xsource[i] = self.standardize(img_to_array(load_img(\n",
    "                    file_path,target_size=self.target_size,\n",
    "                    interpolation='bilinear')))\n",
    "        self.labels_IDs = np.asarray(self.labels_IDs)\n",
    "        self.IDs = np.array(self.IDs)\n",
    "        \n",
    "        self.on_epoch_end()\n",
    "        \n",
    "    \n",
    "    def __len__(self):\n",
    "        'Denotes the number of batches per epoch'\n",
    "        return (len(self.labels_IDs) // self.batch)\n",
    "\n",
    "\n",
    "    def __getitem__(self,index):\n",
    "        'Generate one batch of data'\n",
    "        # Generate data\n",
    "        indexes = self.indexes[index*self.batch:(index+1)*self.batch]\n",
    "        X_sample, X_query,y = self.__data_generation(indexes)\n",
    "        return [X_sample, X_query],y\n",
    "\n",
    "    def on_epoch_end(self):\n",
    "        'Updates indexes after each epoch'\n",
    "        self.indexes = np.arange(len(self.labels_IDs))\n",
    "        if self.shuffle:\n",
    "            np.random.shuffle(self.indexes)\n",
    "\n",
    "    def __data_generation(self,indexes):\n",
    "        'Generates data containing batch_size samples' # X : (n_samples, *dim, n_channels)\n",
    "        # Initialization\n",
    "        \n",
    "        X = np.empty((2*self.batch,*self.target_size,3))\n",
    "        y = np.empty((self.batch,1))\n",
    "\n",
    "        #tt100k_path = 'datasets/TT100K/template/all/'\n",
    "        #tt_classes = os.listdir(tt100k_path)\n",
    "        #tt_classes.sort()\n",
    "        for i in range(self.batch):\n",
    "            idx = np.random.randint(36)\n",
    "            y[i] = idx\n",
    "            X[i] = self.Xsource[idx]\n",
    "            X[i + self.batch] = self.standardize(gan(tf.expand_dims(self.Xsource[idx],axis=0)))\n",
    "            #X[i+self.batch] = self.Xsource[self.labels_IDs[idx]]\n",
    "\n",
    "        return tf.constant(X[:self.batch],dtype='float32'),\\\n",
    "            tf.constant(X[self.batch:],dtype='float32'),tf.constant(y,dtype='float32')"
   ]
  },
  {
   "cell_type": "code",
   "execution_count": 26,
   "id": "82984593-a8db-492a-ad55-da7dddafd8f6",
   "metadata": {
    "tags": []
   },
   "outputs": [],
   "source": [
    "t_loader = TT_Generator2(batch=32)"
   ]
  },
  {
   "cell_type": "code",
   "execution_count": 27,
   "id": "bc074ed9-4548-4498-8aea-99f8fef8838f",
   "metadata": {
    "tags": []
   },
   "outputs": [],
   "source": [
    "f = iter(t_loader)"
   ]
  },
  {
   "cell_type": "code",
   "execution_count": 28,
   "id": "3b6e94ca-1295-4615-af77-b7a9a732953f",
   "metadata": {
    "tags": []
   },
   "outputs": [],
   "source": [
    "[Xs,Xq],y = next(f)"
   ]
  },
  {
   "cell_type": "code",
   "execution_count": 29,
   "id": "8782f035-328d-48a6-8325-89d4d09176a5",
   "metadata": {
    "tags": []
   },
   "outputs": [
    {
     "data": {
      "text/plain": [
       "<matplotlib.image.AxesImage at 0x7f04ec3a2ac0>"
      ]
     },
     "execution_count": 29,
     "metadata": {},
     "output_type": "execute_result"
    },
    {
     "data": {
      "image/png": "[encoded data removed]",
      "text/plain": [
       "<Figure size 640x480 with 1 Axes>"
      ]
     },
     "metadata": {},
     "output_type": "display_data"
    }
   ],
   "source": [
    "plt.imshow(normalize(Xs[10]))"
   ]
  },
  {
   "cell_type": "code",
   "execution_count": 30,
   "id": "280370d8-5edf-4613-b1f2-7e810b5b5fc2",
   "metadata": {
    "tags": []
   },
   "outputs": [],
   "source": [
    "model_h5_ft = 'model_files/densenet_ft_test.h5'\n",
    "encoder_h5_ft = 'model_files/densenet_ft_test_encoder.h5'\n",
    "\n",
    "best_test_acc = 0.0\n",
    "\n",
    "loaded_model_h5 = 'model_files/best_models/densenet_gtsrb2tt100k_whole.h5'\n",
    "#load_model_h5 = 'model_files/best_models/densenet_gtsrb2tt100k_whole_2.h5'\n",
    "se2 = load_model(\n",
    "    loaded_model_h5,\n",
    "    custom_objects={\n",
    "        'Weighted_Euclidean_Distance':Weighted_Euclidean_Distance,\n",
    "        'BilinearInterpolation':BilinearInterpolation,\n",
    "        'Localization':Localization},compile=False)\n",
    "\n",
    "#encoder = se.get_layer('encoder')\n",
    "\n",
    "optimizer_fn = keras.optimizers.Adam(learning_rate=1e-6,epsilon=1.0e-8)\n",
    "\n",
    "se2.compile(optimizer=optimizer_fn,loss=loss_mse,metrics=CategoricalAccuracy())"
   ]
  },
  {
   "cell_type": "code",
   "execution_count": 31,
   "id": "c1950485-88e1-452a-b3b2-5fb8e6a19040",
   "metadata": {
    "tags": []
   },
   "outputs": [
    {
     "name": "stdout",
     "output_type": "stream",
     "text": [
      " 53/374 [===>..........................] - ETA: 14:03 - loss: 415.7118 - categorical_accuracy: 0.0542"
     ]
    },
    {
     "ename": "KeyboardInterrupt",
     "evalue": "",
     "output_type": "error",
     "traceback": [
      "\u001b[0;31m---------------------------------------------------------------------------\u001b[0m",
      "\u001b[0;31mKeyboardInterrupt\u001b[0m                         Traceback (most recent call last)",
      "Cell \u001b[0;32mIn[31], line 1\u001b[0m\n\u001b[0;32m----> 1\u001b[0m \u001b[43mse2\u001b[49m\u001b[38;5;241;43m.\u001b[39;49m\u001b[43mfit\u001b[49m\u001b[43m(\u001b[49m\u001b[43mt_loader\u001b[49m\u001b[43m)\u001b[49m\n",
      "File \u001b[0;32m~/anaconda3/envs/tf/lib/python3.9/site-packages/keras/utils/traceback_utils.py:65\u001b[0m, in \u001b[0;36mfilter_traceback.<locals>.error_handler\u001b[0;34m(*args, **kwargs)\u001b[0m\n\u001b[1;32m     63\u001b[0m filtered_tb \u001b[38;5;241m=\u001b[39m \u001b[38;5;28;01mNone\u001b[39;00m\n\u001b[1;32m     64\u001b[0m \u001b[38;5;28;01mtry\u001b[39;00m:\n\u001b[0;32m---> 65\u001b[0m     \u001b[38;5;28;01mreturn\u001b[39;00m \u001b[43mfn\u001b[49m\u001b[43m(\u001b[49m\u001b[38;5;241;43m*\u001b[39;49m\u001b[43margs\u001b[49m\u001b[43m,\u001b[49m\u001b[43m \u001b[49m\u001b[38;5;241;43m*\u001b[39;49m\u001b[38;5;241;43m*\u001b[39;49m\u001b[43mkwargs\u001b[49m\u001b[43m)\u001b[49m\n\u001b[1;32m     66\u001b[0m \u001b[38;5;28;01mexcept\u001b[39;00m \u001b[38;5;167;01mException\u001b[39;00m \u001b[38;5;28;01mas\u001b[39;00m e:\n\u001b[1;32m     67\u001b[0m     filtered_tb \u001b[38;5;241m=\u001b[39m _process_traceback_frames(e\u001b[38;5;241m.\u001b[39m__traceback__)\n",
      "File \u001b[0;32m~/anaconda3/envs/tf/lib/python3.9/site-packages/keras/engine/training.py:1564\u001b[0m, in \u001b[0;36mModel.fit\u001b[0;34m(self, x, y, batch_size, epochs, verbose, callbacks, validation_split, validation_data, shuffle, class_weight, sample_weight, initial_epoch, steps_per_epoch, validation_steps, validation_batch_size, validation_freq, max_queue_size, workers, use_multiprocessing)\u001b[0m\n\u001b[1;32m   1556\u001b[0m \u001b[38;5;28;01mwith\u001b[39;00m tf\u001b[38;5;241m.\u001b[39mprofiler\u001b[38;5;241m.\u001b[39mexperimental\u001b[38;5;241m.\u001b[39mTrace(\n\u001b[1;32m   1557\u001b[0m     \u001b[38;5;124m\"\u001b[39m\u001b[38;5;124mtrain\u001b[39m\u001b[38;5;124m\"\u001b[39m,\n\u001b[1;32m   1558\u001b[0m     epoch_num\u001b[38;5;241m=\u001b[39mepoch,\n\u001b[0;32m   (...)\u001b[0m\n\u001b[1;32m   1561\u001b[0m     _r\u001b[38;5;241m=\u001b[39m\u001b[38;5;241m1\u001b[39m,\n\u001b[1;32m   1562\u001b[0m ):\n\u001b[1;32m   1563\u001b[0m     callbacks\u001b[38;5;241m.\u001b[39mon_train_batch_begin(step)\n\u001b[0;32m-> 1564\u001b[0m     tmp_logs \u001b[38;5;241m=\u001b[39m \u001b[38;5;28;43mself\u001b[39;49m\u001b[38;5;241;43m.\u001b[39;49m\u001b[43mtrain_function\u001b[49m\u001b[43m(\u001b[49m\u001b[43miterator\u001b[49m\u001b[43m)\u001b[49m\n\u001b[1;32m   1565\u001b[0m     \u001b[38;5;28;01mif\u001b[39;00m data_handler\u001b[38;5;241m.\u001b[39mshould_sync:\n\u001b[1;32m   1566\u001b[0m         context\u001b[38;5;241m.\u001b[39masync_wait()\n",
      "File \u001b[0;32m~/anaconda3/envs/tf/lib/python3.9/site-packages/tensorflow/python/util/traceback_utils.py:150\u001b[0m, in \u001b[0;36mfilter_traceback.<locals>.error_handler\u001b[0;34m(*args, **kwargs)\u001b[0m\n\u001b[1;32m    148\u001b[0m filtered_tb \u001b[38;5;241m=\u001b[39m \u001b[38;5;28;01mNone\u001b[39;00m\n\u001b[1;32m    149\u001b[0m \u001b[38;5;28;01mtry\u001b[39;00m:\n\u001b[0;32m--> 150\u001b[0m   \u001b[38;5;28;01mreturn\u001b[39;00m \u001b[43mfn\u001b[49m\u001b[43m(\u001b[49m\u001b[38;5;241;43m*\u001b[39;49m\u001b[43margs\u001b[49m\u001b[43m,\u001b[49m\u001b[43m \u001b[49m\u001b[38;5;241;43m*\u001b[39;49m\u001b[38;5;241;43m*\u001b[39;49m\u001b[43mkwargs\u001b[49m\u001b[43m)\u001b[49m\n\u001b[1;32m    151\u001b[0m \u001b[38;5;28;01mexcept\u001b[39;00m \u001b[38;5;167;01mException\u001b[39;00m \u001b[38;5;28;01mas\u001b[39;00m e:\n\u001b[1;32m    152\u001b[0m   filtered_tb \u001b[38;5;241m=\u001b[39m _process_traceback_frames(e\u001b[38;5;241m.\u001b[39m__traceback__)\n",
      "File \u001b[0;32m~/anaconda3/envs/tf/lib/python3.9/site-packages/tensorflow/python/eager/def_function.py:915\u001b[0m, in \u001b[0;36mFunction.__call__\u001b[0;34m(self, *args, **kwds)\u001b[0m\n\u001b[1;32m    912\u001b[0m compiler \u001b[38;5;241m=\u001b[39m \u001b[38;5;124m\"\u001b[39m\u001b[38;5;124mxla\u001b[39m\u001b[38;5;124m\"\u001b[39m \u001b[38;5;28;01mif\u001b[39;00m \u001b[38;5;28mself\u001b[39m\u001b[38;5;241m.\u001b[39m_jit_compile \u001b[38;5;28;01melse\u001b[39;00m \u001b[38;5;124m\"\u001b[39m\u001b[38;5;124mnonXla\u001b[39m\u001b[38;5;124m\"\u001b[39m\n\u001b[1;32m    914\u001b[0m \u001b[38;5;28;01mwith\u001b[39;00m OptionalXlaContext(\u001b[38;5;28mself\u001b[39m\u001b[38;5;241m.\u001b[39m_jit_compile):\n\u001b[0;32m--> 915\u001b[0m   result \u001b[38;5;241m=\u001b[39m \u001b[38;5;28;43mself\u001b[39;49m\u001b[38;5;241;43m.\u001b[39;49m\u001b[43m_call\u001b[49m\u001b[43m(\u001b[49m\u001b[38;5;241;43m*\u001b[39;49m\u001b[43margs\u001b[49m\u001b[43m,\u001b[49m\u001b[43m \u001b[49m\u001b[38;5;241;43m*\u001b[39;49m\u001b[38;5;241;43m*\u001b[39;49m\u001b[43mkwds\u001b[49m\u001b[43m)\u001b[49m\n\u001b[1;32m    917\u001b[0m new_tracing_count \u001b[38;5;241m=\u001b[39m \u001b[38;5;28mself\u001b[39m\u001b[38;5;241m.\u001b[39mexperimental_get_tracing_count()\n\u001b[1;32m    918\u001b[0m without_tracing \u001b[38;5;241m=\u001b[39m (tracing_count \u001b[38;5;241m==\u001b[39m new_tracing_count)\n",
      "File \u001b[0;32m~/anaconda3/envs/tf/lib/python3.9/site-packages/tensorflow/python/eager/def_function.py:947\u001b[0m, in \u001b[0;36mFunction._call\u001b[0;34m(self, *args, **kwds)\u001b[0m\n\u001b[1;32m    944\u001b[0m   \u001b[38;5;28mself\u001b[39m\u001b[38;5;241m.\u001b[39m_lock\u001b[38;5;241m.\u001b[39mrelease()\n\u001b[1;32m    945\u001b[0m   \u001b[38;5;66;03m# In this case we have created variables on the first call, so we run the\u001b[39;00m\n\u001b[1;32m    946\u001b[0m   \u001b[38;5;66;03m# defunned version which is guaranteed to never create variables.\u001b[39;00m\n\u001b[0;32m--> 947\u001b[0m   \u001b[38;5;28;01mreturn\u001b[39;00m \u001b[38;5;28;43mself\u001b[39;49m\u001b[38;5;241;43m.\u001b[39;49m\u001b[43m_stateless_fn\u001b[49m\u001b[43m(\u001b[49m\u001b[38;5;241;43m*\u001b[39;49m\u001b[43margs\u001b[49m\u001b[43m,\u001b[49m\u001b[43m \u001b[49m\u001b[38;5;241;43m*\u001b[39;49m\u001b[38;5;241;43m*\u001b[39;49m\u001b[43mkwds\u001b[49m\u001b[43m)\u001b[49m  \u001b[38;5;66;03m# pylint: disable=not-callable\u001b[39;00m\n\u001b[1;32m    948\u001b[0m \u001b[38;5;28;01melif\u001b[39;00m \u001b[38;5;28mself\u001b[39m\u001b[38;5;241m.\u001b[39m_stateful_fn \u001b[38;5;129;01mis\u001b[39;00m \u001b[38;5;129;01mnot\u001b[39;00m \u001b[38;5;28;01mNone\u001b[39;00m:\n\u001b[1;32m    949\u001b[0m   \u001b[38;5;66;03m# Release the lock early so that multiple threads can perform the call\u001b[39;00m\n\u001b[1;32m    950\u001b[0m   \u001b[38;5;66;03m# in parallel.\u001b[39;00m\n\u001b[1;32m    951\u001b[0m   \u001b[38;5;28mself\u001b[39m\u001b[38;5;241m.\u001b[39m_lock\u001b[38;5;241m.\u001b[39mrelease()\n",
      "File \u001b[0;32m~/anaconda3/envs/tf/lib/python3.9/site-packages/tensorflow/python/eager/function.py:2496\u001b[0m, in \u001b[0;36mFunction.__call__\u001b[0;34m(self, *args, **kwargs)\u001b[0m\n\u001b[1;32m   2493\u001b[0m \u001b[38;5;28;01mwith\u001b[39;00m \u001b[38;5;28mself\u001b[39m\u001b[38;5;241m.\u001b[39m_lock:\n\u001b[1;32m   2494\u001b[0m   (graph_function,\n\u001b[1;32m   2495\u001b[0m    filtered_flat_args) \u001b[38;5;241m=\u001b[39m \u001b[38;5;28mself\u001b[39m\u001b[38;5;241m.\u001b[39m_maybe_define_function(args, kwargs)\n\u001b[0;32m-> 2496\u001b[0m \u001b[38;5;28;01mreturn\u001b[39;00m \u001b[43mgraph_function\u001b[49m\u001b[38;5;241;43m.\u001b[39;49m\u001b[43m_call_flat\u001b[49m\u001b[43m(\u001b[49m\n\u001b[1;32m   2497\u001b[0m \u001b[43m    \u001b[49m\u001b[43mfiltered_flat_args\u001b[49m\u001b[43m,\u001b[49m\u001b[43m \u001b[49m\u001b[43mcaptured_inputs\u001b[49m\u001b[38;5;241;43m=\u001b[39;49m\u001b[43mgraph_function\u001b[49m\u001b[38;5;241;43m.\u001b[39;49m\u001b[43mcaptured_inputs\u001b[49m\u001b[43m)\u001b[49m\n",
      "File \u001b[0;32m~/anaconda3/envs/tf/lib/python3.9/site-packages/tensorflow/python/eager/function.py:1862\u001b[0m, in \u001b[0;36mConcreteFunction._call_flat\u001b[0;34m(self, args, captured_inputs, cancellation_manager)\u001b[0m\n\u001b[1;32m   1858\u001b[0m possible_gradient_type \u001b[38;5;241m=\u001b[39m gradients_util\u001b[38;5;241m.\u001b[39mPossibleTapeGradientTypes(args)\n\u001b[1;32m   1859\u001b[0m \u001b[38;5;28;01mif\u001b[39;00m (possible_gradient_type \u001b[38;5;241m==\u001b[39m gradients_util\u001b[38;5;241m.\u001b[39mPOSSIBLE_GRADIENT_TYPES_NONE\n\u001b[1;32m   1860\u001b[0m     \u001b[38;5;129;01mand\u001b[39;00m executing_eagerly):\n\u001b[1;32m   1861\u001b[0m   \u001b[38;5;66;03m# No tape is watching; skip to running the function.\u001b[39;00m\n\u001b[0;32m-> 1862\u001b[0m   \u001b[38;5;28;01mreturn\u001b[39;00m \u001b[38;5;28mself\u001b[39m\u001b[38;5;241m.\u001b[39m_build_call_outputs(\u001b[38;5;28;43mself\u001b[39;49m\u001b[38;5;241;43m.\u001b[39;49m\u001b[43m_inference_function\u001b[49m\u001b[38;5;241;43m.\u001b[39;49m\u001b[43mcall\u001b[49m\u001b[43m(\u001b[49m\n\u001b[1;32m   1863\u001b[0m \u001b[43m      \u001b[49m\u001b[43mctx\u001b[49m\u001b[43m,\u001b[49m\u001b[43m \u001b[49m\u001b[43margs\u001b[49m\u001b[43m,\u001b[49m\u001b[43m \u001b[49m\u001b[43mcancellation_manager\u001b[49m\u001b[38;5;241;43m=\u001b[39;49m\u001b[43mcancellation_manager\u001b[49m\u001b[43m)\u001b[49m)\n\u001b[1;32m   1864\u001b[0m forward_backward \u001b[38;5;241m=\u001b[39m \u001b[38;5;28mself\u001b[39m\u001b[38;5;241m.\u001b[39m_select_forward_and_backward_functions(\n\u001b[1;32m   1865\u001b[0m     args,\n\u001b[1;32m   1866\u001b[0m     possible_gradient_type,\n\u001b[1;32m   1867\u001b[0m     executing_eagerly)\n\u001b[1;32m   1868\u001b[0m forward_function, args_with_tangents \u001b[38;5;241m=\u001b[39m forward_backward\u001b[38;5;241m.\u001b[39mforward()\n",
      "File \u001b[0;32m~/anaconda3/envs/tf/lib/python3.9/site-packages/tensorflow/python/eager/function.py:499\u001b[0m, in \u001b[0;36m_EagerDefinedFunction.call\u001b[0;34m(self, ctx, args, cancellation_manager)\u001b[0m\n\u001b[1;32m    497\u001b[0m \u001b[38;5;28;01mwith\u001b[39;00m _InterpolateFunctionError(\u001b[38;5;28mself\u001b[39m):\n\u001b[1;32m    498\u001b[0m   \u001b[38;5;28;01mif\u001b[39;00m cancellation_manager \u001b[38;5;129;01mis\u001b[39;00m \u001b[38;5;28;01mNone\u001b[39;00m:\n\u001b[0;32m--> 499\u001b[0m     outputs \u001b[38;5;241m=\u001b[39m \u001b[43mexecute\u001b[49m\u001b[38;5;241;43m.\u001b[39;49m\u001b[43mexecute\u001b[49m\u001b[43m(\u001b[49m\n\u001b[1;32m    500\u001b[0m \u001b[43m        \u001b[49m\u001b[38;5;28;43mstr\u001b[39;49m\u001b[43m(\u001b[49m\u001b[38;5;28;43mself\u001b[39;49m\u001b[38;5;241;43m.\u001b[39;49m\u001b[43msignature\u001b[49m\u001b[38;5;241;43m.\u001b[39;49m\u001b[43mname\u001b[49m\u001b[43m)\u001b[49m\u001b[43m,\u001b[49m\n\u001b[1;32m    501\u001b[0m \u001b[43m        \u001b[49m\u001b[43mnum_outputs\u001b[49m\u001b[38;5;241;43m=\u001b[39;49m\u001b[38;5;28;43mself\u001b[39;49m\u001b[38;5;241;43m.\u001b[39;49m\u001b[43m_num_outputs\u001b[49m\u001b[43m,\u001b[49m\n\u001b[1;32m    502\u001b[0m \u001b[43m        \u001b[49m\u001b[43minputs\u001b[49m\u001b[38;5;241;43m=\u001b[39;49m\u001b[43margs\u001b[49m\u001b[43m,\u001b[49m\n\u001b[1;32m    503\u001b[0m \u001b[43m        \u001b[49m\u001b[43mattrs\u001b[49m\u001b[38;5;241;43m=\u001b[39;49m\u001b[43mattrs\u001b[49m\u001b[43m,\u001b[49m\n\u001b[1;32m    504\u001b[0m \u001b[43m        \u001b[49m\u001b[43mctx\u001b[49m\u001b[38;5;241;43m=\u001b[39;49m\u001b[43mctx\u001b[49m\u001b[43m)\u001b[49m\n\u001b[1;32m    505\u001b[0m   \u001b[38;5;28;01melse\u001b[39;00m:\n\u001b[1;32m    506\u001b[0m     outputs \u001b[38;5;241m=\u001b[39m execute\u001b[38;5;241m.\u001b[39mexecute_with_cancellation(\n\u001b[1;32m    507\u001b[0m         \u001b[38;5;28mstr\u001b[39m(\u001b[38;5;28mself\u001b[39m\u001b[38;5;241m.\u001b[39msignature\u001b[38;5;241m.\u001b[39mname),\n\u001b[1;32m    508\u001b[0m         num_outputs\u001b[38;5;241m=\u001b[39m\u001b[38;5;28mself\u001b[39m\u001b[38;5;241m.\u001b[39m_num_outputs,\n\u001b[0;32m   (...)\u001b[0m\n\u001b[1;32m    511\u001b[0m         ctx\u001b[38;5;241m=\u001b[39mctx,\n\u001b[1;32m    512\u001b[0m         cancellation_manager\u001b[38;5;241m=\u001b[39mcancellation_manager)\n",
      "File \u001b[0;32m~/anaconda3/envs/tf/lib/python3.9/site-packages/tensorflow/python/eager/execute.py:54\u001b[0m, in \u001b[0;36mquick_execute\u001b[0;34m(op_name, num_outputs, inputs, attrs, ctx, name)\u001b[0m\n\u001b[1;32m     52\u001b[0m \u001b[38;5;28;01mtry\u001b[39;00m:\n\u001b[1;32m     53\u001b[0m   ctx\u001b[38;5;241m.\u001b[39mensure_initialized()\n\u001b[0;32m---> 54\u001b[0m   tensors \u001b[38;5;241m=\u001b[39m \u001b[43mpywrap_tfe\u001b[49m\u001b[38;5;241;43m.\u001b[39;49m\u001b[43mTFE_Py_Execute\u001b[49m\u001b[43m(\u001b[49m\u001b[43mctx\u001b[49m\u001b[38;5;241;43m.\u001b[39;49m\u001b[43m_handle\u001b[49m\u001b[43m,\u001b[49m\u001b[43m \u001b[49m\u001b[43mdevice_name\u001b[49m\u001b[43m,\u001b[49m\u001b[43m \u001b[49m\u001b[43mop_name\u001b[49m\u001b[43m,\u001b[49m\n\u001b[1;32m     55\u001b[0m \u001b[43m                                      \u001b[49m\u001b[43minputs\u001b[49m\u001b[43m,\u001b[49m\u001b[43m \u001b[49m\u001b[43mattrs\u001b[49m\u001b[43m,\u001b[49m\u001b[43m \u001b[49m\u001b[43mnum_outputs\u001b[49m\u001b[43m)\u001b[49m\n\u001b[1;32m     56\u001b[0m \u001b[38;5;28;01mexcept\u001b[39;00m core\u001b[38;5;241m.\u001b[39m_NotOkStatusException \u001b[38;5;28;01mas\u001b[39;00m e:\n\u001b[1;32m     57\u001b[0m   \u001b[38;5;28;01mif\u001b[39;00m name \u001b[38;5;129;01mis\u001b[39;00m \u001b[38;5;129;01mnot\u001b[39;00m \u001b[38;5;28;01mNone\u001b[39;00m:\n",
      "\u001b[0;31mKeyboardInterrupt\u001b[0m: "
     ]
    }
   ],
   "source": [
    "se2.fit(t_loader)"
   ]
  },
  {
   "cell_type": "code",
   "execution_count": 26,
   "id": "3b05ecf2-c815-472d-b069-a5809dbccb58",
   "metadata": {},
   "outputs": [],
   "source": [
    "optimizer_fn = keras.optimizers.Adam(learning_rate=1e-6,epsilon=1.0e-8)\n",
    "\n",
    "se.compile(optimizer=optimizer_fn,loss=loss_mse,metrics=CategoricalAccuracy())"
   ]
  },
  {
   "cell_type": "code",
   "execution_count": 27,
   "id": "6011c69e-7847-4441-ba6e-abe8f9269059",
   "metadata": {
    "tags": []
   },
   "outputs": [
    {
     "name": "stdout",
     "output_type": "stream",
     "text": [
      "278/278 [==============================] - 15s 48ms/step - loss: 0.0046 - categorical_accuracy: 0.9111\n"
     ]
    },
    {
     "data": {
      "text/plain": [
       "[0.004559675231575966, 0.91107577085495]"
      ]
     },
     "execution_count": 27,
     "metadata": {},
     "output_type": "execute_result"
    }
   ],
   "source": [
    "se.evaluate(test_datagen2)"
   ]
  },
  {
   "cell_type": "code",
   "execution_count": null,
   "id": "7f0f6e0b-fd97-4592-87d3-cfd6a3aeec66",
   "metadata": {},
   "outputs": [],
   "source": []
  }
 ],
 "metadata": {
  "kernelspec": {
   "display_name": "Python [conda env:tf] *",
   "language": "python",
   "name": "conda-env-tf-py"
  },
  "language_info": {
   "codemirror_mode": {
    "name": "ipython",
    "version": 3
   },
   "file_extension": ".py",
   "mimetype": "text/x-python",
   "name": "python",
   "nbconvert_exporter": "python",
   "pygments_lexer": "ipython3",
   "version": "3.9.16"
  }
 },
 "nbformat": 4,
 "nbformat_minor": 5
}
