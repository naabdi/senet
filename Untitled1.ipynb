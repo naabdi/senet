{
 "cells": [
  {
   "cell_type": "code",
   "execution_count": 5,
   "id": "14bb2c64-5104-4390-a56e-55d9ca07bdad",
   "metadata": {
    "tags": []
   },
   "outputs": [],
   "source": [
    "from tensorflow import keras\n",
    "import tensorflow as tf\n",
    "from tensorflow.keras.metrics import Mean, CategoricalAccuracy\n",
    "from models.metrics import loss_mse,accuracy,loss_new\n",
    "from models.makemodels import make_proto_model\n",
    "import argparse\n",
    "from time import time\n",
    "from data_loader import get_loader\n",
    "from models.distances import Weighted_Euclidean_Distance\n",
    "from models.stn import BilinearInterpolation,Localization\n",
    "from tensorflow.keras.models import load_model\n",
    "from models.senet import Senet"
   ]
  },
  {
   "cell_type": "code",
   "execution_count": 82,
   "id": "9afbbe7f-2b30-4fbb-b140-60d04a37dac6",
   "metadata": {
    "tags": []
   },
   "outputs": [],
   "source": [
    "loader = get_loader('gtsrb2tt100k') \n",
    "test_generator = loader.get_test_generator(batch=512,dim=64)"
   ]
  },
  {
   "cell_type": "code",
   "execution_count": 68,
   "id": "976b7608-e4dd-43cc-bd0f-2d75d67da330",
   "metadata": {
    "tags": []
   },
   "outputs": [],
   "source": [
    "model_h5 = 'model_files/best_models/densenet_gtsrb2tt100k_whole.h5'"
   ]
  },
  {
   "cell_type": "code",
   "execution_count": 69,
   "id": "84749a51-1d49-4089-8340-1457890a5c29",
   "metadata": {
    "tags": []
   },
   "outputs": [],
   "source": [
    "senet = load_model(\n",
    "        model_h5,\n",
    "        custom_objects={\n",
    "            'Weighted_Euclidean_Distance':Weighted_Euclidean_Distance,\n",
    "            'BilinearInterpolation':BilinearInterpolation,\n",
    "            'Localization':Localization,\n",
    "            'Senet':Senet},compile=False)"
   ]
  },
  {
   "cell_type": "code",
   "execution_count": 70,
   "id": "532682b7-4241-4490-8a9e-edb3120ce87a",
   "metadata": {
    "tags": []
   },
   "outputs": [],
   "source": [
    "metric = CategoricalAccuracy()\n",
    "optimizer_fn = keras.optimizers.Adam(learning_rate=0.001,epsilon=1.0e-8)\n",
    "senet.compile(optimizer=optimizer_fn, metrics=metric, loss_fn=loss_mse)"
   ]
  },
  {
   "cell_type": "code",
   "execution_count": 13,
   "id": "c3f28ff3-d075-41c1-bad1-cd29dc9c8c00",
   "metadata": {
    "tags": []
   },
   "outputs": [
    {
     "name": "stderr",
     "output_type": "stream",
     "text": [
      "2023-04-02 11:23:56.426685: I tensorflow/stream_executor/cuda/cuda_dnn.cc:384] Loaded cuDNN version 8100\n",
      "2023-04-02 11:23:59.049995: I tensorflow/stream_executor/cuda/cuda_blas.cc:1614] TensorFloat-32 will be used for the matrix multiplication. This will only be logged once.\n"
     ]
    },
    {
     "name": "stdout",
     "output_type": "stream",
     "text": [
      "306/306 [==============================] - 42s 117ms/step - categorical_accuracy: 0.9835\n"
     ]
    },
    {
     "data": {
      "text/plain": [
       "0.9835324883460999"
      ]
     },
     "execution_count": 13,
     "metadata": {},
     "output_type": "execute_result"
    }
   ],
   "source": [
    "senet.evaluate(test_generator,verbose=1)"
   ]
  },
  {
   "cell_type": "code",
   "execution_count": 83,
   "id": "d13f9c69-f907-4672-a586-6355741087cf",
   "metadata": {
    "tags": []
   },
   "outputs": [],
   "source": [
    "from time import time\n",
    "import numpy as np"
   ]
  },
  {
   "cell_type": "code",
   "execution_count": 84,
   "id": "cbfcc01d-4342-4a5a-a2b0-f64f3676fcd0",
   "metadata": {
    "tags": []
   },
   "outputs": [],
   "source": [
    "f = iter(test_generator)"
   ]
  },
  {
   "cell_type": "code",
   "execution_count": 85,
   "id": "2ca27ff9-0119-45f8-9b1b-445118b4f199",
   "metadata": {
    "tags": []
   },
   "outputs": [],
   "source": [
    "[Xs,Xq],y = next(f)"
   ]
  },
  {
   "cell_type": "code",
   "execution_count": 117,
   "id": "a0f2adb0-600e-4442-82e7-b39fc2e07944",
   "metadata": {
    "tags": []
   },
   "outputs": [],
   "source": [
    "def run_inference():\n",
    "    for x in Xq:\n",
    "        tf.math.argmax(senet([Xs,tf.expand_dims(x,axis=0)]))    "
   ]
  },
  {
   "cell_type": "code",
   "execution_count": 118,
   "id": "cc483f51-eed7-4f43-8c7d-1ad40e7e18ad",
   "metadata": {
    "tags": []
   },
   "outputs": [
    {
     "data": {
      "text/plain": [
       "142.2968988418579"
      ]
     },
     "execution_count": 118,
     "metadata": {},
     "output_type": "execute_result"
    }
   ],
   "source": [
    "start = time()\n",
    "run_inference() \n",
    "end = time() - start\n",
    "end"
   ]
  },
  {
   "cell_type": "code",
   "execution_count": 119,
   "id": "86eefd4d-dfcd-4ac8-a560-112da28d59f1",
   "metadata": {
    "tags": []
   },
   "outputs": [
    {
     "data": {
      "text/plain": [
       "3.5981107400591545"
      ]
     },
     "execution_count": 119,
     "metadata": {},
     "output_type": "execute_result"
    }
   ],
   "source": [
    "1 / (end/len(Xq))"
   ]
  },
  {
   "cell_type": "code",
   "execution_count": 19,
   "id": "258093f9-fba5-4e53-855e-91ed64389f86",
   "metadata": {
    "tags": []
   },
   "outputs": [
    {
     "data": {
      "text/plain": [
       "<tf.Tensor: shape=(1, 43), dtype=float32, numpy=\n",
       "array([[9.999999e-01, 6.993387e-08, 0.000000e+00, 0.000000e+00,\n",
       "        0.000000e+00, 0.000000e+00, 0.000000e+00, 0.000000e+00,\n",
       "        0.000000e+00, 0.000000e+00, 0.000000e+00, 0.000000e+00,\n",
       "        0.000000e+00, 0.000000e+00, 0.000000e+00, 0.000000e+00,\n",
       "        0.000000e+00, 0.000000e+00, 0.000000e+00, 0.000000e+00,\n",
       "        0.000000e+00, 0.000000e+00, 0.000000e+00, 0.000000e+00,\n",
       "        0.000000e+00, 0.000000e+00, 0.000000e+00, 0.000000e+00,\n",
       "        0.000000e+00, 0.000000e+00, 0.000000e+00, 0.000000e+00,\n",
       "        0.000000e+00, 0.000000e+00, 0.000000e+00, 0.000000e+00,\n",
       "        0.000000e+00, 0.000000e+00, 0.000000e+00, 0.000000e+00,\n",
       "        0.000000e+00, 0.000000e+00, 0.000000e+00]], dtype=float32)>"
      ]
     },
     "execution_count": 19,
     "metadata": {},
     "output_type": "execute_result"
    }
   ],
   "source": [
    "senet([Xs,Xq[6:7]])"
   ]
  },
  {
   "cell_type": "code",
   "execution_count": 19,
   "id": "3add244a-69f1-49e1-801e-a9454444cc2e",
   "metadata": {
    "tags": []
   },
   "outputs": [
    {
     "data": {
      "text/plain": [
       "array([ 0,  4,  1,  0, 20, 15, 22,  1, 16, 12,  0, 20, 17,  3,  1,  3,  3,\n",
       "        1, 14,  3,  2, 19, 10,  6,  1,  0,  4, 13, 11,  9,  0,  1, 10, 31,\n",
       "        4,  5,  0, 30,  1, 15,  1, 11, 11,  4, 12,  2,  6,  0, 10,  7,  0,\n",
       "       35,  1,  1,  4,  1,  2, 22,  5,  4,  9,  0,  0,  5,  2,  2,  6,  1,\n",
       "        0, 11, 10,  1, 23, 17, 13,  1, 24,  4,  1, 15,  0, 18, 22,  3,  6,\n",
       "        2,  5,  1,  4,  1, 13,  1,  0, 16,  4,  1,  3,  4, 15,  4,  0,  2,\n",
       "        7,  0,  8,  1,  6,  3,  4,  3,  1,  2,  1,  4,  2,  9,  7,  5,  7,\n",
       "       16,  0,  1,  2,  1, 13,  4,  4,  0])"
      ]
     },
     "execution_count": 19,
     "metadata": {},
     "output_type": "execute_result"
    }
   ],
   "source": [
    "np.argmax(y,axis=-1)"
   ]
  },
  {
   "cell_type": "code",
   "execution_count": 21,
   "id": "8962a213-22cb-424e-b29e-f889a8defb81",
   "metadata": {
    "tags": []
   },
   "outputs": [],
   "source": [
    "import matplotlib.pyplot as plt"
   ]
  },
  {
   "cell_type": "code",
   "execution_count": 23,
   "id": "9e2007ac-d434-4dd5-8bf8-af8381c30aa6",
   "metadata": {
    "tags": []
   },
   "outputs": [
    {
     "name": "stderr",
     "output_type": "stream",
     "text": [
      "Clipping input data to the valid range for imshow with RGB data ([0..1] for floats or [0..255] for integers).\n"
     ]
    },
    {
     "data": {
      "text/plain": [
       "<matplotlib.image.AxesImage at 0x7fc3a54c6770>"
      ]
     },
     "execution_count": 23,
     "metadata": {},
     "output_type": "execute_result"
    },
    {
     "data": {
      "image/png": "[encoded data removed]",
      "text/plain": [
       "<Figure size 640x480 with 1 Axes>"
      ]
     },
     "metadata": {},
     "output_type": "display_data"
    }
   ],
   "source": [
    "plt.imshow(Xs[30])"
   ]
  },
  {
   "cell_type": "code",
   "execution_count": 37,
   "id": "d3919512-a7ba-480c-bc79-5f58d476dc61",
   "metadata": {},
   "outputs": [
    {
     "data": {
      "text/plain": [
       "2"
      ]
     },
     "execution_count": 37,
     "metadata": {},
     "output_type": "execute_result"
    }
   ],
   "source": [
    "d = tf.cast(np.random.rand(3,3),tf.float32)\n",
    "d.shape.rank"
   ]
  },
  {
   "cell_type": "code",
   "execution_count": 38,
   "id": "4262cbe3-f058-4e12-872a-39521d5fc9c3",
   "metadata": {
    "tags": []
   },
   "outputs": [
    {
     "data": {
      "text/plain": [
       "<tf.Tensor: shape=(3, 3), dtype=float32, numpy=\n",
       "array([[0.4191906 , 0.279194  , 0.30161542],\n",
       "       [0.2407248 , 0.4989873 , 0.26028785],\n",
       "       [0.30811357, 0.429152  , 0.2627344 ]], dtype=float32)>"
      ]
     },
     "execution_count": 38,
     "metadata": {},
     "output_type": "execute_result"
    }
   ],
   "source": [
    "tf.nn.softmax(d)"
   ]
  },
  {
   "cell_type": "code",
   "execution_count": 46,
   "id": "9ce70713-ed9a-4bb9-aeaf-f9c6179f4dbb",
   "metadata": {
    "tags": []
   },
   "outputs": [],
   "source": [
    "a = tf.math.exp(d/1)"
   ]
  },
  {
   "cell_type": "code",
   "execution_count": 53,
   "id": "c07b8193-963b-44af-a861-a7d7fbb3ca7d",
   "metadata": {
    "tags": []
   },
   "outputs": [
    {
     "data": {
      "text/plain": [
       "<tf.Tensor: shape=(3, 3), dtype=float32, numpy=\n",
       "array([[0.4191906 , 0.24592604, 0.23717773],\n",
       "       [0.27328917, 0.49898735, 0.23236778],\n",
       "       [0.3918235 , 0.4807167 , 0.26273438]], dtype=float32)>"
      ]
     },
     "execution_count": 53,
     "metadata": {},
     "output_type": "execute_result"
    }
   ],
   "source": [
    "a / tf.reduce_sum(a,axis=-1)"
   ]
  },
  {
   "cell_type": "code",
   "execution_count": 28,
   "id": "180acb29-5f97-4d91-8453-5a7905fbd842",
   "metadata": {
    "tags": []
   },
   "outputs": [],
   "source": [
    "@tf.__internal__.dispatch.add_dispatch_support\n",
    "def mod_softmax(x, T = 1, axis=-1):\n",
    "    \"\"\"Softmax converts a vector of values to a probability distribution.\n",
    "    The elements of the output vector are in range (0, 1) and sum to 1.\n",
    "    Each vector is handled independently. The `axis` argument sets which axis\n",
    "    of the input the function is applied along.\n",
    "    Softmax is often used as the activation for the last\n",
    "    layer of a classification network because the result could be interpreted as\n",
    "    a probability distribution.\n",
    "    The softmax of each vector x is computed as\n",
    "    `exp(x) / tf.reduce_sum(exp(x))`.\n",
    "    The input values in are the log-odds of the resulting probability.\n",
    "    Args:\n",
    "      x : Input tensor.\n",
    "      axis: Integer, axis along which the softmax normalization is applied.\n",
    "    Returns:\n",
    "      Tensor, output of softmax transformation (all values are non-negative\n",
    "        and sum to 1).\n",
    "    Examples:\n",
    "    **Example 1: standalone usage**\n",
    "    >>> inputs = tf.random.normal(shape=(32, 10))\n",
    "    >>> outputs = tf.keras.activations.softmax(inputs)\n",
    "    >>> tf.reduce_sum(outputs[0, :])  # Each sample in the batch now sums to 1\n",
    "    <tf.Tensor: shape=(), dtype=float32, numpy=1.0000001>\n",
    "    **Example 2: usage in a `Dense` layer**\n",
    "    >>> layer = tf.keras.layers.Dense(32,\n",
    "    ...                               activation=tf.keras.activations.softmax)\n",
    "    \"\"\"\n",
    "    if x.shape.rank <= 1:\n",
    "        raise ValueError(\n",
    "            f\"Cannot apply softmax to a tensor that is 1D. Received input: {x}\"\n",
    "        )\n",
    "\n",
    "    #if isinstance(axis, int):\n",
    "        #output = tf.nn.softmax(x, axis=axis)\n",
    "    #else:\n",
    "        # nn.softmax does not support tuple axis.\n",
    "    numerator = tf.exp((x - tf.reduce_max(x, axis=axis, keepdims=True)) / T)\n",
    "    denominator = tf.reduce_sum(numerator, axis=axis, keepdims=True)\n",
    "    output = numerator / denominator\n",
    "\n",
    "    # Cache the logits to use for crossentropy loss.\n",
    "    output._keras_logits = x\n",
    "    return output"
   ]
  },
  {
   "cell_type": "code",
   "execution_count": 43,
   "id": "e4fa679c-f173-4ae3-93dd-ad25eae693b3",
   "metadata": {
    "tags": []
   },
   "outputs": [
    {
     "data": {
      "text/plain": [
       "<tf.Tensor: shape=(3, 3), dtype=float32, numpy=\n",
       "array([[0.3498684 , 0.32255486, 0.32757676],\n",
       "       [0.31518924, 0.36465746, 0.3201533 ],\n",
       "       [0.32925594, 0.35181448, 0.3189296 ]], dtype=float32)>"
      ]
     },
     "execution_count": 43,
     "metadata": {},
     "output_type": "execute_result"
    }
   ],
   "source": [
    "mod_softmax(d,T=5)"
   ]
  },
  {
   "cell_type": "code",
   "execution_count": 26,
   "id": "85d9595b-759c-4274-b14b-01d1ef1ecfc7",
   "metadata": {
    "tags": []
   },
   "outputs": [],
   "source": [
    "import os"
   ]
  },
  {
   "cell_type": "code",
   "execution_count": 29,
   "id": "d69d892c-1d1a-4c25-9aa1-39e076d2eaf3",
   "metadata": {
    "tags": []
   },
   "outputs": [],
   "source": [
    "def standardize(img):\n",
    "    mean = np.mean(img)\n",
    "    std = np.std(img)\n",
    "    return (img-mean)/std"
   ]
  },
  {
   "cell_type": "code",
   "execution_count": 38,
   "id": "69d18d0d-fd68-4d97-bedc-90d0cffa93a7",
   "metadata": {
    "tags": []
   },
   "outputs": [],
   "source": [
    "from tensorflow.keras.preprocessing.image import ImageDataGenerator\n",
    "from tensorflow.keras.preprocessing.image import load_img,img_to_array\n",
    "from tensorflow.keras.utils import to_categorical"
   ]
  },
  {
   "cell_type": "code",
   "execution_count": 39,
   "id": "d03e4d0c-f866-4ee4-8278-8d4c5dd8e5cc",
   "metadata": {
    "tags": []
   },
   "outputs": [],
   "source": [
    "import pandas as pd"
   ]
  },
  {
   "cell_type": "code",
   "execution_count": 40,
   "id": "1ad93776-fb64-4883-8a98-c153c7185409",
   "metadata": {},
   "outputs": [],
   "source": [
    "def generate_data(subset='train'):\n",
    "    if subset == 'train':\n",
    "        datapath = 'datasets/GTSRB/all'\n",
    "        datagen = ImageDataGenerator(preprocessing_function=standardize)\n",
    "        return datagen.flow_from_directory(\n",
    "            datapath,batch_size=512,class_mode='categorical',\n",
    "            target_size=(64,64))\n",
    "    if subset == 'test':\n",
    "        test_path = 'datasets/GTSRB/GTSRB_Test'\n",
    "        X = []\n",
    "        print(f'loading GTSRB Test data ...')\n",
    "        files = os.listdir(test_path)\n",
    "        files.sort()\n",
    "        for f in files:\n",
    "            file_path = os.path.join(test_path,f)\n",
    "            X += [standardize(\n",
    "                img_to_array(\n",
    "                    load_img(\n",
    "                        file_path,target_size=(64,64),\n",
    "                        interpolation='bilinear')))]\n",
    "        X = tf.constant(np.array(X))\n",
    "        df = pd.read_csv('datasets/GTSRB/GT-final_test.csv',sep=';')\n",
    "        y_true = tf.constant(\n",
    "            to_categorical(np.array(df['ClassId']),num_classes=43))\n",
    "        return X,y_true"
   ]
  },
  {
   "cell_type": "code",
   "execution_count": 41,
   "id": "c14099fe-babe-442c-9565-18cb367313a4",
   "metadata": {
    "tags": []
   },
   "outputs": [
    {
     "name": "stdout",
     "output_type": "stream",
     "text": [
      "loading GTSRB Test data ...\n"
     ]
    }
   ],
   "source": [
    "X,y_true = generate_data(subset = 'test')"
   ]
  },
  {
   "cell_type": "code",
   "execution_count": 55,
   "id": "6737399c-29da-4f84-bb68-8e5011337d67",
   "metadata": {
    "tags": []
   },
   "outputs": [],
   "source": [
    "y_pred = senet([Xs,X[:1000]])"
   ]
  },
  {
   "cell_type": "code",
   "execution_count": 50,
   "id": "89c89e78-53e6-4e42-96ce-d0b482f1e118",
   "metadata": {
    "tags": []
   },
   "outputs": [],
   "source": [
    "from models.metrics import accuracy"
   ]
  },
  {
   "cell_type": "code",
   "execution_count": 56,
   "id": "2f8bcf7b-f32d-4e30-b879-a537ce804443",
   "metadata": {
    "tags": []
   },
   "outputs": [
    {
     "data": {
      "text/plain": [
       "<tf.Tensor: shape=(), dtype=float32, numpy=0.95>"
      ]
     },
     "execution_count": 56,
     "metadata": {},
     "output_type": "execute_result"
    }
   ],
   "source": [
    "accuracy(y_true[:1000], y_pred)"
   ]
  },
  {
   "cell_type": "code",
   "execution_count": 59,
   "id": "d9ad220b-c5c8-49f4-8f67-3aa571bbafe4",
   "metadata": {
    "tags": []
   },
   "outputs": [],
   "source": [
    "acc = keras.metrics.Mean()"
   ]
  },
  {
   "cell_type": "code",
   "execution_count": 66,
   "id": "e8d750f0-1289-4536-843e-e397787cbfab",
   "metadata": {
    "tags": []
   },
   "outputs": [],
   "source": [
    "for i in range(len(X) // 256):\n",
    "    y_pred = senet([Xs,X[i:i+256]])\n",
    "    acc.update_state(accuracy(y_true[i:i+256], y_pred))"
   ]
  },
  {
   "cell_type": "code",
   "execution_count": 67,
   "id": "c39741e8-0dd2-4765-809f-f302498e084c",
   "metadata": {
    "tags": []
   },
   "outputs": [
    {
     "data": {
      "text/plain": [
       "<tf.Tensor: shape=(), dtype=float32, numpy=0.9381598>"
      ]
     },
     "execution_count": 67,
     "metadata": {},
     "output_type": "execute_result"
    }
   ],
   "source": [
    "acc.result()"
   ]
  },
  {
   "cell_type": "code",
   "execution_count": 27,
   "id": "087b7cf0-43e8-4764-8026-06e83db3928f",
   "metadata": {},
   "outputs": [],
   "source": [
    "loader = get_loader('gtsrb') "
   ]
  },
  {
   "cell_type": "code",
   "execution_count": 28,
   "id": "35c5f67e-e4ae-42c6-a11b-4e9b6c91ddaf",
   "metadata": {
    "tags": []
   },
   "outputs": [],
   "source": [
    "seen, unseen,whole = loader.get_generator(batch=512)"
   ]
  },
  {
   "cell_type": "code",
   "execution_count": 30,
   "id": "7067e3fe-5d23-472b-8e91-1e4efa929ed4",
   "metadata": {
    "tags": []
   },
   "outputs": [
    {
     "name": "stdout",
     "output_type": "stream",
     "text": [
      "Seen = 81.58%\n",
      "Unseen = 17.11%\n"
     ]
    }
   ],
   "source": [
    "seen_num = 0\n",
    "unseen_num = 0\n",
    "whole_num = 0\n",
    "for x,y in seen:\n",
    "    seen_num += len(x[1])\n",
    "for x,y in unseen:\n",
    "    unseen_num += len(x[1])\n",
    "for x,y in whole:\n",
    "    whole_num += len(x[1])\n",
    "print(f'Seen = {seen_num * 100 / whole_num:.2f}%')\n",
    "print(f'Unseen = {unseen_num * 100 / whole_num:.2f}%')"
   ]
  },
  {
   "cell_type": "code",
   "execution_count": 19,
   "id": "cbcfbc28-4aa0-4918-bcfb-430a6d84b46f",
   "metadata": {
    "tags": []
   },
   "outputs": [],
   "source": [
    "loader = get_loader('gtsrb') "
   ]
  },
  {
   "cell_type": "code",
   "execution_count": 23,
   "id": "8f99e91e-3487-4294-9bb7-917b2b1cfc93",
   "metadata": {
    "tags": []
   },
   "outputs": [],
   "source": [
    "loader = get_loader('gtsrb2tt100k') \n",
    "test_generator = loader.get_test_generator(batch=512,dim=64)"
   ]
  },
  {
   "cell_type": "code",
   "execution_count": 24,
   "id": "2ec00236-4ba6-48ad-adb9-abca7685b2b9",
   "metadata": {
    "tags": []
   },
   "outputs": [],
   "source": [
    "tt100k_num = 0\n",
    "for x,y in test_generator:\n",
    "    tt100k_num += len(x[1])"
   ]
  },
  {
   "cell_type": "code",
   "execution_count": 25,
   "id": "6d50ead7-6096-4eb7-a482-6cde35233f8b",
   "metadata": {
    "tags": []
   },
   "outputs": [
    {
     "data": {
      "text/plain": [
       "11776"
      ]
     },
     "execution_count": 25,
     "metadata": {},
     "output_type": "execute_result"
    }
   ],
   "source": [
    "tt100k_num"
   ]
  },
  {
   "cell_type": "code",
   "execution_count": 32,
   "id": "b12f257c-31ba-4f73-9659-4e1de5891c91",
   "metadata": {
    "tags": []
   },
   "outputs": [
    {
     "data": {
      "text/plain": [
       "31744"
      ]
     },
     "execution_count": 32,
     "metadata": {},
     "output_type": "execute_result"
    }
   ],
   "source": [
    "seen_num"
   ]
  },
  {
   "cell_type": "code",
   "execution_count": 26,
   "id": "5597df18-1544-4f08-8655-a9dbdded4397",
   "metadata": {
    "tags": []
   },
   "outputs": [
    {
     "name": "stdout",
     "output_type": "stream",
     "text": [
      "seen percent = 82.0\n"
     ]
    }
   ],
   "source": [
    "print(f'seen percent = {seen_num * 100 / whole_num:.1f}')"
   ]
  },
  {
   "cell_type": "code",
   "execution_count": 33,
   "id": "7401ddcf-50b8-47a2-9835-c7481bb3fc4a",
   "metadata": {
    "tags": []
   },
   "outputs": [
    {
     "data": {
      "text/plain": [
       "0.17904052640975288"
      ]
     },
     "execution_count": 33,
     "metadata": {},
     "output_type": "execute_result"
    }
   ],
   "source": [
    "7020/39209"
   ]
  },
  {
   "cell_type": "code",
   "execution_count": null,
   "id": "a896e7db-43c1-4179-a885-d7802217bef5",
   "metadata": {},
   "outputs": [],
   "source": []
  }
 ],
 "metadata": {
  "kernelspec": {
   "display_name": "Python [conda env:tf] *",
   "language": "python",
   "name": "conda-env-tf-py"
  },
  "language_info": {
   "codemirror_mode": {
    "name": "ipython",
    "version": 3
   },
   "file_extension": ".py",
   "mimetype": "text/x-python",
   "name": "python",
   "nbconvert_exporter": "python",
   "pygments_lexer": "ipython3",
   "version": "3.10.10"
  }
 },
 "nbformat": 4,
 "nbformat_minor": 5
}
