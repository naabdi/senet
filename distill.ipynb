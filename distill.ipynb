{
 "cells": [
  {
   "cell_type": "code",
   "execution_count": null,
   "id": "995572ee-2296-4e47-aa8c-7c25c533c65d",
   "metadata": {},
   "outputs": [],
   "source": []
  },
  {
   "cell_type": "code",
   "execution_count": 2,
   "id": "cc3992c4-7e11-4de1-8456-6e9c0d7b2b26",
   "metadata": {
    "tags": []
   },
   "outputs": [],
   "source": [
    "from tensorflow.keras.metrics import CategoricalAccuracy\n",
    "import tensorflow as tf\n",
    "from data_loader import get_loader\n",
    "from tensorflow import keras\n",
    "import matplotlib.pyplot as plt\n",
    "from tensorflow.keras.utils import to_categorical\n",
    "import numpy as np\n",
    "from models.distances import Euclidean_Distance\n",
    "from models.stn import BilinearInterpolation,Localization\n",
    "from sklearn.neighbors import KNeighborsClassifier\n",
    "from time import time\n",
    "import os\n",
    "from models.metrics import accuracy\n",
    "from tensorflow.keras.metrics import Mean\n",
    "from sklearn.metrics.pairwise import euclidean_distances as dist\n",
    "from models.distances import Weighted_Euclidean_Distance\n",
    "from models.metrics import loss_mse"
   ]
  },
  {
   "cell_type": "code",
   "execution_count": 3,
   "id": "33f87aff-98f6-4af5-8083-e0bea5caeaf0",
   "metadata": {
    "tags": []
   },
   "outputs": [],
   "source": [
    "class Distiller(keras.Model):\n",
    "    def __init__(self, student, teacher):\n",
    "        super().__init__()\n",
    "        self.teacher = teacher\n",
    "        self.student = student\n",
    "\n",
    "    def compile(\n",
    "        self,\n",
    "        optimizer,\n",
    "        metrics,\n",
    "        student_loss_fn,\n",
    "        distillation_loss_fn,\n",
    "        alpha=0.1,\n",
    "        temperature=3,\n",
    "    ):\n",
    "        \"\"\" Configure the distiller.\n",
    "\n",
    "        Args:\n",
    "            optimizer: Keras optimizer for the student weights\n",
    "            metrics: Keras metrics for evaluation\n",
    "            student_loss_fn: Loss function of difference between student\n",
    "                predictions and ground-truth\n",
    "            distillation_loss_fn: Loss function of difference between soft\n",
    "                student predictions and soft teacher predictions\n",
    "            alpha: weight to student_loss_fn and 1-alpha to distillation_loss_fn\n",
    "            temperature: Temperature for softening probability distributions.\n",
    "                Larger temperature gives softer distributions.\n",
    "        \"\"\"\n",
    "        super().compile(optimizer=optimizer, metrics=metrics)\n",
    "        self.student_loss_fn = student_loss_fn\n",
    "        self.distillation_loss_fn = distillation_loss_fn\n",
    "        self.alpha = alpha\n",
    "        self.temperature = temperature\n",
    "\n",
    "    def train_step(self, data):\n",
    "        # Unpack data\n",
    "        x, y = data\n",
    "\n",
    "        # Forward pass of teacher\n",
    "        teacher_predictions = self.teacher(x, training=False)\n",
    "\n",
    "        with tf.GradientTape() as tape:\n",
    "            # Forward pass of student\n",
    "            student_predictions = self.student(x, training=True)\n",
    "\n",
    "            # Compute losses\n",
    "            student_loss = self.student_loss_fn(y, student_predictions)\n",
    "\n",
    "            # Compute scaled distillation loss from https://arxiv.org/abs/1503.02531\n",
    "            # The magnitudes of the gradients produced by the soft targets scale\n",
    "            # as 1/T^2, multiply them by T^2 when using both hard and soft targets.\n",
    "            distillation_loss = (\n",
    "                self.distillation_loss_fn(\n",
    "                    tf.nn.softmax(teacher_predictions / self.temperature, axis=1),\n",
    "                    tf.nn.softmax(student_predictions / self.temperature, axis=1),\n",
    "                )\n",
    "                * self.temperature**2\n",
    "            )\n",
    "\n",
    "            loss = self.alpha * student_loss + (1 - self.alpha) * distillation_loss\n",
    "\n",
    "        # Compute gradients\n",
    "        trainable_vars = self.student.trainable_variables\n",
    "        gradients = tape.gradient(loss, trainable_vars)\n",
    "\n",
    "        # Update weights\n",
    "        self.optimizer.apply_gradients(zip(gradients, trainable_vars))\n",
    "\n",
    "        # Update the metrics configured in `compile()`.\n",
    "        self.compiled_metrics.update_state(y, student_predictions)\n",
    "\n",
    "        # Return a dict of performance\n",
    "        results = {m.name: m.result() for m in self.metrics}\n",
    "        results.update(\n",
    "            {\"student_loss\": student_loss, \"distillation_loss\": distillation_loss}\n",
    "        )\n",
    "        return results\n",
    "\n",
    "    def test_step(self, data):\n",
    "        # Unpack the data\n",
    "        [xs,xq], y = data\n",
    "\n",
    "        # Compute predictions\n",
    "        y_prediction = self.student([xs,xq], training=False)\n",
    "\n",
    "        # Calculate the loss\n",
    "        student_loss = self.student_loss_fn(y, y_prediction)\n",
    "\n",
    "        # Update the metrics.\n",
    "        self.compiled_metrics.update_state(y, y_prediction)\n",
    "\n",
    "        # Return a dict of performance\n",
    "        results = {m.name: m.result() for m in self.metrics}\n",
    "        results.update({\"student_loss\": student_loss})\n",
    "        return results"
   ]
  },
  {
   "cell_type": "code",
   "execution_count": 27,
   "id": "8736b499-d729-422c-8282-491606b0cc02",
   "metadata": {
    "tags": []
   },
   "outputs": [],
   "source": [
    "# This module generates encoders for feature extracting\n",
    "from tensorflow import keras\n",
    "from tensorflow.keras.layers import Input,Flatten,Dense,MaxPooling2D,Conv2D\n",
    "from tensorflow.keras.layers import BatchNormalization, Activation, Dropout\n",
    "from models.blocks import conv_block,dcp\n",
    "from models.distances import Weighted_Euclidean_Distance\n",
    "from models.stn import stn\n",
    "from tensorflow.keras.applications import DenseNet121\n",
    "from models.senet import Senet\n",
    "\n",
    "def create_densenet(input_shape = (64,64,3)):\n",
    "    inp = Input(input_shape)\n",
    "    \n",
    "    densnet = DenseNet121(\n",
    "        input_shape=input_shape,weights='imagenet',include_top=False)\n",
    "    dens_encoder = keras.Model(\n",
    "        inputs=densnet.inputs,\n",
    "        outputs=densnet.get_layer('conv3_block2_concat').output)\n",
    "    x = dens_encoder(inp)\n",
    "    x = Conv2D(\n",
    "        kernel_size=(1,1),filters=32,padding='same',\n",
    "        kernel_initializer='he_normal')(x)\n",
    "    x = conv_block(x,kernel_size=(3,3),n_filters=32,strides=(1,1))\n",
    "    x = MaxPooling2D(pool_size=(2,2),strides=(2,2))(x)\n",
    "    x = Flatten()(x)\n",
    "    x = Dense(units = 150,kernel_initializer=\"he_normal\")(x)\n",
    "    x = BatchNormalization(axis=-1)(x)\n",
    "    x = Activation('linear')(x)\n",
    "    return keras.Model(inp,x,name='encoder')\n",
    "\n",
    "def create_model(input_shape = (64,64,3)):\n",
    "    support = Input(input_shape)\n",
    "    query = Input(input_shape)\n",
    "    encoder = create_densenet(input_shape=input_shape)\n",
    "    encoder.summary()\n",
    "    support_features = encoder(support)\n",
    "    query_features = encoder(query)\n",
    "    dist = Weighted_Euclidean_Distance()([support_features,query_features])\n",
    "    out = Activation(\"softmax\")(dist)\n",
    "    return Senet(inputs = [support,query],outputs=out)\n"
   ]
  },
  {
   "cell_type": "code",
   "execution_count": 38,
   "id": "dbb70d22-3c46-46d4-9ce5-fadcb3743672",
   "metadata": {
    "tags": []
   },
   "outputs": [
    {
     "name": "stdout",
     "output_type": "stream",
     "text": [
      "Model: \"encoder\"\n",
      "_________________________________________________________________\n",
      " Layer (type)                Output Shape              Param #   \n",
      "=================================================================\n",
      " input_19 (InputLayer)       [(None, 64, 64, 3)]       0         \n",
      "                                                                 \n",
      " model_4 (Functional)        (None, 8, 8, 192)         494528    \n",
      "                                                                 \n",
      " conv2d_8 (Conv2D)           (None, 8, 8, 32)          6176      \n",
      "                                                                 \n",
      " conv2d_9 (Conv2D)           (None, 6, 6, 32)          9248      \n",
      "                                                                 \n",
      " batch_normalization_20 (Bat  (None, 6, 6, 32)         128       \n",
      " chNormalization)                                                \n",
      "                                                                 \n",
      " activation_24 (Activation)  (None, 6, 6, 32)          0         \n",
      "                                                                 \n",
      " max_pooling2d_4 (MaxPooling  (None, 3, 3, 32)         0         \n",
      " 2D)                                                             \n",
      "                                                                 \n",
      " flatten_4 (Flatten)         (None, 288)               0         \n",
      "                                                                 \n",
      " dense_4 (Dense)             (None, 150)               43350     \n",
      "                                                                 \n",
      " batch_normalization_21 (Bat  (None, 150)              600       \n",
      " chNormalization)                                                \n",
      "                                                                 \n",
      " activation_25 (Activation)  (None, 150)               0         \n",
      "                                                                 \n",
      "=================================================================\n",
      "Total params: 554,030\n",
      "Trainable params: 548,674\n",
      "Non-trainable params: 5,356\n",
      "_________________________________________________________________\n"
     ]
    }
   ],
   "source": [
    "student = create_model()"
   ]
  },
  {
   "cell_type": "code",
   "execution_count": 39,
   "id": "9db005e2-6142-4759-8e2f-acbaddad3f85",
   "metadata": {
    "tags": []
   },
   "outputs": [
    {
     "name": "stdout",
     "output_type": "stream",
     "text": [
      "Model: \"senet_4\"\n",
      "__________________________________________________________________________________________________\n",
      " Layer (type)                   Output Shape         Param #     Connected to                     \n",
      "==================================================================================================\n",
      " input_17 (InputLayer)          [(None, 64, 64, 3)]  0           []                               \n",
      "                                                                                                  \n",
      " input_18 (InputLayer)          [(None, 64, 64, 3)]  0           []                               \n",
      "                                                                                                  \n",
      " encoder (Functional)           (None, 150)          554030      ['input_17[0][0]',               \n",
      "                                                                  'input_18[0][0]']               \n",
      "                                                                                                  \n",
      " weighted__euclidean__distance_  (None, None)        1           ['encoder[0][0]',                \n",
      " 4 (Weighted_Euclidean_Distance                                   'encoder[1][0]']                \n",
      " )                                                                                                \n",
      "                                                                                                  \n",
      " activation_26 (Activation)     (None, None)         0           ['weighted__euclidean__distance_4\n",
      "                                                                 [0][0]']                         \n",
      "                                                                                                  \n",
      "==================================================================================================\n",
      "Total params: 554,031\n",
      "Trainable params: 548,675\n",
      "Non-trainable params: 5,356\n",
      "__________________________________________________________________________________________________\n"
     ]
    }
   ],
   "source": [
    "student.summary()"
   ]
  },
  {
   "cell_type": "code",
   "execution_count": 40,
   "id": "4de37cb9-a20f-49ff-851d-0fc12f428590",
   "metadata": {
    "tags": []
   },
   "outputs": [],
   "source": [
    "teacher = keras.models.load_model(\n",
    "    'model_files/best_models/densenet_gtsrb2tt100k_whole.h5',\n",
    "    custom_objects={'Weighted_Euclidean_Distance':Weighted_Euclidean_Distance,'BilinearInterpolation':BilinearInterpolation,'Localization':Localization,'Senet':Senet},compile=False)"
   ]
  },
  {
   "cell_type": "code",
   "execution_count": 41,
   "id": "10945ca9-9279-40d9-985b-a2ae3fe7f885",
   "metadata": {
    "tags": []
   },
   "outputs": [],
   "source": [
    "optimizer_fn = keras.optimizers.Adam(learning_rate=1e-4,epsilon=1.0e-8)\n",
    "teacher.compile(optimizer=optimizer_fn,loss_fn=loss_mse,metrics=CategoricalAccuracy(name = 'accuracy'))"
   ]
  },
  {
   "cell_type": "code",
   "execution_count": 42,
   "id": "d7b55673-de48-4afd-af21-eb899e345a04",
   "metadata": {
    "tags": []
   },
   "outputs": [],
   "source": [
    "student.compile(optimizer=optimizer_fn,loss_fn=loss_mse,metrics=CategoricalAccuracy(name = 'accuracy'))"
   ]
  },
  {
   "cell_type": "code",
   "execution_count": 43,
   "id": "0c7d9293-0509-40d8-8c3d-664d470fab88",
   "metadata": {
    "tags": []
   },
   "outputs": [
    {
     "name": "stdout",
     "output_type": "stream",
     "text": [
      "Model: \"senet\"\n",
      "__________________________________________________________________________________________________\n",
      " Layer (type)                   Output Shape         Param #     Connected to                     \n",
      "==================================================================================================\n",
      " input_1 (InputLayer)           [(None, 64, 64, 3)]  0           []                               \n",
      "                                                                                                  \n",
      " input_2 (InputLayer)           [(None, 64, 64, 3)]  0           []                               \n",
      "                                                                                                  \n",
      " encoder (Functional)           (None, 300)          1585680     ['input_1[0][0]',                \n",
      "                                                                  'input_2[0][0]']                \n",
      "                                                                                                  \n",
      " weighted__euclidean__distance   (None, None)        1           ['encoder[0][0]',                \n",
      " (Weighted_Euclidean_Distance)                                    'encoder[1][0]']                \n",
      "                                                                                                  \n",
      " activation_6 (Activation)      (None, None)         0           ['weighted__euclidean__distance[0\n",
      "                                                                 ][0]']                           \n",
      "                                                                                                  \n",
      "==================================================================================================\n",
      "Total params: 1,585,681\n",
      "Trainable params: 1,579,233\n",
      "Non-trainable params: 6,448\n",
      "__________________________________________________________________________________________________\n"
     ]
    }
   ],
   "source": [
    "teacher.summary()"
   ]
  },
  {
   "cell_type": "code",
   "execution_count": 44,
   "id": "7fc9e4a0-ceef-480a-9854-99f7e74ffb97",
   "metadata": {
    "tags": []
   },
   "outputs": [],
   "source": [
    "loader = get_loader('gtsrb2tt100k') \n",
    "train_gen,test_gen = loader.get_generator(batch=128,dim=64)"
   ]
  },
  {
   "cell_type": "code",
   "execution_count": 45,
   "id": "c9cca19a-ad68-4106-8475-d96ad3738751",
   "metadata": {
    "tags": []
   },
   "outputs": [],
   "source": [
    "distiller = Distiller(student=student, teacher=teacher)\n",
    "distiller.compile(\n",
    "    optimizer=optimizer_fn,\n",
    "    metrics=[keras.metrics.CategoricalAccuracy()],\n",
    "    student_loss_fn=loss_mse,\n",
    "    distillation_loss_fn=keras.losses.KLDivergence(),\n",
    "    alpha=0.1,\n",
    "    temperature=3,\n",
    ")"
   ]
  },
  {
   "cell_type": "code",
   "execution_count": 46,
   "id": "350f349d-091f-48b2-b2f3-cfb455694f16",
   "metadata": {},
   "outputs": [
    {
     "name": "stdout",
     "output_type": "stream",
     "text": [
      "====epoch1/10====\n",
      "306/306 [==============================] - 76s 224ms/step - categorical_accuracy: 0.6956 - student_loss: 0.0129 - distillation_loss: 0.0076\n",
      "test accuracy: 0.7112\n",
      "best test accuracy: 0.7112\n",
      "====epoch2/10====\n",
      "306/306 [==============================] - 68s 223ms/step - categorical_accuracy: 0.8961 - student_loss: 0.0043 - distillation_loss: 0.0025\n",
      "test accuracy: 0.7385\n",
      "best test accuracy: 0.7385\n",
      "====epoch3/10====\n",
      "306/306 [==============================] - 68s 222ms/step - categorical_accuracy: 0.9475 - student_loss: 0.0022 - distillation_loss: 0.0013\n",
      "test accuracy: 0.7447\n",
      "best test accuracy: 0.7447\n",
      "====epoch4/10====\n",
      "306/306 [==============================] - 68s 223ms/step - categorical_accuracy: 0.9675 - student_loss: 0.0013 - distillation_loss: 8.0843e-04\n",
      "test accuracy: 0.7382\n",
      "best test accuracy: 0.7447\n",
      "====epoch5/10====\n",
      "306/306 [==============================] - 67s 220ms/step - categorical_accuracy: 0.9782 - student_loss: 8.9309e-04 - distillation_loss: 5.5288e-04\n",
      "test accuracy: 0.7214\n",
      "best test accuracy: 0.7447\n",
      "====epoch6/10====\n",
      "306/306 [==============================] - 67s 218ms/step - categorical_accuracy: 0.9846 - student_loss: 6.2530e-04 - distillation_loss: 3.9807e-04\n",
      "test accuracy: 0.7245\n",
      "best test accuracy: 0.7447\n",
      "====epoch7/10====\n",
      "306/306 [==============================] - 59s 191ms/step - categorical_accuracy: 0.9859 - student_loss: 5.7970e-04 - distillation_loss: 3.7959e-04\n",
      "test accuracy: 0.7539\n",
      "best test accuracy: 0.7539\n",
      "====epoch8/10====\n",
      "306/306 [==============================] - 39s 128ms/step - categorical_accuracy: 0.9886 - student_loss: 4.8269e-04 - distillation_loss: 3.1576e-04\n",
      "test accuracy: 0.6993\n",
      "best test accuracy: 0.7539\n",
      "====epoch9/10====\n",
      "306/306 [==============================] - 39s 128ms/step - categorical_accuracy: 0.9898 - student_loss: 4.0229e-04 - distillation_loss: 2.7472e-04\n",
      "test accuracy: 0.7267\n",
      "best test accuracy: 0.7539\n",
      "====epoch10/10====\n",
      "306/306 [==============================] - 38s 125ms/step - categorical_accuracy: 0.9919 - student_loss: 3.3099e-04 - distillation_loss: 2.3354e-04\n",
      "test accuracy: 0.7260\n",
      "best test accuracy: 0.7539\n"
     ]
    }
   ],
   "source": [
    "best_test_acc = 0\n",
    "ep = 10\n",
    "for epoch in range(ep):\n",
    "    print(f'====epoch{epoch+1}/{ep}====')\n",
    "    distiller.fit(train_gen)\n",
    "    #train(\n",
    "        #model=senet,generator=train_datagen,\n",
    "        #optimizer=optimizer_fn)\n",
    "    #te_acc = test(model=senet,generator=test_datagen)\n",
    "    te_acc,_ = distiller.evaluate(test_gen, verbose=0)\n",
    "    if te_acc > best_test_acc:\n",
    "        best_test_acc = te_acc\n",
    "        student.save('best_student.h5')\n",
    "    print(f'test accuracy: {te_acc:.4f}')\n",
    "    print(f'best test accuracy: {best_test_acc:.4f}')"
   ]
  },
  {
   "cell_type": "code",
   "execution_count": 30,
   "id": "e304f24a-ed0e-485c-bf39-f0429eac20ab",
   "metadata": {
    "tags": []
   },
   "outputs": [
    {
     "name": "stdout",
     "output_type": "stream",
     "text": [
      "93/93 [==============================] - 10s 90ms/step - accuracy: 0.9349\n"
     ]
    },
    {
     "data": {
      "text/plain": [
       "0.9348958134651184"
      ]
     },
     "execution_count": 30,
     "metadata": {},
     "output_type": "execute_result"
    }
   ],
   "source": [
    "teacher.evaluate(test_gen)"
   ]
  },
  {
   "cell_type": "code",
   "execution_count": null,
   "id": "8f81602e-56e8-4bf1-90f2-43608094d7cf",
   "metadata": {},
   "outputs": [],
   "source": []
  }
 ],
 "metadata": {
  "kernelspec": {
   "display_name": "Python [conda env:tf] *",
   "language": "python",
   "name": "conda-env-tf-py"
  },
  "language_info": {
   "codemirror_mode": {
    "name": "ipython",
    "version": 3
   },
   "file_extension": ".py",
   "mimetype": "text/x-python",
   "name": "python",
   "nbconvert_exporter": "python",
   "pygments_lexer": "ipython3",
   "version": "3.10.10"
  }
 },
 "nbformat": 4,
 "nbformat_minor": 5
}
