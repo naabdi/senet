{
 "cells": [
  {
   "cell_type": "code",
   "execution_count": 1,
   "id": "9896df0a-fbf7-43fd-b195-37c8db785d7b",
   "metadata": {},
   "outputs": [],
   "source": [
    "import sys; sys.path.insert(0, '..')\n",
    "from tensorflow.keras.metrics import CategoricalAccuracy\n",
    "import tensorflow as tf\n",
    "from data_loader import get_loader\n",
    "from tensorflow import keras\n",
    "import matplotlib.pyplot as plt\n",
    "from tensorflow.keras.utils import to_categorical\n",
    "import numpy as np\n",
    "from models.distances import Euclidean_Distance\n",
    "from models.stn import BilinearInterpolation,Localization\n",
    "from sklearn.neighbors import KNeighborsClassifier\n",
    "from time import time"
   ]
  },
  {
   "cell_type": "code",
   "execution_count": 2,
   "id": "8dfb9e32-cbe1-491b-92d3-344cc4a673ef",
   "metadata": {},
   "outputs": [],
   "source": [
    "encoder = keras.models.load_model(\n",
    "    '../model_files/best_encoders/densenet_gtsrb2tt100k_encoder.h5',\n",
    "    custom_objects={'BilinearInterpolation':BilinearInterpolation,'Localization':Localization},compile=False)"
   ]
  },
  {
   "cell_type": "code",
   "execution_count": 3,
   "id": "fffe6ddb-b66c-47e8-9007-728e143bceec",
   "metadata": {},
   "outputs": [
    {
     "ename": "FileNotFoundError",
     "evalue": "[WinError 3] The system cannot find the path specified: 'D:\\\\MTPNet\\\\ipynb\\\\datasets/TT100K\\\\template\\\\all'",
     "output_type": "error",
     "traceback": [
      "\u001b[1;31m---------------------------------------------------------------------------\u001b[0m",
      "\u001b[1;31mFileNotFoundError\u001b[0m                         Traceback (most recent call last)",
      "Input \u001b[1;32mIn [3]\u001b[0m, in \u001b[0;36m<cell line: 2>\u001b[1;34m()\u001b[0m\n\u001b[0;32m      1\u001b[0m loader \u001b[38;5;241m=\u001b[39m get_loader(\u001b[38;5;124m'\u001b[39m\u001b[38;5;124mgtsrb2tt100k\u001b[39m\u001b[38;5;124m'\u001b[39m) \n\u001b[1;32m----> 2\u001b[0m test_generator \u001b[38;5;241m=\u001b[39m \u001b[43mloader\u001b[49m\u001b[38;5;241;43m.\u001b[39;49m\u001b[43mget_test_generator\u001b[49m\u001b[43m(\u001b[49m\u001b[43mbatch\u001b[49m\u001b[38;5;241;43m=\u001b[39;49m\u001b[38;5;241;43m8\u001b[39;49m\u001b[43m,\u001b[49m\u001b[43mdim\u001b[49m\u001b[38;5;241;43m=\u001b[39;49m\u001b[38;5;241;43m64\u001b[39;49m\u001b[43m)\u001b[49m\n",
      "File \u001b[1;32mD:\\MTPNet\\ipynb\\..\\data_loader\\gtsrb2tt100k.py:9\u001b[0m, in \u001b[0;36mget_test_generator\u001b[1;34m(batch, dim, n_way, data_type)\u001b[0m\n\u001b[0;32m      8\u001b[0m \u001b[38;5;28;01mdef\u001b[39;00m \u001b[38;5;21mget_test_generator\u001b[39m(batch\u001b[38;5;241m=\u001b[39m\u001b[38;5;241m128\u001b[39m,dim\u001b[38;5;241m=\u001b[39m\u001b[38;5;241m64\u001b[39m,n_way\u001b[38;5;241m=\u001b[39m\u001b[38;5;241m36\u001b[39m,data_type\u001b[38;5;241m=\u001b[39m\u001b[38;5;124m'\u001b[39m\u001b[38;5;124mall\u001b[39m\u001b[38;5;124m'\u001b[39m):\n\u001b[1;32m----> 9\u001b[0m     \u001b[38;5;28;01mreturn\u001b[39;00m \u001b[43mTT100K_Generator\u001b[49m\u001b[43m(\u001b[49m\u001b[43mn_way\u001b[49m\u001b[38;5;241;43m=\u001b[39;49m\u001b[43mn_way\u001b[49m\u001b[43m,\u001b[49m\u001b[43mk_shot\u001b[49m\u001b[38;5;241;43m=\u001b[39;49m\u001b[38;5;241;43m1\u001b[39;49m\u001b[43m,\u001b[49m\u001b[43mbatch\u001b[49m\u001b[38;5;241;43m=\u001b[39;49m\u001b[43mbatch\u001b[49m\u001b[43m,\u001b[49m\u001b[43mdata_type\u001b[49m\u001b[38;5;241;43m=\u001b[39;49m\u001b[43mdata_type\u001b[49m\u001b[43m,\u001b[49m\u001b[43mtarget_size\u001b[49m\u001b[38;5;241;43m=\u001b[39;49m\u001b[43m(\u001b[49m\u001b[43mdim\u001b[49m\u001b[43m,\u001b[49m\u001b[43mdim\u001b[49m\u001b[43m)\u001b[49m\u001b[43m)\u001b[49m\n",
      "File \u001b[1;32mD:\\MTPNet\\ipynb\\..\\data_loader\\batchgenerator.py:150\u001b[0m, in \u001b[0;36mTT100K_Generator.__init__\u001b[1;34m(self, n_way, k_shot, data_path, batch, data_type, augmentation, target_size)\u001b[0m\n\u001b[0;32m    146\u001b[0m     \u001b[38;5;28mself\u001b[39m\u001b[38;5;241m.\u001b[39msupport_path \u001b[38;5;241m=\u001b[39m os\u001b[38;5;241m.\u001b[39mpath\u001b[38;5;241m.\u001b[39mjoin(template_path,\u001b[38;5;124m\"\u001b[39m\u001b[38;5;124munseen\u001b[39m\u001b[38;5;124m\"\u001b[39m)\n\u001b[0;32m    147\u001b[0m     \u001b[38;5;28mself\u001b[39m\u001b[38;5;241m.\u001b[39mquery_path \u001b[38;5;241m=\u001b[39m os\u001b[38;5;241m.\u001b[39mpath\u001b[38;5;241m.\u001b[39mjoin(original_path,\u001b[38;5;124m\"\u001b[39m\u001b[38;5;124munseen\u001b[39m\u001b[38;5;124m\"\u001b[39m)\n\u001b[1;32m--> 150\u001b[0m \u001b[38;5;28mself\u001b[39m\u001b[38;5;241m.\u001b[39mclasses \u001b[38;5;241m=\u001b[39m np\u001b[38;5;241m.\u001b[39masarray(\u001b[43mos\u001b[49m\u001b[38;5;241;43m.\u001b[39;49m\u001b[43mlistdir\u001b[49m\u001b[43m(\u001b[49m\u001b[38;5;28;43mself\u001b[39;49m\u001b[38;5;241;43m.\u001b[39;49m\u001b[43msupport_path\u001b[49m\u001b[43m)\u001b[49m)\n\u001b[0;32m    151\u001b[0m \u001b[38;5;28mprint\u001b[39m(\u001b[38;5;124mf\u001b[39m\u001b[38;5;124m'\u001b[39m\u001b[38;5;124mLoading \u001b[39m\u001b[38;5;132;01m{\u001b[39;00m\u001b[38;5;28mself\u001b[39m\u001b[38;5;241m.\u001b[39mdata_type\u001b[38;5;132;01m}\u001b[39;00m\u001b[38;5;124m data from \u001b[39m\u001b[38;5;132;01m{\u001b[39;00m\u001b[38;5;28mself\u001b[39m\u001b[38;5;241m.\u001b[39mdata_path\u001b[38;5;132;01m}\u001b[39;00m\u001b[38;5;124m'\u001b[39m)\n\u001b[0;32m    152\u001b[0m Dq \u001b[38;5;241m=\u001b[39m []\n",
      "\u001b[1;31mFileNotFoundError\u001b[0m: [WinError 3] The system cannot find the path specified: 'D:\\\\MTPNet\\\\ipynb\\\\datasets/TT100K\\\\template\\\\all'"
     ]
    }
   ],
   "source": [
    "loader = get_loader('gtsrb2tt100k') \n",
    "test_generator = loader.get_test_generator(batch=8,dim=64)"
   ]
  },
  {
   "cell_type": "code",
   "execution_count": 6,
   "id": "ba03c6e8-8719-482a-8ceb-60ec2ded6d0a",
   "metadata": {},
   "outputs": [],
   "source": [
    "t = iter(test_generator)\n",
    "[Xs,Xq],y = next(t)\n",
    "Zs = encoder(Xs)"
   ]
  },
  {
   "cell_type": "code",
   "execution_count": 7,
   "id": "8e1f8e33-5b7f-4705-bed7-a4b89498944e",
   "metadata": {},
   "outputs": [],
   "source": [
    "knn = KNeighborsClassifier(n_neighbors=1,n_jobs=-1,metric='l2')"
   ]
  },
  {
   "cell_type": "code",
   "execution_count": 8,
   "id": "167b4287-7f8c-4564-9bba-92b8f8a4473a",
   "metadata": {},
   "outputs": [
    {
     "name": "stdout",
     "output_type": "stream",
     "text": [
      "1498/1498 [==============================] - 184s 122ms/step - test acc: 0.8068\n"
     ]
    }
   ],
   "source": [
    "acc = 0\n",
    "start = time()\n",
    "y_train = to_categorical(np.arange(36),num_classes=36)\n",
    "knn.fit(Zs,y_train);\n",
    "pb = tf.keras.utils.Progbar(len(test_generator),verbose=1)\n",
    "for i,z in enumerate(test_generator):\n",
    "    [Xs,Xq],y_test = z\n",
    "    Zq = encoder(Xq)\n",
    "    acc += knn.score(Zq,y_test)\n",
    "    values=[('test acc',(acc / (i+1)))]\n",
    "    pb.add(1,values=values)\n",
    "end = time() - start"
   ]
  },
  {
   "cell_type": "code",
   "execution_count": 9,
   "id": "3b3570e4-be38-4104-9ac5-30d4f3e91f91",
   "metadata": {},
   "outputs": [
    {
     "name": "stdout",
     "output_type": "stream",
     "text": [
      "One image KNN inference time is 0.0153s\n",
      "FPS is 65\n",
      "KNN accuracy is 80.82\n"
     ]
    }
   ],
   "source": [
    "time_per_image = end / (len(test_generator) * 8)\n",
    "fps = int(1/time_per_image)\n",
    "mean_accuracy = np.round((acc / len(test_generator))*100,2)\n",
    "print(f'One image KNN inference time is {time_per_image:.4f}s')\n",
    "print(f'FPS is {fps}')\n",
    "print(f'KNN accuracy is {mean_accuracy}')"
   ]
  },
  {
   "cell_type": "code",
   "execution_count": null,
   "id": "ce6cbfaf-f8e6-4541-9491-aa474b6ad72c",
   "metadata": {},
   "outputs": [],
   "source": []
  }
 ],
 "metadata": {
  "kernelspec": {
   "display_name": "tf-gpu",
   "language": "python",
   "name": "tf-gpu"
  },
  "language_info": {
   "codemirror_mode": {
    "name": "ipython",
    "version": 3
   },
   "file_extension": ".py",
   "mimetype": "text/x-python",
   "name": "python",
   "nbconvert_exporter": "python",
   "pygments_lexer": "ipython3",
   "version": "3.8.12"
  }
 },
 "nbformat": 4,
 "nbformat_minor": 5
}
