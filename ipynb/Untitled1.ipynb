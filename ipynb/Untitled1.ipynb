{
 "cells": [
  {
   "cell_type": "code",
   "execution_count": 1,
   "id": "afd8055c-04b4-4bb4-bd96-f2b4d062f97b",
   "metadata": {},
   "outputs": [],
   "source": [
    "from tensorflow import keras\n",
    "import tensorflow as tf\n",
    "from tensorflow import keras\n",
    "\n",
    "def conv_block(input_tensor,kernel_size,n_filters,strides,padding='valid'):\n",
    "    x = keras.layers.Conv2D(\n",
    "        kernel_size=kernel_size,\n",
    "        filters=n_filters,\n",
    "        padding=padding,strides=strides,\n",
    "        kernel_initializer='he_normal')(input_tensor)\n",
    "    x = keras.layers.BatchNormalization(axis=1)(x)\n",
    "    #x = keras.layers.LeakyReLU()(x)\n",
    "    x = keras.layers.Activation('relu')(x)\n",
    "    #x = keras.layers.Dropout(0.1)(x)\n",
    "    return x"
   ]
  },
  {
   "cell_type": "code",
   "execution_count": 2,
   "id": "fc5296ff-b29f-4421-aed0-8cf1f33f31ce",
   "metadata": {},
   "outputs": [],
   "source": [
    "def conv_block_di(input_tensor,kernel_size,n_filters,dilation_rate,padding='same'):\n",
    "    x = keras.layers.Conv2D(\n",
    "        kernel_size=kernel_size,\n",
    "        filters=n_filters,dilation_rate=dilation_rate,padding=padding)(input_tensor)\n",
    "    x = keras.layers.BatchNormalization(axis=1)(x)\n",
    "    #x = keras.layers.Activation('relu')(x)\n",
    "    #x = keras.layers.Dropout(0.1)(x)\n",
    "\n",
    "    #x = keras.layers.Conv2D(\n",
    "        #kernel_size=(1,1),\n",
    "        #filters=n_filters,\n",
    "        #padding='same',\n",
    "        #kernel_regularizer = keras.regularizers.L2(5e-4),\n",
    "        #bias_regularizer=keras.regularizers.L2(5e-4))(input_tensor)\n",
    "    #x = keras.layers.BatchNormalization(axis=1)(x)\n",
    "\n",
    "    return keras.layers.Activation('relu')(x)"
   ]
  },
  {
   "cell_type": "code",
   "execution_count": 4,
   "id": "283c3834-d625-4ee5-a25e-2016f1f67979",
   "metadata": {},
   "outputs": [],
   "source": [
    "def multiscale_block(input_tensor,n_filters,kernel_size=None):\n",
    "    tow1 = conv_block(input_tensor=input_tensor,kernel_size=kernel_size,strides=(1,1),n_filters=n_filters)\n",
    "    print('**********************')\n",
    "    print(tow1.shape)\n",
    "    tow2 = conv_block(input_tensor=input_tensor,kernel_size=kernel_size,strides=(1,1),n_filters=n_filters)\n",
    "    tow2 = conv_block_di(input_tensor=tow2,kernel_size=kernel_size,dilation_rate=(3,3),n_filters=n_filters)\n",
    "    tow2 = conv_block(input_tensor=tow2,kernel_size=(1,1),strides=(1,1),n_filters=n_filters)\n",
    "    print(tow2.shape)\n",
    "    tow3 = conv_block(input_tensor=input_tensor,kernel_size=kernel_size,strides=(1,1),n_filters=n_filters)\n",
    "    tow3 = conv_block_di(input_tensor=tow3,kernel_size=kernel_size,dilation_rate=(3,3),n_filters=n_filters)\n",
    "    tow3 = conv_block_di(input_tensor=tow3,kernel_size=kernel_size,dilation_rate=(5,5),n_filters=n_filters)\n",
    "    tow3 = conv_block(input_tensor=tow3,kernel_size=(1,1),strides=(1,1),n_filters=n_filters)\n",
    "    print(tow3.shape)\n",
    "    x = keras.layers.Add()([tow1,tow2,tow3])\n",
    "    x = keras.layers.BatchNormalization(axis=1)(x)\n",
    "    x = keras.layers.Activation('relu')(x)\n",
    "    return x"
   ]
  },
  {
   "cell_type": "code",
   "execution_count": 5,
   "id": "68608063-b1e2-4c5e-9e94-b2912364580c",
   "metadata": {},
   "outputs": [],
   "source": [
    "a = tf.ones((32,8,8,160))"
   ]
  },
  {
   "cell_type": "code",
   "execution_count": 11,
   "id": "3d2775f8-9fb5-4a51-ab01-dd6ae6f51a0d",
   "metadata": {},
   "outputs": [
    {
     "name": "stdout",
     "output_type": "stream",
     "text": [
      "**********************\n",
      "(32, 4, 4, 160)\n",
      "(32, 4, 4, 160)\n",
      "(32, 4, 4, 160)\n"
     ]
    }
   ],
   "source": [
    "z = multiscale_block(a,160,kernel_size=(5,5))"
   ]
  },
  {
   "cell_type": "code",
   "execution_count": 12,
   "id": "a3a96a60-988c-4e59-9eaa-b096448cc520",
   "metadata": {},
   "outputs": [],
   "source": [
    "x = keras.layers.MaxPooling2D(pool_size=(2,2),strides=(2,2))(z)"
   ]
  },
  {
   "cell_type": "code",
   "execution_count": null,
   "id": "42c2f765-a66c-449f-b00a-bc90320c4d93",
   "metadata": {},
   "outputs": [],
   "source": []
  }
 ],
 "metadata": {
  "kernelspec": {
   "display_name": "tf-gpu",
   "language": "python",
   "name": "tf-gpu"
  },
  "language_info": {
   "codemirror_mode": {
    "name": "ipython",
    "version": 3
   },
   "file_extension": ".py",
   "mimetype": "text/x-python",
   "name": "python",
   "nbconvert_exporter": "python",
   "pygments_lexer": "ipython3",
   "version": "3.8.12"
  }
 },
 "nbformat": 4,
 "nbformat_minor": 5
}
