{
 "cells": [
  {
   "cell_type": "code",
   "execution_count": 1,
   "id": "9896df0a-fbf7-43fd-b195-37c8db785d7b",
   "metadata": {},
   "outputs": [
    {
     "ename": "ImportError",
     "evalue": "cannot import name 'stn2' from 'models.stn2' (D:\\MTPNet\\models\\stn2.py)",
     "output_type": "error",
     "traceback": [
      "\u001b[1;31m---------------------------------------------------------------------------\u001b[0m",
      "\u001b[1;31mImportError\u001b[0m                               Traceback (most recent call last)",
      "Input \u001b[1;32mIn [1]\u001b[0m, in \u001b[0;36m<cell line: 5>\u001b[1;34m()\u001b[0m\n\u001b[0;32m      3\u001b[0m \u001b[38;5;66;03m#from data_loader.generators import BELGA_Generator,TOPLOGO10_Generator,GTSRB_Generator,TT100K_Generator,PERSIAN_Generator\u001b[39;00m\n\u001b[0;32m      4\u001b[0m \u001b[38;5;28;01mimport\u001b[39;00m \u001b[38;5;21;01mtime\u001b[39;00m\n\u001b[1;32m----> 5\u001b[0m \u001b[38;5;28;01mfrom\u001b[39;00m \u001b[38;5;21;01mmodels\u001b[39;00m\u001b[38;5;21;01m.\u001b[39;00m\u001b[38;5;21;01mmakemodels\u001b[39;00m \u001b[38;5;28;01mimport\u001b[39;00m make_proto_model\n\u001b[0;32m      6\u001b[0m \u001b[38;5;28;01mfrom\u001b[39;00m \u001b[38;5;21;01mutils\u001b[39;00m \u001b[38;5;28;01mimport\u001b[39;00m load_config\n\u001b[0;32m      7\u001b[0m \u001b[38;5;28;01mfrom\u001b[39;00m \u001b[38;5;21;01mmodels\u001b[39;00m\u001b[38;5;21;01m.\u001b[39;00m\u001b[38;5;21;01mlosses\u001b[39;00m \u001b[38;5;28;01mimport\u001b[39;00m loss_mse\n",
      "File \u001b[1;32mD:\\MTPNet\\models\\makemodels.py:1\u001b[0m, in \u001b[0;36m<module>\u001b[1;34m\u001b[0m\n\u001b[1;32m----> 1\u001b[0m \u001b[38;5;28;01mfrom\u001b[39;00m \u001b[38;5;21;01mmodels\u001b[39;00m \u001b[38;5;28;01mimport\u001b[39;00m resnet,densenet,conv3b,mobilenet,vggnet,resnet12,densenet2\n\u001b[0;32m      2\u001b[0m \u001b[38;5;28;01mfrom\u001b[39;00m \u001b[38;5;21;01mtensorflow\u001b[39;00m \u001b[38;5;28;01mimport\u001b[39;00m keras\n\u001b[0;32m      3\u001b[0m \u001b[38;5;28;01mdef\u001b[39;00m \u001b[38;5;21mmake_proto_model\u001b[39m(backbone,input_shape):\n",
      "File \u001b[1;32mD:\\MTPNet\\models\\densenet2.py:9\u001b[0m, in \u001b[0;36m<module>\u001b[1;34m\u001b[0m\n\u001b[0;32m      7\u001b[0m \u001b[38;5;28;01mfrom\u001b[39;00m \u001b[38;5;21;01m.\u001b[39;00m\u001b[38;5;21;01mblocks\u001b[39;00m \u001b[38;5;28;01mimport\u001b[39;00m conv_block,dcp\n\u001b[0;32m      8\u001b[0m \u001b[38;5;28;01mfrom\u001b[39;00m \u001b[38;5;21;01m.\u001b[39;00m\u001b[38;5;21;01mdistances\u001b[39;00m \u001b[38;5;28;01mimport\u001b[39;00m Euclidean_Distance\n\u001b[1;32m----> 9\u001b[0m \u001b[38;5;28;01mfrom\u001b[39;00m \u001b[38;5;21;01m.\u001b[39;00m\u001b[38;5;21;01mstn2\u001b[39;00m \u001b[38;5;28;01mimport\u001b[39;00m stn2\n\u001b[0;32m     11\u001b[0m \u001b[38;5;28;01mfrom\u001b[39;00m \u001b[38;5;21;01mtensorflow\u001b[39;00m\u001b[38;5;21;01m.\u001b[39;00m\u001b[38;5;21;01mkeras\u001b[39;00m\u001b[38;5;21;01m.\u001b[39;00m\u001b[38;5;21;01mapplications\u001b[39;00m \u001b[38;5;28;01mimport\u001b[39;00m DenseNet121\n\u001b[0;32m     13\u001b[0m \u001b[38;5;28;01mdef\u001b[39;00m \u001b[38;5;21mcreate_densenet\u001b[39m(input_shape \u001b[38;5;241m=\u001b[39m (\u001b[38;5;241m64\u001b[39m,\u001b[38;5;241m64\u001b[39m,\u001b[38;5;241m3\u001b[39m)):\n",
      "\u001b[1;31mImportError\u001b[0m: cannot import name 'stn2' from 'models.stn2' (D:\\MTPNet\\models\\stn2.py)"
     ]
    }
   ],
   "source": [
    "from tensorflow.keras.metrics import CategoricalAccuracy\n",
    "from data_loader.batchgenerator import GTSRB_Generator,TT100K_Generator,FLICKR32_Generator\n",
    "#from data_loader.generators import BELGA_Generator,TOPLOGO10_Generator,GTSRB_Generator,TT100K_Generator,PERSIAN_Generator\n",
    "import time\n",
    "from models.makemodels import make_proto_model\n",
    "from utils import load_config\n",
    "from models.losses import loss_mse\n",
    "import tensorflow as tf\n",
    "from data_loader import get_loader\n",
    "from tensorflow import keras\n",
    "import matplotlib.pyplot as plt\n",
    "from tensorflow.keras.utils import to_categorical\n",
    "import numpy as np\n",
    "from models import resnet12"
   ]
  },
  {
   "cell_type": "code",
   "execution_count": 2,
   "id": "e79de100-8e7e-41ca-84bc-c3bc085996a3",
   "metadata": {},
   "outputs": [],
   "source": [
    "clf = make_proto_model(backbone='resnet12',input_shape=(64,64,3))"
   ]
  },
  {
   "cell_type": "code",
   "execution_count": 10,
   "id": "9dda6bc5-687f-442b-9f57-77fbbf89feed",
   "metadata": {},
   "outputs": [],
   "source": [
    "from models.blocks import res_block,conv_block,dcp\n",
    "from models.stn import stn\n",
    "from models.distances import Euclidean_Distance\n",
    "from tensorflow import keras"
   ]
  },
  {
   "cell_type": "code",
   "execution_count": 11,
   "id": "3a24d377-ceff-43fd-9da7-cb38cc80065e",
   "metadata": {},
   "outputs": [],
   "source": [
    "def create_resnet(input_shape = (64,64,3)):\n",
    "    H,W,C = input_shape\n",
    "    inp = keras.layers.Input([H,W,C])\n",
    "    resnet = resnet12.create_resnet12(input_shape=input_shape)\n",
    "    resnet.load_weights('model_files/pretrained_weights/resnet12_enc_tiered.h5')\n",
    "    res_encoder = keras.Model(inputs=resnet.inputs,outputs=resnet.get_layer('maxpool_stage_2').output,name='backbone')\n",
    "    x = res_encoder(inp)\n",
    "    x = keras.layers.Conv2D(\n",
    "        kernel_size=(1,1),filters=100,padding='same',kernel_initializer='he_normal')(x)\n",
    "    x = stn(x,filters=[100,100,100])\n",
    "    x = conv_block(x,kernel_size=(5,5),n_filters=100,strides=(1,1))\n",
    "    x = dcp(x,n_filters=100,kernel_size=(3,3))\n",
    "    x = keras.layers.MaxPooling2D(pool_size=(2,2),strides=(2,2))(x)\n",
    "    x = keras.layers.Flatten()(x)\n",
    "    x = keras.layers.Dense(units=300,activation='linear',kernel_initializer=\"he_normal\")(x)\n",
    "    return keras.Model(inp,x,name='encoder')"
   ]
  },
  {
   "cell_type": "code",
   "execution_count": 12,
   "id": "40c9d520-28d2-4ee5-9af1-0b4fb601f327",
   "metadata": {},
   "outputs": [],
   "source": [
    "clf = create_resnet()"
   ]
  },
  {
   "cell_type": "code",
   "execution_count": null,
   "id": "0b2ebc40-3931-4e4b-823c-0657b6220659",
   "metadata": {},
   "outputs": [
    {
     "name": "stdout",
     "output_type": "stream",
     "text": [
      "WARNING:tensorflow:Compiled the loaded model, but the compiled metrics have yet to be built. `model.compile_metrics` will be empty until you train or evaluate the model.\n"
     ]
    },
    {
     "name": "stderr",
     "output_type": "stream",
     "text": [
      "WARNING:tensorflow:Compiled the loaded model, but the compiled metrics have yet to be built. `model.compile_metrics` will be empty until you train or evaluate the model.\n"
     ]
    },
    {
     "name": "stdout",
     "output_type": "stream",
     "text": [
      "INFO:tensorflow:Assets written to: ram://f531a9c2-f489-468d-ac29-3102906be6e7/assets\n"
     ]
    },
    {
     "name": "stderr",
     "output_type": "stream",
     "text": [
      "INFO:tensorflow:Assets written to: ram://f531a9c2-f489-468d-ac29-3102906be6e7/assets\n"
     ]
    }
   ],
   "source": [
    "import joblib\n",
    "joblib.dump(clf, 'cl.h5')  # Save\n"
   ]
  },
  {
   "cell_type": "code",
   "execution_count": null,
   "id": "45edac58-1c7d-4819-a3ab-cec8a9b9cdff",
   "metadata": {},
   "outputs": [],
   "source": [
    "model = joblib.load('cl.h5') # Load"
   ]
  },
  {
   "cell_type": "code",
   "execution_count": null,
   "id": "8be65167-d5a6-4a0e-9f3f-15066ee12834",
   "metadata": {},
   "outputs": [],
   "source": []
  },
  {
   "cell_type": "code",
   "execution_count": null,
   "id": "75bb79c2-1f94-4165-aed3-b166394e2832",
   "metadata": {},
   "outputs": [],
   "source": []
  },
  {
   "cell_type": "code",
   "execution_count": 13,
   "id": "3db4a30d-78b3-4dc7-ba18-d8378a56ee43",
   "metadata": {},
   "outputs": [
    {
     "name": "stdout",
     "output_type": "stream",
     "text": [
      "WARNING:tensorflow:Compiled the loaded model, but the compiled metrics have yet to be built. `model.compile_metrics` will be empty until you train or evaluate the model.\n"
     ]
    }
   ],
   "source": [
    "clf.save('clf.h5')"
   ]
  },
  {
   "cell_type": "code",
   "execution_count": 36,
   "id": "a13f1330-25a1-4e65-94dc-46f130159465",
   "metadata": {},
   "outputs": [
    {
     "ename": "IndexError",
     "evalue": "list index out of range",
     "output_type": "error",
     "traceback": [
      "\u001b[1;31m---------------------------------------------------------------------------\u001b[0m",
      "\u001b[1;31mIndexError\u001b[0m                                Traceback (most recent call last)",
      "Input \u001b[1;32mIn [36]\u001b[0m, in \u001b[0;36m<cell line: 1>\u001b[1;34m()\u001b[0m\n\u001b[1;32m----> 1\u001b[0m \u001b[43mkeras\u001b[49m\u001b[38;5;241;43m.\u001b[39;49m\u001b[43mmodels\u001b[49m\u001b[38;5;241;43m.\u001b[39;49m\u001b[43mload_model\u001b[49m\u001b[43m(\u001b[49m\u001b[38;5;124;43m'\u001b[39;49m\u001b[38;5;124;43mclf.h5\u001b[39;49m\u001b[38;5;124;43m'\u001b[39;49m\u001b[43m,\u001b[49m\u001b[38;5;28;43mcompile\u001b[39;49m\u001b[38;5;241;43m=\u001b[39;49m\u001b[38;5;28;43;01mFalse\u001b[39;49;00m\u001b[43m)\u001b[49m\n",
      "File \u001b[1;32mC:\\ProgramData\\Anaconda3\\envs\\tf-gpu\\lib\\site-packages\\keras\\utils\\traceback_utils.py:67\u001b[0m, in \u001b[0;36mfilter_traceback.<locals>.error_handler\u001b[1;34m(*args, **kwargs)\u001b[0m\n\u001b[0;32m     65\u001b[0m \u001b[38;5;28;01mexcept\u001b[39;00m \u001b[38;5;167;01mException\u001b[39;00m \u001b[38;5;28;01mas\u001b[39;00m e:  \u001b[38;5;66;03m# pylint: disable=broad-except\u001b[39;00m\n\u001b[0;32m     66\u001b[0m   filtered_tb \u001b[38;5;241m=\u001b[39m _process_traceback_frames(e\u001b[38;5;241m.\u001b[39m__traceback__)\n\u001b[1;32m---> 67\u001b[0m   \u001b[38;5;28;01mraise\u001b[39;00m e\u001b[38;5;241m.\u001b[39mwith_traceback(filtered_tb) \u001b[38;5;28;01mfrom\u001b[39;00m \u001b[38;5;28mNone\u001b[39m\n\u001b[0;32m     68\u001b[0m \u001b[38;5;28;01mfinally\u001b[39;00m:\n\u001b[0;32m     69\u001b[0m   \u001b[38;5;28;01mdel\u001b[39;00m filtered_tb\n",
      "File \u001b[1;32mC:\\ProgramData\\Anaconda3\\envs\\tf-gpu\\lib\\site-packages\\keras\\engine\\functional.py:1271\u001b[0m, in \u001b[0;36mreconstruct_from_config.<locals>.process_node\u001b[1;34m(layer, node_data)\u001b[0m\n\u001b[0;32m   1268\u001b[0m     \u001b[38;5;28;01mreturn\u001b[39;00m \u001b[38;5;28;01mFalse\u001b[39;00m\n\u001b[0;32m   1269\u001b[0m   inbound_node \u001b[38;5;241m=\u001b[39m inbound_layer\u001b[38;5;241m.\u001b[39m_inbound_nodes[inbound_node_index]\n\u001b[0;32m   1270\u001b[0m   input_tensors\u001b[38;5;241m.\u001b[39mappend(\n\u001b[1;32m-> 1271\u001b[0m       \u001b[43mtf\u001b[49m\u001b[38;5;241;43m.\u001b[39;49m\u001b[43mnest\u001b[49m\u001b[38;5;241;43m.\u001b[39;49m\u001b[43mflatten\u001b[49m\u001b[43m(\u001b[49m\u001b[43minbound_node\u001b[49m\u001b[38;5;241;43m.\u001b[39;49m\u001b[43moutputs\u001b[49m\u001b[43m)\u001b[49m\u001b[43m[\u001b[49m\u001b[43minbound_tensor_index\u001b[49m\u001b[43m]\u001b[49m)\n\u001b[0;32m   1272\u001b[0m \u001b[38;5;28;01melse\u001b[39;00m:\n\u001b[0;32m   1273\u001b[0m   \u001b[38;5;66;03m# We received a constant w/ no Keras history attached\u001b[39;00m\n\u001b[0;32m   1274\u001b[0m   input_tensors\u001b[38;5;241m.\u001b[39mappend(inbound_tensor_index)\n",
      "\u001b[1;31mIndexError\u001b[0m: list index out of range"
     ]
    }
   ],
   "source": [
    "keras.models.load_model('clf.h5',compile=False)"
   ]
  },
  {
   "cell_type": "code",
   "execution_count": 18,
   "id": "3f00ab39-bc20-4dee-9e4e-10ec8c20fff6",
   "metadata": {},
   "outputs": [],
   "source": [
    "cl2 = tf.saved_model.load('clf')"
   ]
  },
  {
   "cell_type": "code",
   "execution_count": 24,
   "id": "7c1669df-9a27-4978-9072-9a8fc7c87183",
   "metadata": {},
   "outputs": [],
   "source": [
    "infer = cl2.signatures[\"serving_default\"]"
   ]
  },
  {
   "cell_type": "code",
   "execution_count": 27,
   "id": "de960553-bfb9-4d1b-968f-2ffe09047730",
   "metadata": {},
   "outputs": [],
   "source": [
    "X = tf.ones((128,64,64,3))"
   ]
  },
  {
   "cell_type": "code",
   "execution_count": 32,
   "id": "91e351aa-b7ec-43d0-adcc-aba22aa474b7",
   "metadata": {},
   "outputs": [
    {
     "name": "stdout",
     "output_type": "stream",
     "text": [
      "INFO:tensorflow:Assets written to: C:\\Users\\Nariman\\AppData\\Local\\Temp\\tmpox_07vuf\\assets\n"
     ]
    }
   ],
   "source": [
    "converter = tf.lite.TFLiteConverter.from_keras_model(clf)\n",
    "tflite_model = converter.convert()"
   ]
  },
  {
   "cell_type": "code",
   "execution_count": 34,
   "id": "e52525ad-715b-4894-aeae-f31576be41de",
   "metadata": {},
   "outputs": [
    {
     "ename": "TypeError",
     "evalue": "'bytes' object is not callable",
     "output_type": "error",
     "traceback": [
      "\u001b[1;31m---------------------------------------------------------------------------\u001b[0m",
      "\u001b[1;31mTypeError\u001b[0m                                 Traceback (most recent call last)",
      "Input \u001b[1;32mIn [34]\u001b[0m, in \u001b[0;36m<cell line: 1>\u001b[1;34m()\u001b[0m\n\u001b[1;32m----> 1\u001b[0m \u001b[43mtflite_model\u001b[49m\u001b[43m(\u001b[49m\u001b[43mX\u001b[49m\u001b[43m)\u001b[49m\n",
      "\u001b[1;31mTypeError\u001b[0m: 'bytes' object is not callable"
     ]
    }
   ],
   "source": [
    "tflite_model(X)"
   ]
  },
  {
   "cell_type": "code",
   "execution_count": 44,
   "id": "d42ec0ba-cabd-481a-b304-1aaba1581c37",
   "metadata": {},
   "outputs": [],
   "source": [
    "clf.load_weights('model_files/best_densenet_gtsrb2tt100k_14011024.h5')"
   ]
  },
  {
   "cell_type": "code",
   "execution_count": 45,
   "id": "eb818c0b-97b5-4f42-9703-a1207783beaa",
   "metadata": {},
   "outputs": [
    {
     "data": {
      "text/plain": [
       "<KerasTensor: shape=(None, 300) dtype=float32 (created by layer 'dense_5')>"
      ]
     },
     "execution_count": 45,
     "metadata": {},
     "output_type": "execute_result"
    }
   ],
   "source": [
    "clf.get_layer('encoder').output"
   ]
  },
  {
   "cell_type": "code",
   "execution_count": 46,
   "id": "6d215cab-ead3-4946-9250-7279b6a2b115",
   "metadata": {},
   "outputs": [],
   "source": [
    "inp = keras.layers.Input((64,64,3))\n",
    "enc = keras.Model(inputs=clf.get_layer('encoder').input,outputs=clf.get_layer('encoder').output)"
   ]
  },
  {
   "cell_type": "code",
   "execution_count": 9,
   "id": "aee275c7-36b8-436f-80a2-77c7525b608f",
   "metadata": {},
   "outputs": [],
   "source": [
    "x = tf.ones((64,64,3))"
   ]
  },
  {
   "cell_type": "code",
   "execution_count": 47,
   "id": "d19dfda8-c3dc-48f8-9a4b-fe3878d6134a",
   "metadata": {},
   "outputs": [
    {
     "name": "stdout",
     "output_type": "stream",
     "text": [
      "Loading all data\n"
     ]
    }
   ],
   "source": [
    "loader = get_loader('gtsrb2tt100k') \n",
    "test_generator = loader.get_test_generator(batch=128,dim=64,type='tt100k')"
   ]
  },
  {
   "cell_type": "code",
   "execution_count": 48,
   "id": "84bfd3e4-d12d-4143-9fe0-1636e1bbe3b1",
   "metadata": {},
   "outputs": [],
   "source": [
    "t = iter(test_generator)"
   ]
  },
  {
   "cell_type": "code",
   "execution_count": 67,
   "id": "e51bd03c-8321-48d8-82da-2ad09b9df5f9",
   "metadata": {},
   "outputs": [],
   "source": [
    "[Xs,Xq],y = next(t)"
   ]
  },
  {
   "cell_type": "code",
   "execution_count": 50,
   "id": "32b8aba4-d4a6-474a-a64c-3bf2af48735c",
   "metadata": {},
   "outputs": [
    {
     "data": {
      "text/plain": [
       "TensorShape([36, 300])"
      ]
     },
     "execution_count": 50,
     "metadata": {},
     "output_type": "execute_result"
    }
   ],
   "source": [
    "Zs = enc(Xs)\n",
    "Zs.shape"
   ]
  },
  {
   "cell_type": "code",
   "execution_count": 68,
   "id": "bf06e6bd-ab79-4a97-b77d-eac3fdc321a1",
   "metadata": {},
   "outputs": [
    {
     "data": {
      "text/plain": [
       "TensorShape([128, 300])"
      ]
     },
     "execution_count": 68,
     "metadata": {},
     "output_type": "execute_result"
    }
   ],
   "source": [
    "Zq = enc(Xq)\n",
    "Zq.shape"
   ]
  },
  {
   "cell_type": "code",
   "execution_count": 26,
   "id": "fce83b42-e29c-4384-84f1-3983b23340f8",
   "metadata": {},
   "outputs": [
    {
     "data": {
      "text/plain": [
       "<matplotlib.image.AxesImage at 0x17baf233dc0>"
      ]
     },
     "execution_count": 26,
     "metadata": {},
     "output_type": "execute_result"
    },
    {
     "data": {
      "image/png": "[encoded data removed]",
      "text/plain": [
       "<Figure size 432x288 with 1 Axes>"
      ]
     },
     "metadata": {
      "needs_background": "light"
     },
     "output_type": "display_data"
    }
   ],
   "source": [
    "plt.imshow(Xs[0]/255)"
   ]
  },
  {
   "cell_type": "code",
   "execution_count": 52,
   "id": "afecf598-fd47-4763-a8f0-9c8c43ef21a5",
   "metadata": {},
   "outputs": [],
   "source": [
    "y_train = to_categorical(np.arange(36),num_classes=36)"
   ]
  },
  {
   "cell_type": "code",
   "execution_count": 53,
   "id": "48558608-9f24-414d-ba3f-fc95715a9b91",
   "metadata": {},
   "outputs": [],
   "source": [
    "from sklearn.neighbors import KNeighborsClassifier"
   ]
  },
  {
   "cell_type": "code",
   "execution_count": 91,
   "id": "4561f61b-fe72-4b2f-b5d7-fa744eba41b0",
   "metadata": {},
   "outputs": [],
   "source": [
    "knn = KNeighborsClassifier(n_neighbors=1,n_jobs=-1,metric='l2')"
   ]
  },
  {
   "cell_type": "code",
   "execution_count": 92,
   "id": "f3f81ae8-ed46-4700-a7d0-6789b6559c43",
   "metadata": {},
   "outputs": [],
   "source": [
    "knn.fit(Zs,y_train);"
   ]
  },
  {
   "cell_type": "code",
   "execution_count": 93,
   "id": "8647eb7e-7353-49a1-9aa0-76005aa57b38",
   "metadata": {},
   "outputs": [
    {
     "data": {
      "text/plain": [
       "0.796875"
      ]
     },
     "execution_count": 93,
     "metadata": {},
     "output_type": "execute_result"
    }
   ],
   "source": [
    "knn.score(Zq,y_test)"
   ]
  },
  {
   "cell_type": "code",
   "execution_count": 71,
   "id": "5264c383-0b1f-4e92-9403-01a98f0c8a8a",
   "metadata": {},
   "outputs": [],
   "source": [
    "from tqdm import tqdm"
   ]
  },
  {
   "cell_type": "code",
   "execution_count": 94,
   "id": "dee9d946-1322-453c-8f25-8e165a426f25",
   "metadata": {},
   "outputs": [
    {
     "name": "stderr",
     "output_type": "stream",
     "text": [
      "100%|███████████████████████████████████████████████████████████████████████████████████████████████████████████| 93/93 [00:27<00:00,  3.40it/s]\n"
     ]
    },
    {
     "data": {
      "text/plain": [
       "0.8197244623655914"
      ]
     },
     "execution_count": 94,
     "metadata": {},
     "output_type": "execute_result"
    }
   ],
   "source": [
    "acc = 0\n",
    "y_train = to_categorical(np.arange(36),num_classes=36)\n",
    "for z in tqdm(test_generator):\n",
    "    [Xs,Xq],y_test = z\n",
    "    Zq = enc(Xq)\n",
    "    acc += knn.score(Zq,y_test)\n",
    "acc / len(test_generator)"
   ]
  },
  {
   "cell_type": "code",
   "execution_count": 59,
   "id": "8fd3e7f4-4da5-400e-8bb7-fbfb23fafef8",
   "metadata": {},
   "outputs": [
    {
     "data": {
      "text/plain": [
       "93"
      ]
     },
     "execution_count": 59,
     "metadata": {},
     "output_type": "execute_result"
    }
   ],
   "source": [
    "len(test_generator)"
   ]
  },
  {
   "cell_type": "code",
   "execution_count": 95,
   "id": "62c620bf-058a-4ada-b9a0-d1a348b39183",
   "metadata": {},
   "outputs": [
    {
     "name": "stdout",
     "output_type": "stream",
     "text": [
      "WARNING:tensorflow:Compiled the loaded model, but the compiled metrics have yet to be built. `model.compile_metrics` will be empty until you train or evaluate the model.\n"
     ]
    }
   ],
   "source": [
    "enc.save('encoder.h5')"
   ]
  },
  {
   "cell_type": "code",
   "execution_count": 96,
   "id": "e81b5a86-55f0-4ab0-b8ed-2a4c8ce26c22",
   "metadata": {},
   "outputs": [
    {
     "ename": "IndexError",
     "evalue": "list index out of range",
     "output_type": "error",
     "traceback": [
      "\u001b[1;31m---------------------------------------------------------------------------\u001b[0m",
      "\u001b[1;31mIndexError\u001b[0m                                Traceback (most recent call last)",
      "Input \u001b[1;32mIn [96]\u001b[0m, in \u001b[0;36m<cell line: 1>\u001b[1;34m()\u001b[0m\n\u001b[1;32m----> 1\u001b[0m fe \u001b[38;5;241m=\u001b[39m \u001b[43mkeras\u001b[49m\u001b[38;5;241;43m.\u001b[39;49m\u001b[43mmodels\u001b[49m\u001b[38;5;241;43m.\u001b[39;49m\u001b[43mload_model\u001b[49m\u001b[43m(\u001b[49m\u001b[38;5;124;43m'\u001b[39;49m\u001b[38;5;124;43mencoder.h5\u001b[39;49m\u001b[38;5;124;43m'\u001b[39;49m\u001b[43m)\u001b[49m\n",
      "File \u001b[1;32mC:\\ProgramData\\Anaconda3\\envs\\tf-gpu\\lib\\site-packages\\keras\\utils\\traceback_utils.py:67\u001b[0m, in \u001b[0;36mfilter_traceback.<locals>.error_handler\u001b[1;34m(*args, **kwargs)\u001b[0m\n\u001b[0;32m     65\u001b[0m \u001b[38;5;28;01mexcept\u001b[39;00m \u001b[38;5;167;01mException\u001b[39;00m \u001b[38;5;28;01mas\u001b[39;00m e:  \u001b[38;5;66;03m# pylint: disable=broad-except\u001b[39;00m\n\u001b[0;32m     66\u001b[0m   filtered_tb \u001b[38;5;241m=\u001b[39m _process_traceback_frames(e\u001b[38;5;241m.\u001b[39m__traceback__)\n\u001b[1;32m---> 67\u001b[0m   \u001b[38;5;28;01mraise\u001b[39;00m e\u001b[38;5;241m.\u001b[39mwith_traceback(filtered_tb) \u001b[38;5;28;01mfrom\u001b[39;00m \u001b[38;5;28mNone\u001b[39m\n\u001b[0;32m     68\u001b[0m \u001b[38;5;28;01mfinally\u001b[39;00m:\n\u001b[0;32m     69\u001b[0m   \u001b[38;5;28;01mdel\u001b[39;00m filtered_tb\n",
      "File \u001b[1;32mC:\\ProgramData\\Anaconda3\\envs\\tf-gpu\\lib\\site-packages\\keras\\engine\\functional.py:1271\u001b[0m, in \u001b[0;36mreconstruct_from_config.<locals>.process_node\u001b[1;34m(layer, node_data)\u001b[0m\n\u001b[0;32m   1268\u001b[0m     \u001b[38;5;28;01mreturn\u001b[39;00m \u001b[38;5;28;01mFalse\u001b[39;00m\n\u001b[0;32m   1269\u001b[0m   inbound_node \u001b[38;5;241m=\u001b[39m inbound_layer\u001b[38;5;241m.\u001b[39m_inbound_nodes[inbound_node_index]\n\u001b[0;32m   1270\u001b[0m   input_tensors\u001b[38;5;241m.\u001b[39mappend(\n\u001b[1;32m-> 1271\u001b[0m       \u001b[43mtf\u001b[49m\u001b[38;5;241;43m.\u001b[39;49m\u001b[43mnest\u001b[49m\u001b[38;5;241;43m.\u001b[39;49m\u001b[43mflatten\u001b[49m\u001b[43m(\u001b[49m\u001b[43minbound_node\u001b[49m\u001b[38;5;241;43m.\u001b[39;49m\u001b[43moutputs\u001b[49m\u001b[43m)\u001b[49m\u001b[43m[\u001b[49m\u001b[43minbound_tensor_index\u001b[49m\u001b[43m]\u001b[49m)\n\u001b[0;32m   1272\u001b[0m \u001b[38;5;28;01melse\u001b[39;00m:\n\u001b[0;32m   1273\u001b[0m   \u001b[38;5;66;03m# We received a constant w/ no Keras history attached\u001b[39;00m\n\u001b[0;32m   1274\u001b[0m   input_tensors\u001b[38;5;241m.\u001b[39mappend(inbound_tensor_index)\n",
      "\u001b[1;31mIndexError\u001b[0m: list index out of range"
     ]
    }
   ],
   "source": [
    "fe = keras.models.load_model('encoder.h5')"
   ]
  },
  {
   "cell_type": "code",
   "execution_count": 3,
   "id": "a4f9657f-09c3-4975-b79e-a65b5a7b1034",
   "metadata": {},
   "outputs": [],
   "source": [
    "import tensorflow as tf\n",
    "from tensorflow.keras.layers import MaxPooling2D,Conv2D,Flatten,Dense,Input,GlobalAveragePooling2D\n",
    "from tensorflow.keras import Model\n",
    "from tensorflow import keras\n",
    "\n",
    "class Localization(tf.keras.layers.Layer):\n",
    "    def __init__(self, \n",
    "                 filters_1: int, \n",
    "                 filters_2: int, \n",
    "                 fc_units: int, \n",
    "                 kernel_size=(5,5),\n",
    "                 pool_size=(2,2),\n",
    "                 name='localization', \n",
    "                 **kwargs):\n",
    "        super(Localization, self).__init__(**kwargs)\n",
    "        self.filters_1 = filters_1\n",
    "        self.filters_2 = filters_2\n",
    "        self.fc_units = fc_units\n",
    "        self.kernel_size = kernel_size\n",
    "        self.pool_size = pool_size\n",
    "        self.network = keras.Sequential(\n",
    "            [\n",
    "                MaxPooling2D(pool_size=pool_size, name=name+'_mp_1'),\n",
    "                Conv2D(filters=filters_1, \n",
    "                       kernel_size=kernel_size, \n",
    "                       padding='same', \n",
    "                       strides=1, \n",
    "                       activation='relu',\n",
    "                       name=name+'_c_1'),\n",
    "                MaxPooling2D(pool_size=pool_size, name=name+'_mp_2'),\n",
    "                Conv2D(filters=filters_2, \n",
    "                       kernel_size=kernel_size, \n",
    "                       padding='same', \n",
    "                       strides=1, \n",
    "                       activation='relu',\n",
    "                       name=name+'_c_2'),\n",
    "                MaxPooling2D(pool_size=pool_size, name=name+'_mp_3'),\n",
    "                Flatten(name=name+'_fl'),\n",
    "                Dense(fc_units, activation='relu', name=name+'_d_1'),\n",
    "                Dense(6, activation=None, \n",
    "                      bias_initializer=tf.keras.initializers.constant\\\n",
    "                      ([1.0, 0.0, 0.0, 0.0, 1.0, 0.0]), \n",
    "                      kernel_initializer='zeros',\n",
    "                      name=name+'_d_2'),\n",
    "            ]\n",
    "        )\n",
    "\n",
    "    def build(self, input_shape):\n",
    "        print(\"Building Localization Network with input shape:\", input_shape)\n",
    "\n",
    "    def compute_output_shape(self, input_shape):\n",
    "        return [None, 6]\n",
    "\n",
    "    def call(self, inputs):\n",
    "        theta = self.network(inputs)\n",
    "        theta = tf.keras.layers.Reshape((2, 3))(theta)\n",
    "        return theta\n",
    "\n",
    "    def get_config(self):\n",
    "        config = super(Localization, self).get_config()\n",
    "        config.update({\n",
    "            'filters_1': self.filters_1,\n",
    "            'filters_2': self.filters_2,\n",
    "            'fc_units': self.fc_units,\n",
    "            'kernel_size': self.kernel_size,\n",
    "            'pool_size': self.pool_size,\n",
    "        })\n",
    "        return config\n",
    "     \n",
    "class BilinearInterpolation(tf.keras.layers.Layer):\n",
    "    def __init__(self, height=48, width=48):\n",
    "        super(BilinearInterpolation, self).__init__()\n",
    "        self.height = height\n",
    "        self.width = width\n",
    "\n",
    "    def compute_output_shape(self, input_shape):\n",
    "        return [None, self.height, self.width, 1]\n",
    "\n",
    "    def get_config(self):\n",
    "        return {\n",
    "            'height': self.height,\n",
    "            'width': self.width,\n",
    "        }\n",
    "    \n",
    "    def build(self, input_shape):\n",
    "        print(\"Building Bilinear Interpolation Layer with input shape:\", input_shape)\n",
    "\n",
    "    def advance_indexing(self, inputs, x, y):\n",
    "        '''\n",
    "        Utility function to get pixel value for coordinate\n",
    "        vectors x and y from a  4D tensor image.\n",
    "        '''        \n",
    "        shape = tf.shape(inputs)\n",
    "        batch_size, _, _ = shape[0], shape[1], shape[2]\n",
    "        \n",
    "        batch_idx = tf.range(0, batch_size)\n",
    "        batch_idx = tf.reshape(batch_idx, (batch_size, 1, 1))\n",
    "        b = tf.tile(batch_idx, (1, self.height, self.width))\n",
    "        indices = tf.stack([b, y, x], 3)\n",
    "        return tf.gather_nd(inputs, indices)\n",
    "\n",
    "    def call(self, inputs):\n",
    "        images, theta = inputs\n",
    "        sampling_grid = self.grid_generator(batch=tf.shape(images)[0])\n",
    "        return self.interpolate(images, sampling_grid, theta)\n",
    "\n",
    "    def grid_generator(self, batch):\n",
    "        '''\n",
    "        This function returns a sampling grid, which when\n",
    "        used with the bilinear sampler on the input feature\n",
    "        map, will create an output feature map that is an\n",
    "        affine transformation of the input feature map.\n",
    "        '''\n",
    "        # create normalized 2D grid\n",
    "        x = tf.linspace(-1, 1, self.width)\n",
    "        y = tf.linspace(-1, 1, self.height)\n",
    "        # x and y are selected in the range of -1 to 1 so the the transformation happens considering the center\n",
    "        # of the image as the origin. The images will be later scaled up.\n",
    "        xx, yy = tf.meshgrid(x, y)\n",
    "            \n",
    "        # flatten\n",
    "        xx = tf.reshape(xx, (-1,))\n",
    "        yy = tf.reshape(yy, (-1,))\n",
    "\n",
    "        # reshape to [x_t, y_t , 1] - (homogeneous form)\n",
    "        homogenous_coordinates = tf.stack([xx, yy, tf.ones_like(xx)])\n",
    "        # # repeat grid num_batch times\n",
    "        # sampling_grid = np.resize(sampling_grid, (num_batch, 3, H*W))\n",
    "        # repeat grid num_batch times\n",
    "        homogenous_coordinates = tf.expand_dims(homogenous_coordinates, axis=0)\n",
    "        homogenous_coordinates = tf.tile(homogenous_coordinates, tf.stack([batch, 1, 1]))\n",
    "        # homogenous_coordinates = tf.tile(homogenous_coordinates, [batch, 1, 1])\n",
    "\n",
    "        # cast to float32 (required for matmul)\n",
    "        homogenous_coordinates = tf.cast(homogenous_coordinates, dtype=tf.float32)\n",
    "\n",
    "        return homogenous_coordinates\n",
    "    \n",
    "    def interpolate(self, images, grid, theta):\n",
    "        '''\n",
    "        Performs bilinear sampling of the input images according to the\n",
    "        normalized coordinates provided by the sampling grid. Note that\n",
    "        the sampling is done identically for each channel of the input.\n",
    "        '''\n",
    "\n",
    "        with tf.name_scope(\"Transformation\"):\n",
    "            # transform the sampling grid - batch multiply\n",
    "            transformed = tf.matmul(theta, grid)\n",
    "            # batch grid has shape (num_batch, 2, H*W)\n",
    "\n",
    "            # reshape to (num_batch, H, W, 2)\n",
    "            transformed = tf.transpose(transformed, perm=[0, 2, 1])\n",
    "            transformed = tf.reshape(transformed, [-1, self.height, self.width, 2])\n",
    "                \n",
    "            x_transformed = transformed[:, :, :, 0]\n",
    "            y_transformed = transformed[:, :, :, 1]\n",
    "                \n",
    "            # rescale x and y to [0, W-1/H-1]\n",
    "            x = ((x_transformed + 1.) * tf.cast(self.width, dtype=tf.float32)) * 0.5\n",
    "            y = ((y_transformed + 1.) * tf.cast(self.height, dtype=tf.float32)) * 0.5\n",
    "\n",
    "        with tf.name_scope(\"VariableCasting\"):\n",
    "            # grab 4 nearest corner points for each (x_i, y_i)\n",
    "            x0 = tf.cast(tf.math.floor(x), dtype=tf.int32)\n",
    "            x1 = x0 + 1\n",
    "            y0 = tf.cast(tf.math.floor(y), dtype=tf.int32)\n",
    "            y1 = y0 + 1\n",
    "\n",
    "            # clip to range [0, H-1/W-1] to not violate img boundaries\n",
    "            x0 = tf.clip_by_value(x0, 0, self.width-1)\n",
    "            x1 = tf.clip_by_value(x1, 0, self.width-1)\n",
    "            y0 = tf.clip_by_value(y0, 0, self.height-1)\n",
    "            y1 = tf.clip_by_value(y1, 0, self.height-1)\n",
    "            x = tf.clip_by_value(x, 0, tf.cast(self.width, dtype=tf.float32)-1.0)\n",
    "            y = tf.clip_by_value(y, 0, tf.cast(self.height, dtype=tf.float32)-1)\n",
    "\n",
    "        with tf.name_scope(\"AdvanceIndexing\"):\n",
    "            # get pixel value at corner coords\n",
    "            Ia = self.advance_indexing(images, x0, y0)\n",
    "            Ib = self.advance_indexing(images, x0, y1)\n",
    "            Ic = self.advance_indexing(images, x1, y0)\n",
    "            Id = self.advance_indexing(images, x1, y1)\n",
    "\n",
    "        with tf.name_scope(\"Interpolation\"):\n",
    "            # recast as float for delta calculation\n",
    "            x0 = tf.cast(x0, dtype=tf.float32)\n",
    "            x1 = tf.cast(x1, dtype=tf.float32)\n",
    "            y0 = tf.cast(y0, dtype=tf.float32)\n",
    "            y1 = tf.cast(y1, dtype=tf.float32)\n",
    "                            \n",
    "            # calculate deltas\n",
    "            wa = (x1-x) * (y1-y)\n",
    "            wb = (x1-x) * (y-y0)\n",
    "            wc = (x-x0) * (y1-y)\n",
    "            wd = (x-x0) * (y-y0)\n",
    "\n",
    "            # add dimension for addition\n",
    "            wa = tf.expand_dims(wa, axis=3)\n",
    "            wb = tf.expand_dims(wb, axis=3)\n",
    "            wc = tf.expand_dims(wc, axis=3)\n",
    "            wd = tf.expand_dims(wd, axis=3)\n",
    "                        \n",
    "        return tf.math.add_n([wa*Ia + wb*Ib + wc*Ic + wd*Id])"
   ]
  },
  {
   "cell_type": "code",
   "execution_count": 10,
   "id": "6cf53b83-ccc8-4e73-8823-8e8583046b8c",
   "metadata": {},
   "outputs": [],
   "source": [
    "from tensorflow.keras.applications import DenseNet121\n",
    "from models.blocks import conv_block,dcp"
   ]
  },
  {
   "cell_type": "code",
   "execution_count": 24,
   "id": "3b2b61ad-0414-439e-a80f-61981e88b005",
   "metadata": {},
   "outputs": [],
   "source": [
    "def stn(x):\n",
    "    theta = Localization(100,100,100)(x)\n",
    "    h,w = [x.shape[1],x.shape[2]]\n",
    "    return BilinearInterpolation(height=h,width=w)([x, theta]) "
   ]
  },
  {
   "cell_type": "code",
   "execution_count": 25,
   "id": "0375099a-72cc-4863-8a3d-492e13bb6cbd",
   "metadata": {},
   "outputs": [
    {
     "name": "stdout",
     "output_type": "stream",
     "text": [
      "Building Localization Network with input shape: (None, 8, 8, 100)\n",
      "Building Bilinear Interpolation Layer with input shape: [TensorShape([None, 8, 8, 100]), TensorShape([None, 2, 3])]\n"
     ]
    }
   ],
   "source": [
    "inp = keras.layers.Input((64,64,3))\n",
    "densnet = DenseNet121(input_shape=(64,64,3),weights='imagenet',include_top=False)\n",
    "dens_encoder = keras.Model(inputs=densnet.inputs,outputs=densnet.get_layer('conv3_block1_concat').output)\n",
    "x = dens_encoder(inp)\n",
    "x = keras.layers.Conv2D(kernel_size=(1,1),filters=100,padding='same',kernel_initializer='he_normal')(x)\n",
    "x = stn(x)\n",
    "x = conv_block(x,kernel_size=(3,3),n_filters=100,strides=(1,1))\n",
    "x = dcp(x,n_filters=100,kernel_size=(3,3))\n",
    "x = keras.layers.MaxPooling2D(pool_size=(2,2),strides=(2,2))(x)\n",
    "x = keras.layers.Flatten()(x)\n",
    "x = keras.layers.Dense(units=400,activation='linear',kernel_initializer=\"he_normal\")(x)\n",
    "c = keras.Model(inp,outputs=x,name='encoder')"
   ]
  },
  {
   "cell_type": "code",
   "execution_count": 26,
   "id": "ebc1d794-681c-4b13-a074-54399e62705d",
   "metadata": {},
   "outputs": [
    {
     "name": "stdout",
     "output_type": "stream",
     "text": [
      "WARNING:tensorflow:Compiled the loaded model, but the compiled metrics have yet to be built. `model.compile_metrics` will be empty until you train or evaluate the model.\n"
     ]
    }
   ],
   "source": [
    "c.save('test.h5')"
   ]
  },
  {
   "cell_type": "code",
   "execution_count": 27,
   "id": "939fa5be-a650-409a-a7ba-67c6d289ec6a",
   "metadata": {},
   "outputs": [
    {
     "name": "stdout",
     "output_type": "stream",
     "text": [
      "Building Localization Network with input shape: (None, 8, 8, 100)\n",
      "Building Bilinear Interpolation Layer with input shape: [TensorShape([None, 8, 8, 100]), TensorShape([None, 2, 3])]\n",
      "WARNING:tensorflow:No training configuration found in the save file, so the model was *not* compiled. Compile it manually.\n"
     ]
    }
   ],
   "source": [
    "c2 = keras.models.load_model('test.h5',custom_objects={'Localization':Localization,'BilinearInterpolation':BilinearInterpolation})"
   ]
  },
  {
   "cell_type": "code",
   "execution_count": 28,
   "id": "4f1d0a3d-caf4-4bb2-b990-69b7a4fcc7c3",
   "metadata": {},
   "outputs": [
    {
     "name": "stdout",
     "output_type": "stream",
     "text": [
      "Model: \"encoder\"\n",
      "__________________________________________________________________________________________________\n",
      " Layer (type)                   Output Shape         Param #     Connected to                     \n",
      "==================================================================================================\n",
      " input_14 (InputLayer)          [(None, 64, 64, 3)]  0           []                               \n",
      "                                                                                                  \n",
      " model_5 (Functional)           (None, 8, 8, 160)    436032      ['input_14[0][0]']               \n",
      "                                                                                                  \n",
      " conv2d_16 (Conv2D)             (None, 8, 8, 100)    16100       ['model_5[0][0]']                \n",
      "                                                                                                  \n",
      " localization_8 (Localization)  (None, 2, 3)         510906      ['conv2d_16[0][0]']              \n",
      "                                                                                                  \n",
      " bilinear_interpolation_5 (Bili  (None, 8, 8, 100)   0           ['conv2d_16[0][0]',              \n",
      " nearInterpolation)                                               'localization_8[0][0]']         \n",
      "                                                                                                  \n",
      " conv2d_17 (Conv2D)             (None, 6, 6, 100)    90100       ['bilinear_interpolation_5[0][0]'\n",
      "                                                                 ]                                \n",
      "                                                                                                  \n",
      " batch_normalization_4 (BatchNo  (None, 6, 6, 100)   24          ['conv2d_17[0][0]']              \n",
      " rmalization)                                                                                     \n",
      "                                                                                                  \n",
      " activation_4 (Activation)      (None, 6, 6, 100)    0           ['batch_normalization_4[0][0]']  \n",
      "                                                                                                  \n",
      " conv2d_18 (Conv2D)             (None, 6, 6, 100)    90100       ['activation_4[0][0]']           \n",
      "                                                                                                  \n",
      " conv2d_19 (Conv2D)             (None, 6, 6, 100)    90100       ['activation_4[0][0]']           \n",
      "                                                                                                  \n",
      " conv2d_20 (Conv2D)             (None, 6, 6, 100)    90100       ['activation_4[0][0]']           \n",
      "                                                                                                  \n",
      " conv2d_21 (Conv2D)             (None, 6, 6, 100)    90100       ['activation_4[0][0]']           \n",
      "                                                                                                  \n",
      " concatenate_2 (Concatenate)    (None, 6, 6, 400)    0           ['conv2d_18[0][0]',              \n",
      "                                                                  'conv2d_19[0][0]',              \n",
      "                                                                  'conv2d_20[0][0]',              \n",
      "                                                                  'conv2d_21[0][0]']              \n",
      "                                                                                                  \n",
      " batch_normalization_5 (BatchNo  (None, 6, 6, 400)   24          ['concatenate_2[0][0]']          \n",
      " rmalization)                                                                                     \n",
      "                                                                                                  \n",
      " activation_5 (Activation)      (None, 6, 6, 400)    0           ['batch_normalization_5[0][0]']  \n",
      "                                                                                                  \n",
      " max_pooling2d_2 (MaxPooling2D)  (None, 3, 3, 400)   0           ['activation_5[0][0]']           \n",
      "                                                                                                  \n",
      " flatten_2 (Flatten)            (None, 3600)         0           ['max_pooling2d_2[0][0]']        \n",
      "                                                                                                  \n",
      " dense_2 (Dense)                (None, 400)          1440400     ['flatten_2[0][0]']              \n",
      "                                                                                                  \n",
      "==================================================================================================\n",
      "Total params: 2,853,986\n",
      "Trainable params: 2,849,546\n",
      "Non-trainable params: 4,440\n",
      "__________________________________________________________________________________________________\n"
     ]
    }
   ],
   "source": [
    "c2.summary()"
   ]
  },
  {
   "cell_type": "code",
   "execution_count": null,
   "id": "e3d2010f-e9ee-48fa-9260-44219933bb1c",
   "metadata": {},
   "outputs": [],
   "source": []
  }
 ],
 "metadata": {
  "kernelspec": {
   "display_name": "tf-gpu",
   "language": "python",
   "name": "tf-gpu"
  },
  "language_info": {
   "codemirror_mode": {
    "name": "ipython",
    "version": 3
   },
   "file_extension": ".py",
   "mimetype": "text/x-python",
   "name": "python",
   "nbconvert_exporter": "python",
   "pygments_lexer": "ipython3",
   "version": "3.8.12"
  }
 },
 "nbformat": 4,
 "nbformat_minor": 5
}
